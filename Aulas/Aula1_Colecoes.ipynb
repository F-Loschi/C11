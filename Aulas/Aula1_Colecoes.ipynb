{
  "nbformat": 4,
  "nbformat_minor": 0,
  "metadata": {
    "colab": {
      "provenance": [],
      "collapsed_sections": [
        "Y3SxnJJotyNr",
        "Pvm41I50yx7l",
        "WmrnUe3TzRm7",
        "jopP56p73b8E",
        "gOh5nYTm3gS2",
        "xw5eMhTU5oy9"
      ]
    },
    "kernelspec": {
      "name": "python3",
      "display_name": "Python 3"
    },
    "language_info": {
      "name": "python"
    }
  },
  "cells": [
    {
      "cell_type": "markdown",
      "source": [
        "## Brincando com tuplas"
      ],
      "metadata": {
        "id": "Y3SxnJJotyNr"
      }
    },
    {
      "cell_type": "markdown",
      "source": [
        "### Criando e guardando elementos em uma tupla"
      ],
      "metadata": {
        "id": "83SUiVwCuz94"
      }
    },
    {
      "cell_type": "code",
      "execution_count": 3,
      "metadata": {
        "colab": {
          "base_uri": "https://localhost:8080/"
        },
        "id": "VyTHp-fZtr-3",
        "outputId": "e3683b83-88d8-4409-d643-f620dbc4ef50"
      },
      "outputs": [
        {
          "output_type": "stream",
          "name": "stdout",
          "text": [
            "('Luffy', 'Zoro', 'Namy', 'Chopper')\n"
          ]
        }
      ],
      "source": [
        "tupla = ('Luffy', 'Zoro', 'Namy', 'Chopper')\n",
        "print(tupla)"
      ]
    },
    {
      "cell_type": "markdown",
      "source": [
        "### Alterando elementos de dentro da tupla"
      ],
      "metadata": {
        "id": "0s3MDWNEu4yF"
      }
    },
    {
      "cell_type": "code",
      "source": [
        "#tupla[0] = 'Sanji'\n",
        "#print(tupla)"
      ],
      "metadata": {
        "id": "QnazExwKuUiY"
      },
      "execution_count": 5,
      "outputs": []
    },
    {
      "cell_type": "markdown",
      "source": [
        "Não deu certo porque uma tupla é imutável uma vez criada"
      ],
      "metadata": {
        "id": "vo2Z-V31vN1m"
      }
    },
    {
      "cell_type": "markdown",
      "source": [
        "Por que fazer ela então?\n",
        "\n",
        "\n",
        "*   Tupla é um formato seguro, já que ele não é mutável\n",
        "*   É útil para quando você quer algo que só seja acessável e não mutável\n",
        "\n",
        "\n"
      ],
      "metadata": {
        "id": "nSj5BhOQvVEg"
      }
    },
    {
      "cell_type": "markdown",
      "source": [
        "### Navegação"
      ],
      "metadata": {
        "id": "NuaJNRlvwL9R"
      }
    },
    {
      "cell_type": "markdown",
      "source": [
        "Podemos navegar pela tupla de algumas formas:"
      ],
      "metadata": {
        "id": "e7qjrmV1wOsA"
      }
    },
    {
      "cell_type": "code",
      "source": [
        "print(tupla)"
      ],
      "metadata": {
        "colab": {
          "base_uri": "https://localhost:8080/"
        },
        "id": "l-JZkzFYubYp",
        "outputId": "a111cd75-5599-473d-f465-918ae6ba6309"
      },
      "execution_count": 6,
      "outputs": [
        {
          "output_type": "stream",
          "name": "stdout",
          "text": [
            "('Luffy', 'Zoro', 'Namy', 'Chopper')\n"
          ]
        }
      ]
    },
    {
      "cell_type": "code",
      "source": [
        "print(tupla[0])"
      ],
      "metadata": {
        "colab": {
          "base_uri": "https://localhost:8080/"
        },
        "id": "y528jbThwVDq",
        "outputId": "84d2cf91-dfab-43cf-91a6-d658697ee6d8"
      },
      "execution_count": 7,
      "outputs": [
        {
          "output_type": "stream",
          "name": "stdout",
          "text": [
            "Luffy\n"
          ]
        }
      ]
    },
    {
      "cell_type": "code",
      "source": [
        "print(tupla[-1])"
      ],
      "metadata": {
        "colab": {
          "base_uri": "https://localhost:8080/"
        },
        "id": "vrPj0-nkwgBH",
        "outputId": "2217e606-b312-407f-b66c-75ade606a270"
      },
      "execution_count": 8,
      "outputs": [
        {
          "output_type": "stream",
          "name": "stdout",
          "text": [
            "Chopper\n"
          ]
        }
      ]
    },
    {
      "cell_type": "code",
      "source": [
        "print(tupla[0:2])"
      ],
      "metadata": {
        "colab": {
          "base_uri": "https://localhost:8080/"
        },
        "id": "fVw-GCApwh32",
        "outputId": "e3e87560-1e73-4524-dae6-3c1b6179dbec"
      },
      "execution_count": 9,
      "outputs": [
        {
          "output_type": "stream",
          "name": "stdout",
          "text": [
            "('Luffy', 'Zoro')\n"
          ]
        }
      ]
    },
    {
      "cell_type": "code",
      "source": [
        "print(tupla[:2])"
      ],
      "metadata": {
        "colab": {
          "base_uri": "https://localhost:8080/"
        },
        "id": "KsAXKLNowkM_",
        "outputId": "1c102a6c-fc6c-4d73-890d-9bf2d8d5cba2"
      },
      "execution_count": 10,
      "outputs": [
        {
          "output_type": "stream",
          "name": "stdout",
          "text": [
            "('Luffy', 'Zoro')\n"
          ]
        }
      ]
    },
    {
      "cell_type": "code",
      "source": [
        "print(tupla[2:])"
      ],
      "metadata": {
        "colab": {
          "base_uri": "https://localhost:8080/"
        },
        "id": "HCoTu8Ovwmt9",
        "outputId": "9149980f-7e98-4275-a667-95f09032bf58"
      },
      "execution_count": 11,
      "outputs": [
        {
          "output_type": "stream",
          "name": "stdout",
          "text": [
            "('Namy', 'Chopper')\n"
          ]
        }
      ]
    },
    {
      "cell_type": "markdown",
      "source": [
        "Esses usos de navegação por uma tupla são chamados de ***slicing de elementos*** em Data Science"
      ],
      "metadata": {
        "id": "qkldfI53wsgO"
      }
    },
    {
      "cell_type": "markdown",
      "source": [
        "Lembrando que para esse meio de navegação de tupla, (a:b), o elemento \"a\" é inclusivo, ou seja, ele aparece quando chamado, mas o elemento \"b\" é exclusivo, ou seja, ele não aparece quando chamado"
      ],
      "metadata": {
        "id": "OboBVYqKxLXP"
      }
    },
    {
      "cell_type": "markdown",
      "source": [
        "### Algumas funções pré-prontas do Python para mexer com tuplas:"
      ],
      "metadata": {
        "id": "Pvm41I50yx7l"
      }
    },
    {
      "cell_type": "code",
      "source": [
        "print(len(tupla))\n",
        "print(max(tupla))\n",
        "print(min(tupla))"
      ],
      "metadata": {
        "colab": {
          "base_uri": "https://localhost:8080/"
        },
        "id": "kAi5Xm_7wpDw",
        "outputId": "3dbfdec1-c792-41e7-ad7b-e33dc738f522"
      },
      "execution_count": 12,
      "outputs": [
        {
          "output_type": "stream",
          "name": "stdout",
          "text": [
            "4\n",
            "Zoro\n",
            "Chopper\n"
          ]
        }
      ]
    },
    {
      "cell_type": "markdown",
      "source": [
        ".min() e .max() funcionam com texto porque o Python puxa pela tabela ASCII, o que retorna a ordem alfabética, com resalvas pra maiusculo e minusculo"
      ],
      "metadata": {
        "id": "2JvfmiJg1ZmO"
      }
    },
    {
      "cell_type": "markdown",
      "source": [
        "## Brincando com listas"
      ],
      "metadata": {
        "id": "WmrnUe3TzRm7"
      }
    },
    {
      "cell_type": "markdown",
      "source": [
        "-   É uma coleção mutável\n",
        "-   São heterogêneas, posso colocar vários tipos dentro\n",
        "  -   Causa problemas de manipulação posterior, mas é possível de fazer\n",
        "-   Permite alteração, inclusão, remoção e visualização\n",
        "-   Definido com [  ]"
      ],
      "metadata": {
        "id": "k40ymJ9NzV3j"
      }
    },
    {
      "cell_type": "markdown",
      "source": [
        "###***Criando e mostrando***"
      ],
      "metadata": {
        "id": "rI-TaB2a0AWW"
      }
    },
    {
      "cell_type": "code",
      "source": [
        "lista = ['Luffy', 'Zoro', 'Namy', 'Chopper']\n",
        "print(lista)"
      ],
      "metadata": {
        "colab": {
          "base_uri": "https://localhost:8080/"
        },
        "id": "18O8WL66y-Kz",
        "outputId": "c2a613b1-785c-4bf9-87fa-232ba176dacd"
      },
      "execution_count": 13,
      "outputs": [
        {
          "output_type": "stream",
          "name": "stdout",
          "text": [
            "['Luffy', 'Zoro', 'Namy', 'Chopper']\n"
          ]
        }
      ]
    },
    {
      "cell_type": "markdown",
      "source": [
        "###***Inserindo***"
      ],
      "metadata": {
        "id": "mmBfOgxB0ECt"
      }
    },
    {
      "cell_type": "code",
      "source": [
        "lista.append('Sanji')#.append adiciona no fim da lista\n",
        "print(lista)"
      ],
      "metadata": {
        "colab": {
          "base_uri": "https://localhost:8080/"
        },
        "id": "smQ0z4-az-1b",
        "outputId": "3f097938-4188-408b-ab27-5149cd01f451"
      },
      "execution_count": 14,
      "outputs": [
        {
          "output_type": "stream",
          "name": "stdout",
          "text": [
            "['Luffy', 'Zoro', 'Namy', 'Chopper', 'Sanji']\n"
          ]
        }
      ]
    },
    {
      "cell_type": "code",
      "source": [
        "lista.insert(0, 'Usopp')#.insert adiciona em uma posição específica da lista\n",
        "print(lista)"
      ],
      "metadata": {
        "colab": {
          "base_uri": "https://localhost:8080/"
        },
        "id": "MWnOm2KA0WWV",
        "outputId": "db5f3d32-2766-47be-8da2-d8f94a0338ae"
      },
      "execution_count": 15,
      "outputs": [
        {
          "output_type": "stream",
          "name": "stdout",
          "text": [
            "['Usopp', 'Luffy', 'Zoro', 'Namy', 'Chopper', 'Sanji']\n"
          ]
        }
      ]
    },
    {
      "cell_type": "markdown",
      "source": [
        "###***Alterando***"
      ],
      "metadata": {
        "id": "Hv48cs8v0j_l"
      }
    },
    {
      "cell_type": "code",
      "source": [
        "lista[0] = 'Brook'\n",
        "lista"
      ],
      "metadata": {
        "colab": {
          "base_uri": "https://localhost:8080/"
        },
        "id": "AN5mP8Ry0YFu",
        "outputId": "34f0df19-9fa8-4606-aad6-02f1d7dea0e0"
      },
      "execution_count": 16,
      "outputs": [
        {
          "output_type": "execute_result",
          "data": {
            "text/plain": [
              "['Brook', 'Luffy', 'Zoro', 'Namy', 'Chopper', 'Sanji']"
            ]
          },
          "metadata": {},
          "execution_count": 16
        }
      ]
    },
    {
      "cell_type": "markdown",
      "source": [
        "###***Excluindo***"
      ],
      "metadata": {
        "id": "eA4b2aan1D5B"
      }
    },
    {
      "cell_type": "code",
      "source": [
        "del lista[0]#Deleta pelo índice\n",
        "lista"
      ],
      "metadata": {
        "colab": {
          "base_uri": "https://localhost:8080/"
        },
        "id": "McySBN5S0vVI",
        "outputId": "82ccb0d4-6e25-49a2-edd5-0925e985e346"
      },
      "execution_count": 17,
      "outputs": [
        {
          "output_type": "execute_result",
          "data": {
            "text/plain": [
              "['Luffy', 'Zoro', 'Namy', 'Chopper', 'Sanji']"
            ]
          },
          "metadata": {},
          "execution_count": 17
        }
      ]
    },
    {
      "cell_type": "code",
      "source": [
        "lista.remove('Sanji')#Deleta pelo valor\n",
        "lista"
      ],
      "metadata": {
        "colab": {
          "base_uri": "https://localhost:8080/"
        },
        "id": "IjrL6Bls1QeO",
        "outputId": "0ef4d0e5-d6a5-4fd5-dbe1-a163cf8e610e"
      },
      "execution_count": 18,
      "outputs": [
        {
          "output_type": "execute_result",
          "data": {
            "text/plain": [
              "['Luffy', 'Zoro', 'Namy', 'Chopper']"
            ]
          },
          "metadata": {},
          "execution_count": 18
        }
      ]
    },
    {
      "cell_type": "markdown",
      "source": [
        "###***Ordenando***"
      ],
      "metadata": {
        "id": "3F8Kkz4i1uVc"
      }
    },
    {
      "cell_type": "code",
      "source": [
        "lista.sort()#Organiza em ordem alfabética\n",
        "lista"
      ],
      "metadata": {
        "colab": {
          "base_uri": "https://localhost:8080/"
        },
        "id": "p-8-IgtZ1TX5",
        "outputId": "577749d3-1060-40e7-e42f-015a5a87dbae"
      },
      "execution_count": 19,
      "outputs": [
        {
          "output_type": "execute_result",
          "data": {
            "text/plain": [
              "['Chopper', 'Luffy', 'Namy', 'Zoro']"
            ]
          },
          "metadata": {},
          "execution_count": 19
        }
      ]
    },
    {
      "cell_type": "code",
      "source": [
        "lista.sort(reverse=True)#Organiza em ordem alfabética inversa\n",
        "lista"
      ],
      "metadata": {
        "colab": {
          "base_uri": "https://localhost:8080/"
        },
        "id": "qJEQLiAs10RN",
        "outputId": "d3134243-ccbf-4ba5-abdf-ccc0b718c558"
      },
      "execution_count": 20,
      "outputs": [
        {
          "output_type": "execute_result",
          "data": {
            "text/plain": [
              "['Zoro', 'Namy', 'Luffy', 'Chopper']"
            ]
          },
          "metadata": {},
          "execution_count": 20
        }
      ]
    },
    {
      "cell_type": "markdown",
      "source": [
        "##Brincando com conjuntos"
      ],
      "metadata": {
        "id": "kNA9IFfQ16_O"
      }
    },
    {
      "cell_type": "markdown",
      "source": [
        "-   É uma coleção não ordenada e não permite elementos duplicados\n",
        "-   Guarda dentro de { }"
      ],
      "metadata": {
        "id": "Jyb9b2tb19jB"
      }
    },
    {
      "cell_type": "markdown",
      "source": [
        "###***Criando e mostrando***"
      ],
      "metadata": {
        "id": "jopP56p73b8E"
      }
    },
    {
      "cell_type": "code",
      "source": [
        "conjunto = {'Luffy', 'Zoro', 'Namy', 'Chopper'}\n",
        "conjunto"
      ],
      "metadata": {
        "colab": {
          "base_uri": "https://localhost:8080/"
        },
        "id": "kYUCUd7g12pT",
        "outputId": "915fcfe5-c98d-4b9d-a54d-d3fcfc11dbf1"
      },
      "execution_count": 21,
      "outputs": [
        {
          "output_type": "execute_result",
          "data": {
            "text/plain": [
              "{'Chopper', 'Luffy', 'Namy', 'Zoro'}"
            ]
          },
          "metadata": {},
          "execution_count": 21
        }
      ]
    },
    {
      "cell_type": "markdown",
      "source": [
        "###***Adicionando***"
      ],
      "metadata": {
        "id": "gOh5nYTm3gS2"
      }
    },
    {
      "cell_type": "code",
      "source": [
        "conjunto.add('Sanji')\n",
        "conjunto"
      ],
      "metadata": {
        "colab": {
          "base_uri": "https://localhost:8080/"
        },
        "id": "X3sJr5Wv2vv7",
        "outputId": "1771fdd3-9539-4552-ba33-74c673027806"
      },
      "execution_count": 22,
      "outputs": [
        {
          "output_type": "execute_result",
          "data": {
            "text/plain": [
              "{'Chopper', 'Luffy', 'Namy', 'Sanji', 'Zoro'}"
            ]
          },
          "metadata": {},
          "execution_count": 22
        }
      ]
    },
    {
      "cell_type": "markdown",
      "source": [
        "***Tentando adicionar elemento repitido***"
      ],
      "metadata": {
        "id": "P3l0sHk635An"
      }
    },
    {
      "cell_type": "code",
      "source": [
        "conjunto.add('Sanji')\n",
        "conjunto"
      ],
      "metadata": {
        "colab": {
          "base_uri": "https://localhost:8080/"
        },
        "id": "IPrGrAxV3kYn",
        "outputId": "cf42c740-e9c3-4844-94c9-568263011a3d"
      },
      "execution_count": 27,
      "outputs": [
        {
          "output_type": "execute_result",
          "data": {
            "text/plain": [
              "{'Chopper', 'Luffy', 'Namy', 'Sanji', 'Zoro'}"
            ]
          },
          "metadata": {},
          "execution_count": 27
        }
      ]
    },
    {
      "cell_type": "markdown",
      "source": [
        "***Mas não dá certo porque ele não permite repetição***"
      ],
      "metadata": {
        "id": "F-r23Vxn4A2q"
      }
    },
    {
      "cell_type": "markdown",
      "source": [
        "###***Removendo***"
      ],
      "metadata": {
        "id": "nMYiS84W4pb_"
      }
    },
    {
      "cell_type": "code",
      "source": [
        "conjunto.remove('Sanji')\n",
        "conjunto"
      ],
      "metadata": {
        "colab": {
          "base_uri": "https://localhost:8080/"
        },
        "id": "GBgLXn323_4r",
        "outputId": "a33b32d3-cf98-413d-8548-1d30b01ee611"
      },
      "execution_count": 28,
      "outputs": [
        {
          "output_type": "execute_result",
          "data": {
            "text/plain": [
              "{'Chopper', 'Luffy', 'Namy', 'Zoro'}"
            ]
          },
          "metadata": {},
          "execution_count": 28
        }
      ]
    },
    {
      "cell_type": "markdown",
      "source": [
        "## Brincando com dicionários"
      ],
      "metadata": {
        "id": "XOlpAbZT6INw"
      }
    },
    {
      "cell_type": "markdown",
      "source": [
        "-   Dicionário usa o conceito de chave : valor (key : value)\n",
        "-   Nem a key nem o value tem um tipo definido, ambos podem ser de qualquer tipo"
      ],
      "metadata": {
        "id": "Rkr9qBN46R6d"
      }
    },
    {
      "cell_type": "code",
      "source": [
        "capitania = {\n",
        "    'Luffy': 'Capitão',\n",
        "    'Zoro': 'Vice-Capitão',\n",
        "    'Namy': 'Navegadora',\n",
        "    'Chopper': 'Médico'\n",
        "    }#Formatinho JSON\n",
        "capitania"
      ],
      "metadata": {
        "colab": {
          "base_uri": "https://localhost:8080/"
        },
        "id": "b2ccNXRa4ufB",
        "outputId": "de1a9223-1924-4bb1-d328-d0de979edc18"
      },
      "execution_count": 31,
      "outputs": [
        {
          "output_type": "execute_result",
          "data": {
            "text/plain": [
              "{'Luffy': 'Capitão',\n",
              " 'Zoro': 'Vice-Capitão',\n",
              " 'Namy': 'Navegadora',\n",
              " 'Chopper': 'Médico'}"
            ]
          },
          "metadata": {},
          "execution_count": 31
        }
      ]
    },
    {
      "cell_type": "markdown",
      "source": [
        "###***Adicionando***"
      ],
      "metadata": {
        "id": "kx-XkhYx8Gmv"
      }
    },
    {
      "cell_type": "code",
      "source": [
        "capitania['Sanji'] = 'Cozinheiro'\n",
        "capitania['Franky'] = ['Engenheiro Naval', 'Timoneiro', 'Lutador']\n",
        "capitania"
      ],
      "metadata": {
        "colab": {
          "base_uri": "https://localhost:8080/"
        },
        "id": "lvs8zaPL8LJI",
        "outputId": "d687e8d1-25fb-4737-9122-c4449da48290"
      },
      "execution_count": 36,
      "outputs": [
        {
          "output_type": "execute_result",
          "data": {
            "text/plain": [
              "{'Luffy': 'Capitão',\n",
              " 'Zoro': 'Co-Capitão',\n",
              " 'Namy': 'Navegadora',\n",
              " 'Chopper': 'Médico',\n",
              " 'Sanji': 'Cozinheiro',\n",
              " 'Franky': ['Engenheiro Naval', 'Timoneiro', 'Lutador']}"
            ]
          },
          "metadata": {},
          "execution_count": 36
        }
      ]
    },
    {
      "cell_type": "markdown",
      "source": [
        "###***Atualizando***"
      ],
      "metadata": {
        "id": "fGoBR2nJ8Tim"
      }
    },
    {
      "cell_type": "code",
      "source": [
        "capitania['Zoro'] = 'Co-Capitão'\n",
        "capitania"
      ],
      "metadata": {
        "colab": {
          "base_uri": "https://localhost:8080/"
        },
        "id": "DczIFBpu8XBQ",
        "outputId": "76d55bbe-b924-4429-ae2b-e42eb96a0ecf"
      },
      "execution_count": 37,
      "outputs": [
        {
          "output_type": "execute_result",
          "data": {
            "text/plain": [
              "{'Luffy': 'Capitão',\n",
              " 'Zoro': 'Co-Capitão',\n",
              " 'Namy': 'Navegadora',\n",
              " 'Chopper': 'Médico',\n",
              " 'Sanji': 'Cozinheiro',\n",
              " 'Franky': ['Engenheiro Naval', 'Timoneiro', 'Lutador']}"
            ]
          },
          "metadata": {},
          "execution_count": 37
        }
      ]
    },
    {
      "cell_type": "markdown",
      "source": [
        "###***Removendo***"
      ],
      "metadata": {
        "id": "NXTqBXsl8fsF"
      }
    },
    {
      "cell_type": "code",
      "source": [
        "del capitania['Sanji']\n",
        "capitania"
      ],
      "metadata": {
        "colab": {
          "base_uri": "https://localhost:8080/"
        },
        "id": "A2NGlwn68jGU",
        "outputId": "3839e2a8-33f0-42f4-9056-5617cc03a4a2"
      },
      "execution_count": 38,
      "outputs": [
        {
          "output_type": "execute_result",
          "data": {
            "text/plain": [
              "{'Luffy': 'Capitão',\n",
              " 'Zoro': 'Co-Capitão',\n",
              " 'Namy': 'Navegadora',\n",
              " 'Chopper': 'Médico',\n",
              " 'Franky': ['Engenheiro Naval', 'Timoneiro', 'Lutador']}"
            ]
          },
          "metadata": {},
          "execution_count": 38
        }
      ]
    },
    {
      "cell_type": "markdown",
      "source": [
        "### ***Acessando uma profissão do Franky***"
      ],
      "metadata": {
        "id": "5ZBm0WqV9PwA"
      }
    },
    {
      "cell_type": "code",
      "source": [
        "print(capitania['Franky'][-2])"
      ],
      "metadata": {
        "colab": {
          "base_uri": "https://localhost:8080/"
        },
        "id": "eOpqeH1o9Z25",
        "outputId": "f926df7d-c04f-4909-826e-c7704c63dcb8"
      },
      "execution_count": 40,
      "outputs": [
        {
          "output_type": "stream",
          "name": "stdout",
          "text": [
            "Timoneiro\n"
          ]
        }
      ]
    },
    {
      "cell_type": "markdown",
      "source": [
        "## Coisas aleatórias"
      ],
      "metadata": {
        "id": "xw5eMhTU5oy9"
      }
    },
    {
      "cell_type": "markdown",
      "source": [
        "Função type é usada pra mostrar o tipo de alguma variável"
      ],
      "metadata": {
        "id": "fyPa04ft511d"
      }
    },
    {
      "cell_type": "code",
      "source": [
        "print(type(tupla))\n",
        "print(type(lista))\n",
        "print(type(conjunto))"
      ],
      "metadata": {
        "colab": {
          "base_uri": "https://localhost:8080/"
        },
        "id": "mohRjYfN5sLg",
        "outputId": "198ec5a8-073c-4ff4-b29e-59a34a19bd19"
      },
      "execution_count": 29,
      "outputs": [
        {
          "output_type": "stream",
          "name": "stdout",
          "text": [
            "<class 'tuple'>\n",
            "<class 'list'>\n",
            "<class 'set'>\n"
          ]
        }
      ]
    }
  ]
}