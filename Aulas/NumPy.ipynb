{
  "nbformat": 4,
  "nbformat_minor": 0,
  "metadata": {
    "colab": {
      "provenance": []
    },
    "kernelspec": {
      "name": "python3",
      "display_name": "Python 3"
    },
    "language_info": {
      "name": "python"
    }
  },
  "cells": [
    {
      "cell_type": "markdown",
      "source": [
        "# NumPy"
      ],
      "metadata": {
        "id": "WV6DW7l9wjoT"
      }
    },
    {
      "cell_type": "markdown",
      "source": [
        "## Fundamentação:\n",
        "\n",
        "*   Núcleo do Data Science\n",
        "*   Ótimo para manipulação de arrays multidimensionais\n",
        "*   Facilidade para manipular grandes dados(feito em C)\n",
        "\n",
        "\"ndarray\" = N Dimensional Array\n"
      ],
      "metadata": {
        "id": "r0NkzxjSuI__"
      }
    },
    {
      "cell_type": "markdown",
      "source": [
        "## Criando NumPy Arrays"
      ],
      "metadata": {
        "id": "6wpoKxDmwm3d"
      }
    },
    {
      "cell_type": "markdown",
      "source": [
        "*   1D"
      ],
      "metadata": {
        "id": "_HahQyoJzXKg"
      }
    },
    {
      "cell_type": "code",
      "execution_count": null,
      "metadata": {
        "id": "fvvdGcr9tcD2"
      },
      "outputs": [],
      "source": [
        "import numpy as np"
      ]
    },
    {
      "cell_type": "code",
      "source": [
        "arr = np.array([1, 2, 3, 4, 5])\n",
        "print(arr)\n",
        "print(type(arr))"
      ],
      "metadata": {
        "colab": {
          "base_uri": "https://localhost:8080/"
        },
        "id": "OUUq2-h_wVxG",
        "outputId": "be719911-022c-46dc-e81c-784fab0fe135"
      },
      "execution_count": null,
      "outputs": [
        {
          "output_type": "stream",
          "name": "stdout",
          "text": [
            "[1 2 3 4 5]\n",
            "<class 'numpy.ndarray'>\n"
          ]
        }
      ]
    },
    {
      "cell_type": "markdown",
      "source": [
        "### Tentando colocar elementos heterogêneos"
      ],
      "metadata": {
        "id": "GcOipzRiyV15"
      }
    },
    {
      "cell_type": "code",
      "source": [
        "arr = np.array([1, 2, 3, 4, 'teste'])\n",
        "print(arr)\n",
        "print(type(arr))"
      ],
      "metadata": {
        "colab": {
          "base_uri": "https://localhost:8080/"
        },
        "id": "eJdi6uaAxzAm",
        "outputId": "184fe1e3-bc72-476c-b856-54ae25d6616d"
      },
      "execution_count": null,
      "outputs": [
        {
          "output_type": "stream",
          "name": "stdout",
          "text": [
            "['1' '2' '3' '4' 'teste']\n",
            "<class 'numpy.ndarray'>\n"
          ]
        }
      ]
    },
    {
      "cell_type": "markdown",
      "source": [
        "O numpy vai colocar tudo em um único tipo"
      ],
      "metadata": {
        "id": "cw5cYWqnyx5i"
      }
    },
    {
      "cell_type": "markdown",
      "source": [
        "## Criando uma matriz com numpy"
      ],
      "metadata": {
        "id": "5ZDMMMiYy78p"
      }
    },
    {
      "cell_type": "markdown",
      "source": [
        "*    2D"
      ],
      "metadata": {
        "id": "ROkwVKM8zP3O"
      }
    },
    {
      "cell_type": "code",
      "source": [
        "mtz = np.array([[1, 2, 3], [4, 5, 6]])\n",
        "print(mtz)\n",
        "print(type(mtz))"
      ],
      "metadata": {
        "colab": {
          "base_uri": "https://localhost:8080/"
        },
        "id": "iZolxLqJyehz",
        "outputId": "394b0cee-7e72-45ab-b81d-823431caf2cd"
      },
      "execution_count": null,
      "outputs": [
        {
          "output_type": "stream",
          "name": "stdout",
          "text": [
            "[[1 2 3]\n",
            " [4 5 6]]\n",
            "<class 'numpy.ndarray'>\n"
          ]
        }
      ]
    },
    {
      "cell_type": "markdown",
      "source": [
        "## Funções para estruturar NumPy Arrays"
      ],
      "metadata": {
        "id": "DO86DpM2zaNd"
      }
    },
    {
      "cell_type": "markdown",
      "source": [
        "### Array 1D de 1s"
      ],
      "metadata": {
        "id": "lZDeHA9wzl8Y"
      }
    },
    {
      "cell_type": "code",
      "source": [
        "arr = np.ones(15)\n",
        "print(arr)"
      ],
      "metadata": {
        "colab": {
          "base_uri": "https://localhost:8080/"
        },
        "id": "5zjhjuqxzMjE",
        "outputId": "ebd01974-66e3-482c-b52e-dd990ce751a4"
      },
      "execution_count": null,
      "outputs": [
        {
          "output_type": "stream",
          "name": "stdout",
          "text": [
            "[1. 1. 1. 1. 1. 1. 1. 1. 1. 1. 1. 1. 1. 1. 1.]\n"
          ]
        }
      ]
    },
    {
      "cell_type": "markdown",
      "source": [
        "### Array 2D de 0s"
      ],
      "metadata": {
        "id": "C2bFsvJnzuBT"
      }
    },
    {
      "cell_type": "code",
      "source": [
        "mtz = np.zeros(10)\n",
        "print(mtz)"
      ],
      "metadata": {
        "colab": {
          "base_uri": "https://localhost:8080/"
        },
        "id": "LrctdxxGzsVQ",
        "outputId": "5d6a059e-30df-4cb2-fb4c-8b1f598d6f99"
      },
      "execution_count": null,
      "outputs": [
        {
          "output_type": "stream",
          "name": "stdout",
          "text": [
            "[0. 0. 0. 0. 0. 0. 0. 0. 0. 0.]\n"
          ]
        }
      ]
    },
    {
      "cell_type": "code",
      "source": [
        "mtz = np.zeros(10).reshape((5, 2))\n",
        "print(mtz)"
      ],
      "metadata": {
        "colab": {
          "base_uri": "https://localhost:8080/"
        },
        "id": "mjKGA_Krz0Ep",
        "outputId": "325f78f9-bb84-4539-c0fa-cf10f3ea9403"
      },
      "execution_count": null,
      "outputs": [
        {
          "output_type": "stream",
          "name": "stdout",
          "text": [
            "[[0. 0.]\n",
            " [0. 0.]\n",
            " [0. 0.]\n",
            " [0. 0.]\n",
            " [0. 0.]]\n"
          ]
        }
      ]
    },
    {
      "cell_type": "code",
      "source": [
        "mtz = np.zeros([5,2])\n",
        "print(mtz)"
      ],
      "metadata": {
        "colab": {
          "base_uri": "https://localhost:8080/"
        },
        "id": "nnpalL_e0ZSB",
        "outputId": "f887dfcc-a149-4590-c947-7a88d4e5d8d7"
      },
      "execution_count": null,
      "outputs": [
        {
          "output_type": "stream",
          "name": "stdout",
          "text": [
            "[[0. 0.]\n",
            " [0. 0.]\n",
            " [0. 0.]\n",
            " [0. 0.]\n",
            " [0. 0.]]\n"
          ]
        }
      ]
    },
    {
      "cell_type": "markdown",
      "source": [
        "### Arrange"
      ],
      "metadata": {
        "id": "mHL4GlT71BUl"
      }
    },
    {
      "cell_type": "code",
      "source": [
        "arr = np.arange(10,31,10) #Até 31 porque o upperbound é exclusivo\n",
        "print(arr)"
      ],
      "metadata": {
        "colab": {
          "base_uri": "https://localhost:8080/"
        },
        "id": "HvufUUpX0s-L",
        "outputId": "280957f3-a665-4d68-bf4b-55339c1ec2a3"
      },
      "execution_count": null,
      "outputs": [
        {
          "output_type": "stream",
          "name": "stdout",
          "text": [
            "[10 20 30]\n"
          ]
        }
      ]
    },
    {
      "cell_type": "code",
      "source": [
        "arr = np.arange(10,1121,10)\n",
        "print(arr)"
      ],
      "metadata": {
        "colab": {
          "base_uri": "https://localhost:8080/"
        },
        "id": "oqt8oIcD1S91",
        "outputId": "e07de98c-e595-47a1-ce59-b4b602cfe0c4"
      },
      "execution_count": null,
      "outputs": [
        {
          "output_type": "stream",
          "name": "stdout",
          "text": [
            "[  10   20   30   40   50   60   70   80   90  100  110  120  130  140\n",
            "  150  160  170  180  190  200  210  220  230  240  250  260  270  280\n",
            "  290  300  310  320  330  340  350  360  370  380  390  400  410  420\n",
            "  430  440  450  460  470  480  490  500  510  520  530  540  550  560\n",
            "  570  580  590  600  610  620  630  640  650  660  670  680  690  700\n",
            "  710  720  730  740  750  760  770  780  790  800  810  820  830  840\n",
            "  850  860  870  880  890  900  910  920  930  940  950  960  970  980\n",
            "  990 1000 1010 1020 1030 1040 1050 1060 1070 1080 1090 1100 1110 1120]\n"
          ]
        }
      ]
    },
    {
      "cell_type": "code",
      "source": [
        "#Menor\n",
        "print(arr.min())"
      ],
      "metadata": {
        "colab": {
          "base_uri": "https://localhost:8080/"
        },
        "id": "YOKDzGgq2Eb2",
        "outputId": "5659188d-ce4f-4fd5-a25c-c51f64defb01"
      },
      "execution_count": null,
      "outputs": [
        {
          "output_type": "stream",
          "name": "stdout",
          "text": [
            "10\n"
          ]
        }
      ]
    },
    {
      "cell_type": "code",
      "source": [
        "#Maior\n",
        "print(arr.max())"
      ],
      "metadata": {
        "colab": {
          "base_uri": "https://localhost:8080/"
        },
        "id": "MQZ7vFZp2Vtw",
        "outputId": "4635e64b-4e59-4148-c330-5e4bbf2ac129"
      },
      "execution_count": null,
      "outputs": [
        {
          "output_type": "stream",
          "name": "stdout",
          "text": [
            "1120\n"
          ]
        }
      ]
    },
    {
      "cell_type": "code",
      "source": [
        "#Média\n",
        "print(arr.mean())"
      ],
      "metadata": {
        "colab": {
          "base_uri": "https://localhost:8080/"
        },
        "id": "hvnapsb22YXE",
        "outputId": "13a64f67-8234-4c65-a008-fd07aacc382b"
      },
      "execution_count": null,
      "outputs": [
        {
          "output_type": "stream",
          "name": "stdout",
          "text": [
            "565.0\n"
          ]
        }
      ]
    },
    {
      "cell_type": "code",
      "source": [
        "#Indice do maior\n",
        "print(arr.argmax())"
      ],
      "metadata": {
        "colab": {
          "base_uri": "https://localhost:8080/"
        },
        "id": "03nPkzgx2dXU",
        "outputId": "3434c707-fe5a-42e0-ac9f-2cf77a020094"
      },
      "execution_count": null,
      "outputs": [
        {
          "output_type": "stream",
          "name": "stdout",
          "text": [
            "111\n"
          ]
        }
      ]
    },
    {
      "cell_type": "markdown",
      "source": [
        "## Operações com NumPy Arrays"
      ],
      "metadata": {
        "id": "ImGM1Lcs23dA"
      }
    },
    {
      "cell_type": "markdown",
      "source": [
        "***Para fazer operações, os arrays devem ter o mesmo tamanho***"
      ],
      "metadata": {
        "id": "kwjAUACa4xjg"
      }
    },
    {
      "cell_type": "markdown",
      "source": [
        "### Criando os arrays"
      ],
      "metadata": {
        "id": "Q0fQFWO-3OUt"
      }
    },
    {
      "cell_type": "code",
      "source": [
        "arr1 = np.arange(1, 100, 1)\n",
        "arr2 = np.arange(99, 0, -1)\n",
        "\n",
        "print(arr1)\n",
        "print(arr2)"
      ],
      "metadata": {
        "colab": {
          "base_uri": "https://localhost:8080/"
        },
        "id": "BxHPhHZS2gcA",
        "outputId": "c7e26c30-8885-4c28-950b-c639db154bef"
      },
      "execution_count": null,
      "outputs": [
        {
          "output_type": "stream",
          "name": "stdout",
          "text": [
            "[ 1  2  3  4  5  6  7  8  9 10 11 12 13 14 15 16 17 18 19 20 21 22 23 24\n",
            " 25 26 27 28 29 30 31 32 33 34 35 36 37 38 39 40 41 42 43 44 45 46 47 48\n",
            " 49 50 51 52 53 54 55 56 57 58 59 60 61 62 63 64 65 66 67 68 69 70 71 72\n",
            " 73 74 75 76 77 78 79 80 81 82 83 84 85 86 87 88 89 90 91 92 93 94 95 96\n",
            " 97 98 99]\n",
            "[99 98 97 96 95 94 93 92 91 90 89 88 87 86 85 84 83 82 81 80 79 78 77 76\n",
            " 75 74 73 72 71 70 69 68 67 66 65 64 63 62 61 60 59 58 57 56 55 54 53 52\n",
            " 51 50 49 48 47 46 45 44 43 42 41 40 39 38 37 36 35 34 33 32 31 30 29 28\n",
            " 27 26 25 24 23 22 21 20 19 18 17 16 15 14 13 12 11 10  9  8  7  6  5  4\n",
            "  3  2  1]\n"
          ]
        }
      ]
    },
    {
      "cell_type": "markdown",
      "source": [
        "Somando elemento a elemento com indíces iguais"
      ],
      "metadata": {
        "id": "2KYhiltp3ysu"
      }
    },
    {
      "cell_type": "code",
      "source": [
        "print(arr1 + arr2)"
      ],
      "metadata": {
        "colab": {
          "base_uri": "https://localhost:8080/"
        },
        "id": "91jJB3093R0A",
        "outputId": "2b9db9cf-e110-497a-a778-4255154398be"
      },
      "execution_count": null,
      "outputs": [
        {
          "output_type": "stream",
          "name": "stdout",
          "text": [
            "[100 100 100 100 100 100 100 100 100 100 100 100 100 100 100 100 100 100\n",
            " 100 100 100 100 100 100 100 100 100 100 100 100 100 100 100 100 100 100\n",
            " 100 100 100 100 100 100 100 100 100 100 100 100 100 100 100 100 100 100\n",
            " 100 100 100 100 100 100 100 100 100 100 100 100 100 100 100 100 100 100\n",
            " 100 100 100 100 100 100 100 100 100 100 100 100 100 100 100 100 100 100\n",
            " 100 100 100 100 100 100 100 100 100]\n"
          ]
        }
      ]
    },
    {
      "cell_type": "markdown",
      "source": [
        "Multiplicando elemento a elemento com índices iguais"
      ],
      "metadata": {
        "id": "eBRnsgE74atS"
      }
    },
    {
      "cell_type": "code",
      "source": [
        "print(arr1 * arr2)"
      ],
      "metadata": {
        "colab": {
          "base_uri": "https://localhost:8080/"
        },
        "id": "MDBHRsLa36w2",
        "outputId": "9bacbf80-c367-405e-83e0-ecc96d8fefbf"
      },
      "execution_count": null,
      "outputs": [
        {
          "output_type": "stream",
          "name": "stdout",
          "text": [
            "[  99  196  291  384  475  564  651  736  819  900  979 1056 1131 1204\n",
            " 1275 1344 1411 1476 1539 1600 1659 1716 1771 1824 1875 1924 1971 2016\n",
            " 2059 2100 2139 2176 2211 2244 2275 2304 2331 2356 2379 2400 2419 2436\n",
            " 2451 2464 2475 2484 2491 2496 2499 2500 2499 2496 2491 2484 2475 2464\n",
            " 2451 2436 2419 2400 2379 2356 2331 2304 2275 2244 2211 2176 2139 2100\n",
            " 2059 2016 1971 1924 1875 1824 1771 1716 1659 1600 1539 1476 1411 1344\n",
            " 1275 1204 1131 1056  979  900  819  736  651  564  475  384  291  196\n",
            "   99]\n"
          ]
        }
      ]
    },
    {
      "cell_type": "markdown",
      "source": [
        "### Concatenando  "
      ],
      "metadata": {
        "id": "dc4tivJd5JQm"
      }
    },
    {
      "cell_type": "code",
      "source": [
        "print(np.concatenate([arr1, arr2]))"
      ],
      "metadata": {
        "colab": {
          "base_uri": "https://localhost:8080/"
        },
        "id": "Pg76hrlt4nSF",
        "outputId": "c56952df-be6f-404b-fe73-6760f6131add"
      },
      "execution_count": null,
      "outputs": [
        {
          "output_type": "stream",
          "name": "stdout",
          "text": [
            "[ 1  2  3  4  5  6  7  8  9 10 11 12 13 14 15 16 17 18 19 20 21 22 23 24\n",
            " 25 26 27 28 29 30 31 32 33 34 35 36 37 38 39 40 41 42 43 44 45 46 47 48\n",
            " 49 50 51 52 53 54 55 56 57 58 59 60 61 62 63 64 65 66 67 68 69 70 71 72\n",
            " 73 74 75 76 77 78 79 80 81 82 83 84 85 86 87 88 89 90 91 92 93 94 95 96\n",
            " 97 98 99 99 98 97 96 95 94 93 92 91 90 89 88 87 86 85 84 83 82 81 80 79\n",
            " 78 77 76 75 74 73 72 71 70 69 68 67 66 65 64 63 62 61 60 59 58 57 56 55\n",
            " 54 53 52 51 50 49 48 47 46 45 44 43 42 41 40 39 38 37 36 35 34 33 32 31\n",
            " 30 29 28 27 26 25 24 23 22 21 20 19 18 17 16 15 14 13 12 11 10  9  8  7\n",
            "  6  5  4  3  2  1]\n"
          ]
        }
      ]
    },
    {
      "cell_type": "markdown",
      "source": [
        "## Operações com matrizes"
      ],
      "metadata": {
        "id": "2lVrnnPt50lQ"
      }
    },
    {
      "cell_type": "markdown",
      "source": [
        "### Criando a matriz"
      ],
      "metadata": {
        "id": "-iztOW8w76KY"
      }
    },
    {
      "cell_type": "code",
      "source": [
        "mtz = np.array([50, 10, 100, 60, 25, 100, 75, 80, 100]).reshape(3, 3)\n",
        "print(mtz)"
      ],
      "metadata": {
        "colab": {
          "base_uri": "https://localhost:8080/"
        },
        "id": "PKiTo-u_5aG4",
        "outputId": "96d827fb-d360-439c-8cf7-36b5f05716d3"
      },
      "execution_count": null,
      "outputs": [
        {
          "output_type": "stream",
          "name": "stdout",
          "text": [
            "[[ 50  10 100]\n",
            " [ 60  25 100]\n",
            " [ 75  80 100]]\n"
          ]
        }
      ]
    },
    {
      "cell_type": "markdown",
      "source": [
        "### Somando as linhas"
      ],
      "metadata": {
        "id": "I9gVzjbW78XR"
      }
    },
    {
      "cell_type": "code",
      "source": [
        "print(mtz.sum(axis = 1)) #Para somar linhas"
      ],
      "metadata": {
        "colab": {
          "base_uri": "https://localhost:8080/"
        },
        "id": "ptMYUwjh67Hs",
        "outputId": "79c169a1-db37-4917-dde8-6e8a25fd752e"
      },
      "execution_count": null,
      "outputs": [
        {
          "output_type": "stream",
          "name": "stdout",
          "text": [
            "[160 185 255]\n"
          ]
        }
      ]
    },
    {
      "cell_type": "markdown",
      "source": [
        "### Somando as colunas"
      ],
      "metadata": {
        "id": "GGgY-URV7-Y0"
      }
    },
    {
      "cell_type": "code",
      "source": [
        "print(mtz.sum(axis = 0)) #Para somar colunas"
      ],
      "metadata": {
        "colab": {
          "base_uri": "https://localhost:8080/"
        },
        "id": "ufgmJEEl7kx9",
        "outputId": "bcac6039-8425-4788-d878-be3459039f7b"
      },
      "execution_count": null,
      "outputs": [
        {
          "output_type": "stream",
          "name": "stdout",
          "text": [
            "[185 115 300]\n"
          ]
        }
      ]
    },
    {
      "cell_type": "markdown",
      "source": [
        "Somando uma coluna específica"
      ],
      "metadata": {
        "id": "19X5qPoa8Pzn"
      }
    },
    {
      "cell_type": "code",
      "source": [
        "print(mtz.sum(axis = 0)[2])"
      ],
      "metadata": {
        "colab": {
          "base_uri": "https://localhost:8080/"
        },
        "id": "rFBsFGd87xE2",
        "outputId": "3b794814-adb8-4932-9482-6c0764353e9d"
      },
      "execution_count": null,
      "outputs": [
        {
          "output_type": "stream",
          "name": "stdout",
          "text": [
            "300\n"
          ]
        }
      ]
    },
    {
      "cell_type": "markdown",
      "source": [
        "## Broadcasting\n",
        "-   Você conseguir fazer operações de um vetor com um escalar"
      ],
      "metadata": {
        "id": "VakbKekz9C3I"
      }
    },
    {
      "cell_type": "code",
      "source": [
        "print(mtz/10)"
      ],
      "metadata": {
        "colab": {
          "base_uri": "https://localhost:8080/"
        },
        "id": "-0immKtc9QPN",
        "outputId": "e3bac3fe-de63-4352-d3f6-e8880286315f"
      },
      "execution_count": null,
      "outputs": [
        {
          "output_type": "stream",
          "name": "stdout",
          "text": [
            "[[ 5.   1.  10. ]\n",
            " [ 6.   2.5 10. ]\n",
            " [ 7.5  8.  10. ]]\n"
          ]
        }
      ]
    },
    {
      "cell_type": "markdown",
      "source": [
        "## Brincando com números aleatórios"
      ],
      "metadata": {
        "id": "qSdGMisA-PgH"
      }
    },
    {
      "cell_type": "code",
      "source": [
        "#np.random.seed(10) Use isso quando você quiser que o aleatório não seja tão aleatório\n",
        "arr = np.random.randint(1, 1982568716, 15)\n",
        "print(arr)"
      ],
      "metadata": {
        "colab": {
          "base_uri": "https://localhost:8080/"
        },
        "id": "c_OWh0by9UPq",
        "outputId": "0756d705-9866-4e1f-9e4f-0851ab903a9d"
      },
      "execution_count": null,
      "outputs": [
        {
          "output_type": "stream",
          "name": "stdout",
          "text": [
            "[ 306332348  716454127 1002328759  595807150 1571891772  951580578\n",
            "  116607770 1381204867 1053072939  858157388 1217447324 1420167187\n",
            " 1969470769 1713686395 1486000962]\n"
          ]
        }
      ]
    },
    {
      "cell_type": "markdown",
      "source": [
        "## Brincando com números únicos em conjuntos aleatórios"
      ],
      "metadata": {
        "id": "wxkfpIfhAPiK"
      }
    },
    {
      "cell_type": "code",
      "source": [
        "arr = np.random.randint(1, 1982568716, 15565)\n",
        "print(arr)\n",
        "print(np.unique(arr))\n",
        "print(np.unique(arr,return_counts=True))"
      ],
      "metadata": {
        "colab": {
          "base_uri": "https://localhost:8080/"
        },
        "id": "EU4xSNAW-pZc",
        "outputId": "c72b4397-0fa8-4aa9-e5ab-e0085cf85df7"
      },
      "execution_count": null,
      "outputs": [
        {
          "output_type": "stream",
          "name": "stdout",
          "text": [
            "[1543415755 1186308742 1806002373 ... 1213789697 1760955204 1438615977]\n",
            "[     49671     126137     212319 ... 1982075935 1982242532 1982469920]\n",
            "(array([     49671,     126137,     212319, ..., 1982075935, 1982242532,\n",
            "       1982469920]), array([1, 1, 1, ..., 1, 1, 1]))\n"
          ]
        }
      ]
    },
    {
      "cell_type": "markdown",
      "source": [
        "## Slicing em Numpy Arrays"
      ],
      "metadata": {
        "id": "fNvpZb4HyOgm"
      }
    },
    {
      "cell_type": "markdown",
      "source": [
        "### Criando um npArray 2D"
      ],
      "metadata": {
        "id": "jXHtDJ7vya0x"
      }
    },
    {
      "cell_type": "code",
      "source": [
        "mtz = np.arange(0,9000,10).reshape(30,30)\n",
        "print(mtz)"
      ],
      "metadata": {
        "id": "n8bTgVWgAuAl",
        "colab": {
          "base_uri": "https://localhost:8080/"
        },
        "outputId": "87a5d0c1-22d5-4e64-d3f0-170841a333aa"
      },
      "execution_count": null,
      "outputs": [
        {
          "output_type": "stream",
          "name": "stdout",
          "text": [
            "[[   0   10   20   30   40   50   60   70   80   90  100  110  120  130\n",
            "   140  150  160  170  180  190  200  210  220  230  240  250  260  270\n",
            "   280  290]\n",
            " [ 300  310  320  330  340  350  360  370  380  390  400  410  420  430\n",
            "   440  450  460  470  480  490  500  510  520  530  540  550  560  570\n",
            "   580  590]\n",
            " [ 600  610  620  630  640  650  660  670  680  690  700  710  720  730\n",
            "   740  750  760  770  780  790  800  810  820  830  840  850  860  870\n",
            "   880  890]\n",
            " [ 900  910  920  930  940  950  960  970  980  990 1000 1010 1020 1030\n",
            "  1040 1050 1060 1070 1080 1090 1100 1110 1120 1130 1140 1150 1160 1170\n",
            "  1180 1190]\n",
            " [1200 1210 1220 1230 1240 1250 1260 1270 1280 1290 1300 1310 1320 1330\n",
            "  1340 1350 1360 1370 1380 1390 1400 1410 1420 1430 1440 1450 1460 1470\n",
            "  1480 1490]\n",
            " [1500 1510 1520 1530 1540 1550 1560 1570 1580 1590 1600 1610 1620 1630\n",
            "  1640 1650 1660 1670 1680 1690 1700 1710 1720 1730 1740 1750 1760 1770\n",
            "  1780 1790]\n",
            " [1800 1810 1820 1830 1840 1850 1860 1870 1880 1890 1900 1910 1920 1930\n",
            "  1940 1950 1960 1970 1980 1990 2000 2010 2020 2030 2040 2050 2060 2070\n",
            "  2080 2090]\n",
            " [2100 2110 2120 2130 2140 2150 2160 2170 2180 2190 2200 2210 2220 2230\n",
            "  2240 2250 2260 2270 2280 2290 2300 2310 2320 2330 2340 2350 2360 2370\n",
            "  2380 2390]\n",
            " [2400 2410 2420 2430 2440 2450 2460 2470 2480 2490 2500 2510 2520 2530\n",
            "  2540 2550 2560 2570 2580 2590 2600 2610 2620 2630 2640 2650 2660 2670\n",
            "  2680 2690]\n",
            " [2700 2710 2720 2730 2740 2750 2760 2770 2780 2790 2800 2810 2820 2830\n",
            "  2840 2850 2860 2870 2880 2890 2900 2910 2920 2930 2940 2950 2960 2970\n",
            "  2980 2990]\n",
            " [3000 3010 3020 3030 3040 3050 3060 3070 3080 3090 3100 3110 3120 3130\n",
            "  3140 3150 3160 3170 3180 3190 3200 3210 3220 3230 3240 3250 3260 3270\n",
            "  3280 3290]\n",
            " [3300 3310 3320 3330 3340 3350 3360 3370 3380 3390 3400 3410 3420 3430\n",
            "  3440 3450 3460 3470 3480 3490 3500 3510 3520 3530 3540 3550 3560 3570\n",
            "  3580 3590]\n",
            " [3600 3610 3620 3630 3640 3650 3660 3670 3680 3690 3700 3710 3720 3730\n",
            "  3740 3750 3760 3770 3780 3790 3800 3810 3820 3830 3840 3850 3860 3870\n",
            "  3880 3890]\n",
            " [3900 3910 3920 3930 3940 3950 3960 3970 3980 3990 4000 4010 4020 4030\n",
            "  4040 4050 4060 4070 4080 4090 4100 4110 4120 4130 4140 4150 4160 4170\n",
            "  4180 4190]\n",
            " [4200 4210 4220 4230 4240 4250 4260 4270 4280 4290 4300 4310 4320 4330\n",
            "  4340 4350 4360 4370 4380 4390 4400 4410 4420 4430 4440 4450 4460 4470\n",
            "  4480 4490]\n",
            " [4500 4510 4520 4530 4540 4550 4560 4570 4580 4590 4600 4610 4620 4630\n",
            "  4640 4650 4660 4670 4680 4690 4700 4710 4720 4730 4740 4750 4760 4770\n",
            "  4780 4790]\n",
            " [4800 4810 4820 4830 4840 4850 4860 4870 4880 4890 4900 4910 4920 4930\n",
            "  4940 4950 4960 4970 4980 4990 5000 5010 5020 5030 5040 5050 5060 5070\n",
            "  5080 5090]\n",
            " [5100 5110 5120 5130 5140 5150 5160 5170 5180 5190 5200 5210 5220 5230\n",
            "  5240 5250 5260 5270 5280 5290 5300 5310 5320 5330 5340 5350 5360 5370\n",
            "  5380 5390]\n",
            " [5400 5410 5420 5430 5440 5450 5460 5470 5480 5490 5500 5510 5520 5530\n",
            "  5540 5550 5560 5570 5580 5590 5600 5610 5620 5630 5640 5650 5660 5670\n",
            "  5680 5690]\n",
            " [5700 5710 5720 5730 5740 5750 5760 5770 5780 5790 5800 5810 5820 5830\n",
            "  5840 5850 5860 5870 5880 5890 5900 5910 5920 5930 5940 5950 5960 5970\n",
            "  5980 5990]\n",
            " [6000 6010 6020 6030 6040 6050 6060 6070 6080 6090 6100 6110 6120 6130\n",
            "  6140 6150 6160 6170 6180 6190 6200 6210 6220 6230 6240 6250 6260 6270\n",
            "  6280 6290]\n",
            " [6300 6310 6320 6330 6340 6350 6360 6370 6380 6390 6400 6410 6420 6430\n",
            "  6440 6450 6460 6470 6480 6490 6500 6510 6520 6530 6540 6550 6560 6570\n",
            "  6580 6590]\n",
            " [6600 6610 6620 6630 6640 6650 6660 6670 6680 6690 6700 6710 6720 6730\n",
            "  6740 6750 6760 6770 6780 6790 6800 6810 6820 6830 6840 6850 6860 6870\n",
            "  6880 6890]\n",
            " [6900 6910 6920 6930 6940 6950 6960 6970 6980 6990 7000 7010 7020 7030\n",
            "  7040 7050 7060 7070 7080 7090 7100 7110 7120 7130 7140 7150 7160 7170\n",
            "  7180 7190]\n",
            " [7200 7210 7220 7230 7240 7250 7260 7270 7280 7290 7300 7310 7320 7330\n",
            "  7340 7350 7360 7370 7380 7390 7400 7410 7420 7430 7440 7450 7460 7470\n",
            "  7480 7490]\n",
            " [7500 7510 7520 7530 7540 7550 7560 7570 7580 7590 7600 7610 7620 7630\n",
            "  7640 7650 7660 7670 7680 7690 7700 7710 7720 7730 7740 7750 7760 7770\n",
            "  7780 7790]\n",
            " [7800 7810 7820 7830 7840 7850 7860 7870 7880 7890 7900 7910 7920 7930\n",
            "  7940 7950 7960 7970 7980 7990 8000 8010 8020 8030 8040 8050 8060 8070\n",
            "  8080 8090]\n",
            " [8100 8110 8120 8130 8140 8150 8160 8170 8180 8190 8200 8210 8220 8230\n",
            "  8240 8250 8260 8270 8280 8290 8300 8310 8320 8330 8340 8350 8360 8370\n",
            "  8380 8390]\n",
            " [8400 8410 8420 8430 8440 8450 8460 8470 8480 8490 8500 8510 8520 8530\n",
            "  8540 8550 8560 8570 8580 8590 8600 8610 8620 8630 8640 8650 8660 8670\n",
            "  8680 8690]\n",
            " [8700 8710 8720 8730 8740 8750 8760 8770 8780 8790 8800 8810 8820 8830\n",
            "  8840 8850 8860 8870 8880 8890 8900 8910 8920 8930 8940 8950 8960 8970\n",
            "  8980 8990]]\n"
          ]
        }
      ]
    },
    {
      "cell_type": "markdown",
      "source": [
        "### Extraindo apenas uma linha"
      ],
      "metadata": {
        "id": "SKUlItv9y6OE"
      }
    },
    {
      "cell_type": "code",
      "source": [
        "print(mtz[2])"
      ],
      "metadata": {
        "colab": {
          "base_uri": "https://localhost:8080/"
        },
        "id": "WmAH0-hcyw7K",
        "outputId": "b8f5fdbb-c745-4dda-c629-6dc9f4baa75e"
      },
      "execution_count": null,
      "outputs": [
        {
          "output_type": "stream",
          "name": "stdout",
          "text": [
            "[600 610 620 630 640 650 660 670 680 690 700 710 720 730 740 750 760 770\n",
            " 780 790 800 810 820 830 840 850 860 870 880 890]\n"
          ]
        }
      ]
    },
    {
      "cell_type": "markdown",
      "source": [
        "### Extraindo apenas uma coluna"
      ],
      "metadata": {
        "id": "L06aLdJkzh6E"
      }
    },
    {
      "cell_type": "code",
      "source": [
        "print(mtz[:,-1])"
      ],
      "metadata": {
        "colab": {
          "base_uri": "https://localhost:8080/"
        },
        "id": "-1yrWLyGzBRW",
        "outputId": "a5d96041-c4c2-47bc-afce-6e2614ef5cb1"
      },
      "execution_count": null,
      "outputs": [
        {
          "output_type": "stream",
          "name": "stdout",
          "text": [
            "[ 290  590  890 1190 1490 1790 2090 2390 2690 2990 3290 3590 3890 4190\n",
            " 4490 4790 5090 5390 5690 5990 6290 6590 6890 7190 7490 7790 8090 8390\n",
            " 8690 8990]\n"
          ]
        }
      ]
    },
    {
      "cell_type": "code",
      "source": [
        "print(mtz[:,1:])"
      ],
      "metadata": {
        "colab": {
          "base_uri": "https://localhost:8080/"
        },
        "id": "-KEDLSzG0IlQ",
        "outputId": "246c5ca4-0a0b-494a-de1b-83a44dbfc39e"
      },
      "execution_count": null,
      "outputs": [
        {
          "output_type": "stream",
          "name": "stdout",
          "text": [
            "[[  10   20   30   40   50   60   70   80   90  100  110  120  130  140\n",
            "   150  160  170  180  190  200  210  220  230  240  250  260  270  280\n",
            "   290]\n",
            " [ 310  320  330  340  350  360  370  380  390  400  410  420  430  440\n",
            "   450  460  470  480  490  500  510  520  530  540  550  560  570  580\n",
            "   590]\n",
            " [ 610  620  630  640  650  660  670  680  690  700  710  720  730  740\n",
            "   750  760  770  780  790  800  810  820  830  840  850  860  870  880\n",
            "   890]\n",
            " [ 910  920  930  940  950  960  970  980  990 1000 1010 1020 1030 1040\n",
            "  1050 1060 1070 1080 1090 1100 1110 1120 1130 1140 1150 1160 1170 1180\n",
            "  1190]\n",
            " [1210 1220 1230 1240 1250 1260 1270 1280 1290 1300 1310 1320 1330 1340\n",
            "  1350 1360 1370 1380 1390 1400 1410 1420 1430 1440 1450 1460 1470 1480\n",
            "  1490]\n",
            " [1510 1520 1530 1540 1550 1560 1570 1580 1590 1600 1610 1620 1630 1640\n",
            "  1650 1660 1670 1680 1690 1700 1710 1720 1730 1740 1750 1760 1770 1780\n",
            "  1790]\n",
            " [1810 1820 1830 1840 1850 1860 1870 1880 1890 1900 1910 1920 1930 1940\n",
            "  1950 1960 1970 1980 1990 2000 2010 2020 2030 2040 2050 2060 2070 2080\n",
            "  2090]\n",
            " [2110 2120 2130 2140 2150 2160 2170 2180 2190 2200 2210 2220 2230 2240\n",
            "  2250 2260 2270 2280 2290 2300 2310 2320 2330 2340 2350 2360 2370 2380\n",
            "  2390]\n",
            " [2410 2420 2430 2440 2450 2460 2470 2480 2490 2500 2510 2520 2530 2540\n",
            "  2550 2560 2570 2580 2590 2600 2610 2620 2630 2640 2650 2660 2670 2680\n",
            "  2690]\n",
            " [2710 2720 2730 2740 2750 2760 2770 2780 2790 2800 2810 2820 2830 2840\n",
            "  2850 2860 2870 2880 2890 2900 2910 2920 2930 2940 2950 2960 2970 2980\n",
            "  2990]\n",
            " [3010 3020 3030 3040 3050 3060 3070 3080 3090 3100 3110 3120 3130 3140\n",
            "  3150 3160 3170 3180 3190 3200 3210 3220 3230 3240 3250 3260 3270 3280\n",
            "  3290]\n",
            " [3310 3320 3330 3340 3350 3360 3370 3380 3390 3400 3410 3420 3430 3440\n",
            "  3450 3460 3470 3480 3490 3500 3510 3520 3530 3540 3550 3560 3570 3580\n",
            "  3590]\n",
            " [3610 3620 3630 3640 3650 3660 3670 3680 3690 3700 3710 3720 3730 3740\n",
            "  3750 3760 3770 3780 3790 3800 3810 3820 3830 3840 3850 3860 3870 3880\n",
            "  3890]\n",
            " [3910 3920 3930 3940 3950 3960 3970 3980 3990 4000 4010 4020 4030 4040\n",
            "  4050 4060 4070 4080 4090 4100 4110 4120 4130 4140 4150 4160 4170 4180\n",
            "  4190]\n",
            " [4210 4220 4230 4240 4250 4260 4270 4280 4290 4300 4310 4320 4330 4340\n",
            "  4350 4360 4370 4380 4390 4400 4410 4420 4430 4440 4450 4460 4470 4480\n",
            "  4490]\n",
            " [4510 4520 4530 4540 4550 4560 4570 4580 4590 4600 4610 4620 4630 4640\n",
            "  4650 4660 4670 4680 4690 4700 4710 4720 4730 4740 4750 4760 4770 4780\n",
            "  4790]\n",
            " [4810 4820 4830 4840 4850 4860 4870 4880 4890 4900 4910 4920 4930 4940\n",
            "  4950 4960 4970 4980 4990 5000 5010 5020 5030 5040 5050 5060 5070 5080\n",
            "  5090]\n",
            " [5110 5120 5130 5140 5150 5160 5170 5180 5190 5200 5210 5220 5230 5240\n",
            "  5250 5260 5270 5280 5290 5300 5310 5320 5330 5340 5350 5360 5370 5380\n",
            "  5390]\n",
            " [5410 5420 5430 5440 5450 5460 5470 5480 5490 5500 5510 5520 5530 5540\n",
            "  5550 5560 5570 5580 5590 5600 5610 5620 5630 5640 5650 5660 5670 5680\n",
            "  5690]\n",
            " [5710 5720 5730 5740 5750 5760 5770 5780 5790 5800 5810 5820 5830 5840\n",
            "  5850 5860 5870 5880 5890 5900 5910 5920 5930 5940 5950 5960 5970 5980\n",
            "  5990]\n",
            " [6010 6020 6030 6040 6050 6060 6070 6080 6090 6100 6110 6120 6130 6140\n",
            "  6150 6160 6170 6180 6190 6200 6210 6220 6230 6240 6250 6260 6270 6280\n",
            "  6290]\n",
            " [6310 6320 6330 6340 6350 6360 6370 6380 6390 6400 6410 6420 6430 6440\n",
            "  6450 6460 6470 6480 6490 6500 6510 6520 6530 6540 6550 6560 6570 6580\n",
            "  6590]\n",
            " [6610 6620 6630 6640 6650 6660 6670 6680 6690 6700 6710 6720 6730 6740\n",
            "  6750 6760 6770 6780 6790 6800 6810 6820 6830 6840 6850 6860 6870 6880\n",
            "  6890]\n",
            " [6910 6920 6930 6940 6950 6960 6970 6980 6990 7000 7010 7020 7030 7040\n",
            "  7050 7060 7070 7080 7090 7100 7110 7120 7130 7140 7150 7160 7170 7180\n",
            "  7190]\n",
            " [7210 7220 7230 7240 7250 7260 7270 7280 7290 7300 7310 7320 7330 7340\n",
            "  7350 7360 7370 7380 7390 7400 7410 7420 7430 7440 7450 7460 7470 7480\n",
            "  7490]\n",
            " [7510 7520 7530 7540 7550 7560 7570 7580 7590 7600 7610 7620 7630 7640\n",
            "  7650 7660 7670 7680 7690 7700 7710 7720 7730 7740 7750 7760 7770 7780\n",
            "  7790]\n",
            " [7810 7820 7830 7840 7850 7860 7870 7880 7890 7900 7910 7920 7930 7940\n",
            "  7950 7960 7970 7980 7990 8000 8010 8020 8030 8040 8050 8060 8070 8080\n",
            "  8090]\n",
            " [8110 8120 8130 8140 8150 8160 8170 8180 8190 8200 8210 8220 8230 8240\n",
            "  8250 8260 8270 8280 8290 8300 8310 8320 8330 8340 8350 8360 8370 8380\n",
            "  8390]\n",
            " [8410 8420 8430 8440 8450 8460 8470 8480 8490 8500 8510 8520 8530 8540\n",
            "  8550 8560 8570 8580 8590 8600 8610 8620 8630 8640 8650 8660 8670 8680\n",
            "  8690]\n",
            " [8710 8720 8730 8740 8750 8760 8770 8780 8790 8800 8810 8820 8830 8840\n",
            "  8850 8860 8870 8880 8890 8900 8910 8920 8930 8940 8950 8960 8970 8980\n",
            "  8990]]\n"
          ]
        }
      ]
    },
    {
      "cell_type": "markdown",
      "source": [
        "## Condicionais no numpy array"
      ],
      "metadata": {
        "id": "7VfAtGFt0Gjy"
      }
    },
    {
      "cell_type": "code",
      "source": [
        "print(mtz>4500)#Vai dar um print de True e False dependendo de quem atender ou não a condição"
      ],
      "metadata": {
        "colab": {
          "base_uri": "https://localhost:8080/"
        },
        "id": "C1k5Q9svzNg2",
        "outputId": "cbf53f2d-39c7-4890-fbaa-f13bf7a8a8e8"
      },
      "execution_count": null,
      "outputs": [
        {
          "output_type": "stream",
          "name": "stdout",
          "text": [
            "[[False False False False False False False False False False False False\n",
            "  False False False False False False False False False False False False\n",
            "  False False False False False False]\n",
            " [False False False False False False False False False False False False\n",
            "  False False False False False False False False False False False False\n",
            "  False False False False False False]\n",
            " [False False False False False False False False False False False False\n",
            "  False False False False False False False False False False False False\n",
            "  False False False False False False]\n",
            " [False False False False False False False False False False False False\n",
            "  False False False False False False False False False False False False\n",
            "  False False False False False False]\n",
            " [False False False False False False False False False False False False\n",
            "  False False False False False False False False False False False False\n",
            "  False False False False False False]\n",
            " [False False False False False False False False False False False False\n",
            "  False False False False False False False False False False False False\n",
            "  False False False False False False]\n",
            " [False False False False False False False False False False False False\n",
            "  False False False False False False False False False False False False\n",
            "  False False False False False False]\n",
            " [False False False False False False False False False False False False\n",
            "  False False False False False False False False False False False False\n",
            "  False False False False False False]\n",
            " [False False False False False False False False False False False False\n",
            "  False False False False False False False False False False False False\n",
            "  False False False False False False]\n",
            " [False False False False False False False False False False False False\n",
            "  False False False False False False False False False False False False\n",
            "  False False False False False False]\n",
            " [False False False False False False False False False False False False\n",
            "  False False False False False False False False False False False False\n",
            "  False False False False False False]\n",
            " [False False False False False False False False False False False False\n",
            "  False False False False False False False False False False False False\n",
            "  False False False False False False]\n",
            " [False False False False False False False False False False False False\n",
            "  False False False False False False False False False False False False\n",
            "  False False False False False False]\n",
            " [False False False False False False False False False False False False\n",
            "  False False False False False False False False False False False False\n",
            "  False False False False False False]\n",
            " [False False False False False False False False False False False False\n",
            "  False False False False False False False False False False False False\n",
            "  False False False False False False]\n",
            " [False  True  True  True  True  True  True  True  True  True  True  True\n",
            "   True  True  True  True  True  True  True  True  True  True  True  True\n",
            "   True  True  True  True  True  True]\n",
            " [ True  True  True  True  True  True  True  True  True  True  True  True\n",
            "   True  True  True  True  True  True  True  True  True  True  True  True\n",
            "   True  True  True  True  True  True]\n",
            " [ True  True  True  True  True  True  True  True  True  True  True  True\n",
            "   True  True  True  True  True  True  True  True  True  True  True  True\n",
            "   True  True  True  True  True  True]\n",
            " [ True  True  True  True  True  True  True  True  True  True  True  True\n",
            "   True  True  True  True  True  True  True  True  True  True  True  True\n",
            "   True  True  True  True  True  True]\n",
            " [ True  True  True  True  True  True  True  True  True  True  True  True\n",
            "   True  True  True  True  True  True  True  True  True  True  True  True\n",
            "   True  True  True  True  True  True]\n",
            " [ True  True  True  True  True  True  True  True  True  True  True  True\n",
            "   True  True  True  True  True  True  True  True  True  True  True  True\n",
            "   True  True  True  True  True  True]\n",
            " [ True  True  True  True  True  True  True  True  True  True  True  True\n",
            "   True  True  True  True  True  True  True  True  True  True  True  True\n",
            "   True  True  True  True  True  True]\n",
            " [ True  True  True  True  True  True  True  True  True  True  True  True\n",
            "   True  True  True  True  True  True  True  True  True  True  True  True\n",
            "   True  True  True  True  True  True]\n",
            " [ True  True  True  True  True  True  True  True  True  True  True  True\n",
            "   True  True  True  True  True  True  True  True  True  True  True  True\n",
            "   True  True  True  True  True  True]\n",
            " [ True  True  True  True  True  True  True  True  True  True  True  True\n",
            "   True  True  True  True  True  True  True  True  True  True  True  True\n",
            "   True  True  True  True  True  True]\n",
            " [ True  True  True  True  True  True  True  True  True  True  True  True\n",
            "   True  True  True  True  True  True  True  True  True  True  True  True\n",
            "   True  True  True  True  True  True]\n",
            " [ True  True  True  True  True  True  True  True  True  True  True  True\n",
            "   True  True  True  True  True  True  True  True  True  True  True  True\n",
            "   True  True  True  True  True  True]\n",
            " [ True  True  True  True  True  True  True  True  True  True  True  True\n",
            "   True  True  True  True  True  True  True  True  True  True  True  True\n",
            "   True  True  True  True  True  True]\n",
            " [ True  True  True  True  True  True  True  True  True  True  True  True\n",
            "   True  True  True  True  True  True  True  True  True  True  True  True\n",
            "   True  True  True  True  True  True]\n",
            " [ True  True  True  True  True  True  True  True  True  True  True  True\n",
            "   True  True  True  True  True  True  True  True  True  True  True  True\n",
            "   True  True  True  True  True  True]]\n"
          ]
        }
      ]
    },
    {
      "cell_type": "code",
      "source": [
        "print(mtz[mtz>4500])#Retorna somente os números que atendem a condição"
      ],
      "metadata": {
        "colab": {
          "base_uri": "https://localhost:8080/"
        },
        "id": "6OMhAt7m0vha",
        "outputId": "1eb68504-fd77-4191-b90a-8bec32b0005d"
      },
      "execution_count": null,
      "outputs": [
        {
          "output_type": "stream",
          "name": "stdout",
          "text": [
            "[4510 4520 4530 4540 4550 4560 4570 4580 4590 4600 4610 4620 4630 4640\n",
            " 4650 4660 4670 4680 4690 4700 4710 4720 4730 4740 4750 4760 4770 4780\n",
            " 4790 4800 4810 4820 4830 4840 4850 4860 4870 4880 4890 4900 4910 4920\n",
            " 4930 4940 4950 4960 4970 4980 4990 5000 5010 5020 5030 5040 5050 5060\n",
            " 5070 5080 5090 5100 5110 5120 5130 5140 5150 5160 5170 5180 5190 5200\n",
            " 5210 5220 5230 5240 5250 5260 5270 5280 5290 5300 5310 5320 5330 5340\n",
            " 5350 5360 5370 5380 5390 5400 5410 5420 5430 5440 5450 5460 5470 5480\n",
            " 5490 5500 5510 5520 5530 5540 5550 5560 5570 5580 5590 5600 5610 5620\n",
            " 5630 5640 5650 5660 5670 5680 5690 5700 5710 5720 5730 5740 5750 5760\n",
            " 5770 5780 5790 5800 5810 5820 5830 5840 5850 5860 5870 5880 5890 5900\n",
            " 5910 5920 5930 5940 5950 5960 5970 5980 5990 6000 6010 6020 6030 6040\n",
            " 6050 6060 6070 6080 6090 6100 6110 6120 6130 6140 6150 6160 6170 6180\n",
            " 6190 6200 6210 6220 6230 6240 6250 6260 6270 6280 6290 6300 6310 6320\n",
            " 6330 6340 6350 6360 6370 6380 6390 6400 6410 6420 6430 6440 6450 6460\n",
            " 6470 6480 6490 6500 6510 6520 6530 6540 6550 6560 6570 6580 6590 6600\n",
            " 6610 6620 6630 6640 6650 6660 6670 6680 6690 6700 6710 6720 6730 6740\n",
            " 6750 6760 6770 6780 6790 6800 6810 6820 6830 6840 6850 6860 6870 6880\n",
            " 6890 6900 6910 6920 6930 6940 6950 6960 6970 6980 6990 7000 7010 7020\n",
            " 7030 7040 7050 7060 7070 7080 7090 7100 7110 7120 7130 7140 7150 7160\n",
            " 7170 7180 7190 7200 7210 7220 7230 7240 7250 7260 7270 7280 7290 7300\n",
            " 7310 7320 7330 7340 7350 7360 7370 7380 7390 7400 7410 7420 7430 7440\n",
            " 7450 7460 7470 7480 7490 7500 7510 7520 7530 7540 7550 7560 7570 7580\n",
            " 7590 7600 7610 7620 7630 7640 7650 7660 7670 7680 7690 7700 7710 7720\n",
            " 7730 7740 7750 7760 7770 7780 7790 7800 7810 7820 7830 7840 7850 7860\n",
            " 7870 7880 7890 7900 7910 7920 7930 7940 7950 7960 7970 7980 7990 8000\n",
            " 8010 8020 8030 8040 8050 8060 8070 8080 8090 8100 8110 8120 8130 8140\n",
            " 8150 8160 8170 8180 8190 8200 8210 8220 8230 8240 8250 8260 8270 8280\n",
            " 8290 8300 8310 8320 8330 8340 8350 8360 8370 8380 8390 8400 8410 8420\n",
            " 8430 8440 8450 8460 8470 8480 8490 8500 8510 8520 8530 8540 8550 8560\n",
            " 8570 8580 8590 8600 8610 8620 8630 8640 8650 8660 8670 8680 8690 8700\n",
            " 8710 8720 8730 8740 8750 8760 8770 8780 8790 8800 8810 8820 8830 8840\n",
            " 8850 8860 8870 8880 8890 8900 8910 8920 8930 8940 8950 8960 8970 8980\n",
            " 8990]\n"
          ]
        }
      ]
    },
    {
      "cell_type": "code",
      "source": [
        "print(mtz[mtz%2==0])"
      ],
      "metadata": {
        "colab": {
          "base_uri": "https://localhost:8080/"
        },
        "id": "XwtpYGJM1qKN",
        "outputId": "ba00eda0-4069-415e-9293-f8cd211f8044"
      },
      "execution_count": null,
      "outputs": [
        {
          "output_type": "stream",
          "name": "stdout",
          "text": [
            "[   0   10   20   30   40   50   60   70   80   90  100  110  120  130\n",
            "  140  150  160  170  180  190  200  210  220  230  240  250  260  270\n",
            "  280  290  300  310  320  330  340  350  360  370  380  390  400  410\n",
            "  420  430  440  450  460  470  480  490  500  510  520  530  540  550\n",
            "  560  570  580  590  600  610  620  630  640  650  660  670  680  690\n",
            "  700  710  720  730  740  750  760  770  780  790  800  810  820  830\n",
            "  840  850  860  870  880  890  900  910  920  930  940  950  960  970\n",
            "  980  990 1000 1010 1020 1030 1040 1050 1060 1070 1080 1090 1100 1110\n",
            " 1120 1130 1140 1150 1160 1170 1180 1190 1200 1210 1220 1230 1240 1250\n",
            " 1260 1270 1280 1290 1300 1310 1320 1330 1340 1350 1360 1370 1380 1390\n",
            " 1400 1410 1420 1430 1440 1450 1460 1470 1480 1490 1500 1510 1520 1530\n",
            " 1540 1550 1560 1570 1580 1590 1600 1610 1620 1630 1640 1650 1660 1670\n",
            " 1680 1690 1700 1710 1720 1730 1740 1750 1760 1770 1780 1790 1800 1810\n",
            " 1820 1830 1840 1850 1860 1870 1880 1890 1900 1910 1920 1930 1940 1950\n",
            " 1960 1970 1980 1990 2000 2010 2020 2030 2040 2050 2060 2070 2080 2090\n",
            " 2100 2110 2120 2130 2140 2150 2160 2170 2180 2190 2200 2210 2220 2230\n",
            " 2240 2250 2260 2270 2280 2290 2300 2310 2320 2330 2340 2350 2360 2370\n",
            " 2380 2390 2400 2410 2420 2430 2440 2450 2460 2470 2480 2490 2500 2510\n",
            " 2520 2530 2540 2550 2560 2570 2580 2590 2600 2610 2620 2630 2640 2650\n",
            " 2660 2670 2680 2690 2700 2710 2720 2730 2740 2750 2760 2770 2780 2790\n",
            " 2800 2810 2820 2830 2840 2850 2860 2870 2880 2890 2900 2910 2920 2930\n",
            " 2940 2950 2960 2970 2980 2990 3000 3010 3020 3030 3040 3050 3060 3070\n",
            " 3080 3090 3100 3110 3120 3130 3140 3150 3160 3170 3180 3190 3200 3210\n",
            " 3220 3230 3240 3250 3260 3270 3280 3290 3300 3310 3320 3330 3340 3350\n",
            " 3360 3370 3380 3390 3400 3410 3420 3430 3440 3450 3460 3470 3480 3490\n",
            " 3500 3510 3520 3530 3540 3550 3560 3570 3580 3590 3600 3610 3620 3630\n",
            " 3640 3650 3660 3670 3680 3690 3700 3710 3720 3730 3740 3750 3760 3770\n",
            " 3780 3790 3800 3810 3820 3830 3840 3850 3860 3870 3880 3890 3900 3910\n",
            " 3920 3930 3940 3950 3960 3970 3980 3990 4000 4010 4020 4030 4040 4050\n",
            " 4060 4070 4080 4090 4100 4110 4120 4130 4140 4150 4160 4170 4180 4190\n",
            " 4200 4210 4220 4230 4240 4250 4260 4270 4280 4290 4300 4310 4320 4330\n",
            " 4340 4350 4360 4370 4380 4390 4400 4410 4420 4430 4440 4450 4460 4470\n",
            " 4480 4490 4500 4510 4520 4530 4540 4550 4560 4570 4580 4590 4600 4610\n",
            " 4620 4630 4640 4650 4660 4670 4680 4690 4700 4710 4720 4730 4740 4750\n",
            " 4760 4770 4780 4790 4800 4810 4820 4830 4840 4850 4860 4870 4880 4890\n",
            " 4900 4910 4920 4930 4940 4950 4960 4970 4980 4990 5000 5010 5020 5030\n",
            " 5040 5050 5060 5070 5080 5090 5100 5110 5120 5130 5140 5150 5160 5170\n",
            " 5180 5190 5200 5210 5220 5230 5240 5250 5260 5270 5280 5290 5300 5310\n",
            " 5320 5330 5340 5350 5360 5370 5380 5390 5400 5410 5420 5430 5440 5450\n",
            " 5460 5470 5480 5490 5500 5510 5520 5530 5540 5550 5560 5570 5580 5590\n",
            " 5600 5610 5620 5630 5640 5650 5660 5670 5680 5690 5700 5710 5720 5730\n",
            " 5740 5750 5760 5770 5780 5790 5800 5810 5820 5830 5840 5850 5860 5870\n",
            " 5880 5890 5900 5910 5920 5930 5940 5950 5960 5970 5980 5990 6000 6010\n",
            " 6020 6030 6040 6050 6060 6070 6080 6090 6100 6110 6120 6130 6140 6150\n",
            " 6160 6170 6180 6190 6200 6210 6220 6230 6240 6250 6260 6270 6280 6290\n",
            " 6300 6310 6320 6330 6340 6350 6360 6370 6380 6390 6400 6410 6420 6430\n",
            " 6440 6450 6460 6470 6480 6490 6500 6510 6520 6530 6540 6550 6560 6570\n",
            " 6580 6590 6600 6610 6620 6630 6640 6650 6660 6670 6680 6690 6700 6710\n",
            " 6720 6730 6740 6750 6760 6770 6780 6790 6800 6810 6820 6830 6840 6850\n",
            " 6860 6870 6880 6890 6900 6910 6920 6930 6940 6950 6960 6970 6980 6990\n",
            " 7000 7010 7020 7030 7040 7050 7060 7070 7080 7090 7100 7110 7120 7130\n",
            " 7140 7150 7160 7170 7180 7190 7200 7210 7220 7230 7240 7250 7260 7270\n",
            " 7280 7290 7300 7310 7320 7330 7340 7350 7360 7370 7380 7390 7400 7410\n",
            " 7420 7430 7440 7450 7460 7470 7480 7490 7500 7510 7520 7530 7540 7550\n",
            " 7560 7570 7580 7590 7600 7610 7620 7630 7640 7650 7660 7670 7680 7690\n",
            " 7700 7710 7720 7730 7740 7750 7760 7770 7780 7790 7800 7810 7820 7830\n",
            " 7840 7850 7860 7870 7880 7890 7900 7910 7920 7930 7940 7950 7960 7970\n",
            " 7980 7990 8000 8010 8020 8030 8040 8050 8060 8070 8080 8090 8100 8110\n",
            " 8120 8130 8140 8150 8160 8170 8180 8190 8200 8210 8220 8230 8240 8250\n",
            " 8260 8270 8280 8290 8300 8310 8320 8330 8340 8350 8360 8370 8380 8390\n",
            " 8400 8410 8420 8430 8440 8450 8460 8470 8480 8490 8500 8510 8520 8530\n",
            " 8540 8550 8560 8570 8580 8590 8600 8610 8620 8630 8640 8650 8660 8670\n",
            " 8680 8690 8700 8710 8720 8730 8740 8750 8760 8770 8780 8790 8800 8810\n",
            " 8820 8830 8840 8850 8860 8870 8880 8890 8900 8910 8920 8930 8940 8950\n",
            " 8960 8970 8980 8990]\n"
          ]
        }
      ]
    },
    {
      "cell_type": "markdown",
      "source": [
        "## Tratamento Textual(subpacote char)"
      ],
      "metadata": {
        "id": "KzoqhSG43Jdm"
      }
    },
    {
      "cell_type": "code",
      "source": [
        "arr = np.array(['Renzo', 'Soned', 'Ynogut', 'Renan', 'Dani'])\n",
        "print(arr)"
      ],
      "metadata": {
        "colab": {
          "base_uri": "https://localhost:8080/"
        },
        "id": "P7QyISBL2Upm",
        "outputId": "2b585b3a-a970-433e-840c-4968207ec0e7"
      },
      "execution_count": null,
      "outputs": [
        {
          "output_type": "stream",
          "name": "stdout",
          "text": [
            "['Renzo' 'Soned' 'Ynogut' 'Renan' 'Dani']\n"
          ]
        }
      ]
    },
    {
      "cell_type": "code",
      "source": [
        "print(np.char.find(arr, 'R'))#Função que retorna -1 quando não acha e um valor numérico >= para o índice de onde está dentro string o match\n",
        "print(arr[np.char.find(arr, 'R')!=-1])"
      ],
      "metadata": {
        "colab": {
          "base_uri": "https://localhost:8080/"
        },
        "id": "GnrwR-qR3Wvv",
        "outputId": "d49c5de3-f696-42d1-f3ca-ba5d4eb375b6"
      },
      "execution_count": null,
      "outputs": [
        {
          "output_type": "stream",
          "name": "stdout",
          "text": [
            "[ 0 -1 -1  0 -1]\n",
            "['Renzo' 'Renan']\n"
          ]
        }
      ]
    },
    {
      "cell_type": "markdown",
      "source": [
        "## Importando data set no numpy"
      ],
      "metadata": {
        "id": "YV3Y4F6G7se9"
      }
    },
    {
      "cell_type": "code",
      "source": [
        "ds = np.loadtxt('space.csv', delimiter = ';', dtype = str, encoding='utf-8')\n",
        "print(ds)"
      ],
      "metadata": {
        "colab": {
          "base_uri": "https://localhost:8080/"
        },
        "id": "bnhmoSD_3tgE",
        "outputId": "7997dc04-fa8d-45b5-d01d-9bbc7c35646b"
      },
      "execution_count": null,
      "outputs": [
        {
          "output_type": "stream",
          "name": "stdout",
          "text": [
            "[['\\ufeffNum' 'Company Name' 'Location' ... 'Status Rocket' ' Cost'\n",
            "  'Status Mission']\n",
            " ['0' 'SpaceX' 'LC-39A Kennedy Space Center Florida USA' ...\n",
            "  'StatusActive' '50.0 ' 'Success']\n",
            " ['1' 'CASC' 'Site 9401 (SLS-2) Jiuquan Satellite Launch Center China'\n",
            "  ... 'StatusActive' '29.75 ' 'Success']\n",
            " ...\n",
            " ['4321' 'US Navy' 'LC-18A Cape Canaveral AFS Florida USA' ...\n",
            "  'StatusRetired' '0' 'Failure']\n",
            " ['4322' 'RVSN USSR' 'Site 1/5 Baikonur Cosmodrome Kazakhstan' ...\n",
            "  'StatusRetired' '0' 'Success']\n",
            " ['4323' 'RVSN USSR' 'Site 1/5 Baikonur Cosmodrome Kazakhstan' ...\n",
            "  'StatusRetired' '0' 'Success']]\n"
          ]
        }
      ]
    },
    {
      "cell_type": "markdown",
      "source": [
        "### Colunas do dataset"
      ],
      "metadata": {
        "id": "kbQHtNYO9j0Q"
      }
    },
    {
      "cell_type": "code",
      "source": [
        "print(ds[0])"
      ],
      "metadata": {
        "colab": {
          "base_uri": "https://localhost:8080/"
        },
        "id": "z8Oq0s0Y8y9t",
        "outputId": "39e4a3ce-80c4-4017-881a-0efc6759411a"
      },
      "execution_count": null,
      "outputs": [
        {
          "output_type": "stream",
          "name": "stdout",
          "text": [
            "['\\ufeffNum' 'Company Name' 'Location' 'Datum' 'Detail' 'Status Rocket'\n",
            " ' Cost' 'Status Mission']\n"
          ]
        }
      ]
    },
    {
      "cell_type": "markdown",
      "source": [
        "### Calculando a média de uma missão espacial"
      ],
      "metadata": {
        "id": "RmJ8i6_s-p5h"
      }
    },
    {
      "cell_type": "code",
      "source": [
        "#Fazendo um slicing inicial do custo\n",
        "custo = ds[1:,-2]\n",
        "print(custo)\n",
        "#Colocando tudo em float e printando a média dos que colocaram valores\n",
        "custo = custo.astype(float)\n",
        "print(custo[custo!=0].mean())"
      ],
      "metadata": {
        "colab": {
          "base_uri": "https://localhost:8080/"
        },
        "id": "5rvS8VBc90OC",
        "outputId": "b32f1319-8339-4034-c3eb-05fd27f9fd14"
      },
      "execution_count": null,
      "outputs": [
        {
          "output_type": "stream",
          "name": "stdout",
          "text": [
            "['50.0 ' '29.75 ' '0' ... '0' '0' '0']\n",
            "153.7921991701245\n"
          ]
        }
      ]
    },
    {
      "cell_type": "code",
      "source": [],
      "metadata": {
        "id": "EKkFKVdm-04h"
      },
      "execution_count": null,
      "outputs": []
    }
  ]
}