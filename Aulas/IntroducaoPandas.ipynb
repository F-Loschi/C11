{
  "nbformat": 4,
  "nbformat_minor": 0,
  "metadata": {
    "colab": {
      "provenance": []
    },
    "kernelspec": {
      "name": "python3",
      "display_name": "Python 3"
    },
    "language_info": {
      "name": "python"
    }
  },
  "cells": [
    {
      "cell_type": "markdown",
      "source": [
        "#Pandas\n",
        "- Series: 1D collections\n",
        "- DataFrame: 2D+ collections\n",
        "- Open source that complements NumPy\n",
        "- Resources:\n",
        "  - Data treatment\n",
        "  - Slicing\n",
        "  - Data grouping"
      ],
      "metadata": {
        "id": "9kMd4QoJ4L1L"
      }
    },
    {
      "cell_type": "markdown",
      "source": [
        "##Importing Pandas"
      ],
      "metadata": {
        "id": "pMw3mD8N5lt5"
      }
    },
    {
      "cell_type": "code",
      "execution_count": null,
      "metadata": {
        "id": "4gV4L8z23RC7"
      },
      "outputs": [],
      "source": [
        "import pandas as pd\n",
        "import numpy as np"
      ]
    },
    {
      "cell_type": "markdown",
      "source": [
        "##Playing with Series\n",
        "- Series: series of elements, made by indexes and values that can be both definied as wanted"
      ],
      "metadata": {
        "id": "cMe4yk7N51jc"
      }
    },
    {
      "cell_type": "code",
      "source": [
        "indices = ['a', 'b', 'c']\n",
        "valores = [1, 2, 3]\n",
        "series = pd.Series(data=valores, index=indices)\n",
        "print(series, type(series))"
      ],
      "metadata": {
        "colab": {
          "base_uri": "https://localhost:8080/"
        },
        "id": "H-TZGxR25tEf",
        "outputId": "4b26c063-e9b0-489d-f537-80331d0f574a"
      },
      "execution_count": null,
      "outputs": [
        {
          "output_type": "stream",
          "name": "stdout",
          "text": [
            "a    1\n",
            "b    2\n",
            "c    3\n",
            "dtype: int64 <class 'pandas.core.series.Series'>\n"
          ]
        }
      ]
    },
    {
      "cell_type": "markdown",
      "source": [
        "###Series with dictionaries\n",
        "- We can make a series by passing a dictionary"
      ],
      "metadata": {
        "id": "623Lhi4Q6466"
      }
    },
    {
      "cell_type": "code",
      "source": [
        "dick = {\n",
        "    'Luffy': \"Capitão\",\n",
        "    'Zoro': \"Vice-Capitão\",\n",
        "    'Sanji': \"Cozinheiro\",\n",
        "    'Nami': \"Navegadora\",\n",
        "    'Usopp': \"Atirador\",\n",
        "    'Chopper': \"Médico\",\n",
        "    'Robin': \"Arqueóloga\"\n",
        "}\n",
        "\n",
        "series = pd.Series(dick)\n",
        "print(series, type(series))\n"
      ],
      "metadata": {
        "colab": {
          "base_uri": "https://localhost:8080/"
        },
        "id": "PJ7OE8i_6fsD",
        "outputId": "2afcfbe3-2a20-4082-d135-95d713ac88fc"
      },
      "execution_count": null,
      "outputs": [
        {
          "output_type": "stream",
          "name": "stdout",
          "text": [
            "Luffy           Capitão\n",
            "Zoro       Vice-Capitão\n",
            "Sanji        Cozinheiro\n",
            "Nami         Navegadora\n",
            "Usopp          Atirador\n",
            "Chopper          Médico\n",
            "Robin        Arqueóloga\n",
            "dtype: object <class 'pandas.core.series.Series'>\n"
          ]
        }
      ]
    },
    {
      "cell_type": "markdown",
      "source": [
        "###Acessing a value"
      ],
      "metadata": {
        "id": "kxjwgl_k7xRj"
      }
    },
    {
      "cell_type": "code",
      "source": [
        "print(series['Luffy'])"
      ],
      "metadata": {
        "colab": {
          "base_uri": "https://localhost:8080/"
        },
        "id": "uZCL7kXT7158",
        "outputId": "a4d6d179-952f-46d7-d1d3-2dd20f4b689e"
      },
      "execution_count": null,
      "outputs": [
        {
          "output_type": "stream",
          "name": "stdout",
          "text": [
            "Capitão\n"
          ]
        }
      ]
    },
    {
      "cell_type": "markdown",
      "source": [
        "###Operation with series"
      ],
      "metadata": {
        "id": "suPaJG9a8Cma"
      }
    },
    {
      "cell_type": "markdown",
      "source": [
        "####Sum"
      ],
      "metadata": {
        "id": "Bv7YgE5L8hXK"
      }
    },
    {
      "cell_type": "code",
      "source": [
        "series1 = pd.Series([1, 2, 4, 50, 250, 250123, 1425455], index=['a', 'b', 'd', 'g', 'j', 'l', 'z'])\n",
        "series2 = pd.Series([10, 20, 30, 50, 250, 250123, 1425455], index=['a', 'b', 'c', 'f', 'h','m', 'y'])\n",
        "print(series1 + series2)"
      ],
      "metadata": {
        "colab": {
          "base_uri": "https://localhost:8080/"
        },
        "id": "e-h99iEE74Ha",
        "outputId": "f81827b7-bbb4-4318-9267-f89cc1c369af"
      },
      "execution_count": null,
      "outputs": [
        {
          "output_type": "stream",
          "name": "stdout",
          "text": [
            "a    11.0\n",
            "b    22.0\n",
            "c     NaN\n",
            "d     NaN\n",
            "f     NaN\n",
            "g     NaN\n",
            "h     NaN\n",
            "j     NaN\n",
            "l     NaN\n",
            "m     NaN\n",
            "y     NaN\n",
            "z     NaN\n",
            "dtype: float64\n"
          ]
        }
      ]
    },
    {
      "cell_type": "markdown",
      "source": [
        "####Subtraction"
      ],
      "metadata": {
        "id": "sZveSrCE8jP6"
      }
    },
    {
      "cell_type": "code",
      "source": [
        "print(series1 - series2)"
      ],
      "metadata": {
        "colab": {
          "base_uri": "https://localhost:8080/"
        },
        "id": "zpTXYNJv8JHg",
        "outputId": "47f6b2a9-8380-475a-d9b8-28767bffd5d4"
      },
      "execution_count": null,
      "outputs": [
        {
          "output_type": "stream",
          "name": "stdout",
          "text": [
            "a    -9.0\n",
            "b   -18.0\n",
            "c     NaN\n",
            "d     NaN\n",
            "f     NaN\n",
            "g     NaN\n",
            "h     NaN\n",
            "j     NaN\n",
            "l     NaN\n",
            "m     NaN\n",
            "y     NaN\n",
            "z     NaN\n",
            "dtype: float64\n"
          ]
        }
      ]
    },
    {
      "cell_type": "markdown",
      "source": [
        "***It only works when the index of one side matches the other***"
      ],
      "metadata": {
        "id": "mVY2vGhg9GCs"
      }
    },
    {
      "cell_type": "markdown",
      "source": [
        "###Making it the Pandas way"
      ],
      "metadata": {
        "id": "6GFCBKCI9Tsz"
      }
    },
    {
      "cell_type": "markdown",
      "source": [
        "- Pandas has an in-built function that makes sums and subtractions that trades an index that exists in just one side with a set number"
      ],
      "metadata": {
        "id": "Nv0KF0dg9cbI"
      }
    },
    {
      "cell_type": "code",
      "source": [
        "print(series1.add(series2, fill_value=550408))\n",
        "print(series1.sub(series2, fill_value=520507))"
      ],
      "metadata": {
        "colab": {
          "base_uri": "https://localhost:8080/"
        },
        "id": "K9CI6O7R9RRG",
        "outputId": "88b205ce-81b3-4d09-9fbf-6dba00a3ab99"
      },
      "execution_count": null,
      "outputs": [
        {
          "output_type": "stream",
          "name": "stdout",
          "text": [
            "a         11.0\n",
            "b         22.0\n",
            "c     550438.0\n",
            "d     550412.0\n",
            "f     550458.0\n",
            "g     550458.0\n",
            "h     550658.0\n",
            "j     550658.0\n",
            "l     800531.0\n",
            "m     800531.0\n",
            "y    1975863.0\n",
            "z    1975863.0\n",
            "dtype: float64\n",
            "a        -9.0\n",
            "b       -18.0\n",
            "c    520477.0\n",
            "d   -520503.0\n",
            "f    520457.0\n",
            "g   -520457.0\n",
            "h    520257.0\n",
            "j   -520257.0\n",
            "l   -270384.0\n",
            "m    270384.0\n",
            "y   -904948.0\n",
            "z    904948.0\n",
            "dtype: float64\n"
          ]
        }
      ]
    },
    {
      "cell_type": "markdown",
      "source": [
        "###Condictionaries with Pandas"
      ],
      "metadata": {
        "id": "7ynGqN4y-eln"
      }
    },
    {
      "cell_type": "code",
      "source": [
        "print(series2[series2<=20])"
      ],
      "metadata": {
        "colab": {
          "base_uri": "https://localhost:8080/"
        },
        "id": "jOAfWHcA9rsF",
        "outputId": "55023ad8-1a84-49a1-e780-ee42258a843a"
      },
      "execution_count": null,
      "outputs": [
        {
          "output_type": "stream",
          "name": "stdout",
          "text": [
            "a    10\n",
            "b    20\n",
            "dtype: int64\n"
          ]
        }
      ]
    },
    {
      "cell_type": "markdown",
      "source": [
        "**I wouldn't be able to use a mask of a *series* in another *series* if their indexes don't match**"
      ],
      "metadata": {
        "id": "qQCdI6_HdLSZ"
      }
    },
    {
      "cell_type": "markdown",
      "source": [
        "## Playing with DataFrame:\n",
        "- Collection of series, meaning, multidimensional serie"
      ],
      "metadata": {
        "id": "e36V6xl4_1O6"
      }
    },
    {
      "cell_type": "code",
      "source": [
        "np.random.seed(10)\n",
        "# Tripulation data\n",
        "data = {\n",
        "    \"Nome\": [\"Luffy\", \"Zoro\", \"Sanji\", \"Nami\", \"Usopp\", \"Chopper\", \"Robin\", \"Franky\", \"Brook\", \"Jinbe\"],\n",
        "    \"Função\": [\"Capitão\", \"Vice-Capitão\", \"Cozinheiro\", \"Navegadora\", \"Atirador\", \"Médico\", \"Arqueóloga\", \"Carpinteiro\", \"Músico\", \"Timoneiro\"],\n",
        "    \"Recompensa (em Berries)\": [3000000000, 1111000000, 1032000000, 366000000, 500000000, 1000000, 930000000, 394000000, 383000000, 1100000000],\n",
        "    \"Origem\": [\"East Blue\", \"East Blue\", \"North Blue\", \"East Blue\", \"East Blue\", \"Drum Island\", \"Ohara\", \"Water 7\", \"West Blue\", \"Fishman Island\"]\n",
        "}\n",
        "\n",
        "df1 = pd.DataFrame(\n",
        "    index = ['a', 'b', 'c', 'd', 'e', 'f', 'g', 'h', 'i', 'j'],\n",
        "    columns = ['K', 'L', 'M', 'N', 'O', 'P', 'Q', 'R', 'S', 'T'],\n",
        "    data = np.random.randint(1, 100, size=(10, 10))\n",
        "    )\n",
        "print(df1)\n",
        "\n",
        "# Creating the DataFrame\n",
        "df = pd.DataFrame(data)\n",
        "\n",
        "print(df)\n"
      ],
      "metadata": {
        "colab": {
          "base_uri": "https://localhost:8080/"
        },
        "id": "Dbrwz3T9-q0W",
        "outputId": "42e29b8e-1eba-4a40-fdad-79b470d5ca8f"
      },
      "execution_count": null,
      "outputs": [
        {
          "output_type": "stream",
          "name": "stdout",
          "text": [
            "    K   L   M   N   O   P   Q   R   S   T\n",
            "a  10  16  65  29  90  94  30   9  74   1\n",
            "b  41  37  17  12  55  89  63  34  73  79\n",
            "c  50  52  55  78  70  14  26  14  93  87\n",
            "d  31  31  90  13  66  32  58  37  28  19\n",
            "e  94  78  23  24  95  12  29  75  89  10\n",
            "f  16  19  81  72  89  12  18  47   8  76\n",
            "g  29  34  85  97  89  45   6   5  72  89\n",
            "h  89  51  55  35  16  78  89  16   7  86\n",
            "i  23  12  13  93  97  63  58  80  43  58\n",
            "j  98  51  46  41  90  74  38   1  19  24\n",
            "      Nome        Função  Recompensa (em Berries)          Origem\n",
            "0    Luffy       Capitão               3000000000       East Blue\n",
            "1     Zoro  Vice-Capitão               1111000000       East Blue\n",
            "2    Sanji    Cozinheiro               1032000000      North Blue\n",
            "3     Nami    Navegadora                366000000       East Blue\n",
            "4    Usopp      Atirador                500000000       East Blue\n",
            "5  Chopper        Médico                  1000000     Drum Island\n",
            "6    Robin    Arqueóloga                930000000           Ohara\n",
            "7   Franky   Carpinteiro                394000000         Water 7\n",
            "8    Brook        Músico                383000000       West Blue\n",
            "9    Jinbe     Timoneiro               1100000000  Fishman Island\n"
          ]
        }
      ]
    },
    {
      "cell_type": "markdown",
      "source": [
        "###Making a slicing with iloc(numpy pattern - numerical index)"
      ],
      "metadata": {
        "id": "fZ4YEsjxCChX"
      }
    },
    {
      "cell_type": "code",
      "source": [
        "print(df.iloc[0:3,0:2])"
      ],
      "metadata": {
        "colab": {
          "base_uri": "https://localhost:8080/"
        },
        "id": "V8QjnGsQAHX0",
        "outputId": "65468e6a-6c1b-49fb-9e41-af3fd8b1a10f"
      },
      "execution_count": null,
      "outputs": [
        {
          "output_type": "stream",
          "name": "stdout",
          "text": [
            "    Nome        Função\n",
            "0  Luffy       Capitão\n",
            "1   Zoro  Vice-Capitão\n",
            "2  Sanji    Cozinheiro\n"
          ]
        }
      ]
    },
    {
      "cell_type": "markdown",
      "source": [
        "###Making a slicing with loc"
      ],
      "metadata": {
        "id": "z9naEmdfCUNv"
      }
    },
    {
      "cell_type": "code",
      "source": [
        "print(df.loc[[0,1,2,3,4,5], ['Nome','Função', 'Recompensa (em Berries)']])"
      ],
      "metadata": {
        "colab": {
          "base_uri": "https://localhost:8080/"
        },
        "id": "D6AOC8LiCMAo",
        "outputId": "b5f4e37c-4298-4444-b029-187f67fdd05b"
      },
      "execution_count": null,
      "outputs": [
        {
          "output_type": "stream",
          "name": "stdout",
          "text": [
            "      Nome        Função  Recompensa (em Berries)\n",
            "0    Luffy       Capitão               3000000000\n",
            "1     Zoro  Vice-Capitão               1111000000\n",
            "2    Sanji    Cozinheiro               1032000000\n",
            "3     Nami    Navegadora                366000000\n",
            "4    Usopp      Atirador                500000000\n",
            "5  Chopper        Médico                  1000000\n"
          ]
        }
      ]
    },
    {
      "cell_type": "markdown",
      "source": [
        "##Datasets com Pandas"
      ],
      "metadata": {
        "id": "jFv65G607BUA"
      }
    },
    {
      "cell_type": "markdown",
      "source": [
        "###Importing"
      ],
      "metadata": {
        "id": "2IboO1qG9chg"
      }
    },
    {
      "cell_type": "code",
      "source": [
        "df = pd.read_csv(\"/content/paises.csv\", delimiter=\";\")\n",
        "print(df)"
      ],
      "metadata": {
        "colab": {
          "base_uri": "https://localhost:8080/"
        },
        "id": "r8vpvYy87Gxv",
        "outputId": "488a0226-8efa-4723-fbf2-c8709751c843"
      },
      "execution_count": null,
      "outputs": [
        {
          "output_type": "stream",
          "name": "stdout",
          "text": [
            "             Country                               Region  Population  \\\n",
            "0       Afghanistan         ASIA (EX. NEAR EAST)             31056997   \n",
            "1           Albania   EASTERN EUROPE                          3581655   \n",
            "2           Algeria   NORTHERN AFRICA                        32930091   \n",
            "3    American Samoa   OCEANIA                                   57794   \n",
            "4           Andorra   WESTERN EUROPE                            71201   \n",
            "..               ...                                  ...         ...   \n",
            "222       West Bank   NEAR EAST                               2460492   \n",
            "223  Western Sahara   NORTHERN AFRICA                          273008   \n",
            "224           Yemen   NEAR EAST                              21456188   \n",
            "225          Zambia   SUB-SAHARAN AFRICA                     11502010   \n",
            "226        Zimbabwe   SUB-SAHARAN AFRICA                     12236805   \n",
            "\n",
            "     Area (sq. mi.)  Pop. Density (per sq. mi.)  Coastline (coast/area ratio)  \\\n",
            "0            647500                        48.0                          0.00   \n",
            "1             28748                       124.6                          1.26   \n",
            "2           2381740                        13.8                          0.04   \n",
            "3               199                       290.4                         58.29   \n",
            "4               468                       152.1                          0.00   \n",
            "..              ...                         ...                           ...   \n",
            "222            5860                       419.9                          0.00   \n",
            "223          266000                         1.0                          0.42   \n",
            "224          527970                        40.6                          0.36   \n",
            "225          752614                        15.3                          0.00   \n",
            "226          390580                        31.3                          0.00   \n",
            "\n",
            "     Net migration  Infant mortality (per 1000 births)  GDP ($ per capita)  \\\n",
            "0            23.06                              163.07                 700   \n",
            "1            -4.93                               21.52                4500   \n",
            "2            -0.39                               31.00                6000   \n",
            "3           -20.71                                9.27                8000   \n",
            "4             6.60                                4.05               19000   \n",
            "..             ...                                 ...                 ...   \n",
            "222           2.98                               19.62                 800   \n",
            "223           0.00                                0.00                   0   \n",
            "224           0.00                               61.50                 800   \n",
            "225           0.00                               88.29                 800   \n",
            "226           0.00                               67.69                1900   \n",
            "\n",
            "     Literacy (%)  Phones (per 1000)  Arable (%)  Crops (%)  Other (%)  \\\n",
            "0            36.0                3.2       12.13       0.22      87.65   \n",
            "1            86.5               71.2       21.09       4.42      74.49   \n",
            "2            70.0               78.1        3.22       0.25      96.53   \n",
            "3            97.0              259.5       10.00      15.00      75.00   \n",
            "4           100.0              497.2        2.22       0.00      97.78   \n",
            "..            ...                ...         ...        ...        ...   \n",
            "222           0.0              145.2       16.90      18.97      64.13   \n",
            "223           0.0                0.0        0.02       0.00      99.98   \n",
            "224          50.2               37.2        2.78       0.24      96.98   \n",
            "225          80.6                8.2        7.08       0.03      92.90   \n",
            "226          90.7               26.8        8.32       0.34      91.34   \n",
            "\n",
            "     Climate  Birthrate  Deathrate  Agriculture  Industry  Service  \n",
            "0        1.0      46.60      20.34        0.380     0.240    0.380  \n",
            "1        3.0      15.11       5.22        0.232     0.188    0.579  \n",
            "2        1.0      17.14       4.61        0.101     0.600    0.298  \n",
            "3        2.0      22.46       3.27        0.000     0.000    0.000  \n",
            "4        3.0       8.71       6.25        0.000     0.000    0.000  \n",
            "..       ...        ...        ...          ...       ...      ...  \n",
            "222      3.0      31.67       3.92        0.090     0.280    0.630  \n",
            "223      1.0       0.00       0.00        0.000     0.000    0.400  \n",
            "224      1.0      42.89       8.30        0.135     0.472    0.393  \n",
            "225      2.0      41.00      19.93        0.220     0.290    0.489  \n",
            "226      2.0      28.01      21.84        0.179     0.243    0.579  \n",
            "\n",
            "[227 rows x 20 columns]\n"
          ]
        }
      ]
    },
    {
      "cell_type": "markdown",
      "source": [
        "###Showing the columns"
      ],
      "metadata": {
        "id": "klOYcJoL8Xf6"
      }
    },
    {
      "cell_type": "code",
      "source": [
        "print(df.columns)"
      ],
      "metadata": {
        "colab": {
          "base_uri": "https://localhost:8080/"
        },
        "id": "pwulmyNC7d21",
        "outputId": "f4dfec18-e4c5-467f-977a-0ef832066d62"
      },
      "execution_count": null,
      "outputs": [
        {
          "output_type": "stream",
          "name": "stdout",
          "text": [
            "Index(['Country', 'Region', 'Population', 'Area (sq. mi.)',\n",
            "       'Pop. Density (per sq. mi.)', 'Coastline (coast/area ratio)',\n",
            "       'Net migration', 'Infant mortality (per 1000 births)',\n",
            "       'GDP ($ per capita)', 'Literacy (%)', 'Phones (per 1000)', 'Arable (%)',\n",
            "       'Crops (%)', 'Other (%)', 'Climate', 'Birthrate', 'Deathrate',\n",
            "       'Agriculture', 'Industry', 'Service'],\n",
            "      dtype='object')\n"
          ]
        }
      ]
    },
    {
      "cell_type": "markdown",
      "source": [
        "###Printing the first 'n' columns of the df"
      ],
      "metadata": {
        "id": "pBNnFDsc8sGR"
      }
    },
    {
      "cell_type": "code",
      "source": [
        "print(df.head(5))"
      ],
      "metadata": {
        "colab": {
          "base_uri": "https://localhost:8080/"
        },
        "id": "iHtmdWw18ehg",
        "outputId": "e020b88d-1c5d-4ba7-be58-be3c48d6bbb8"
      },
      "execution_count": null,
      "outputs": [
        {
          "output_type": "stream",
          "name": "stdout",
          "text": [
            "           Country                               Region  Population  \\\n",
            "0     Afghanistan         ASIA (EX. NEAR EAST)             31056997   \n",
            "1         Albania   EASTERN EUROPE                          3581655   \n",
            "2         Algeria   NORTHERN AFRICA                        32930091   \n",
            "3  American Samoa   OCEANIA                                   57794   \n",
            "4         Andorra   WESTERN EUROPE                            71201   \n",
            "\n",
            "   Area (sq. mi.)  Pop. Density (per sq. mi.)  Coastline (coast/area ratio)  \\\n",
            "0          647500                        48.0                          0.00   \n",
            "1           28748                       124.6                          1.26   \n",
            "2         2381740                        13.8                          0.04   \n",
            "3             199                       290.4                         58.29   \n",
            "4             468                       152.1                          0.00   \n",
            "\n",
            "   Net migration  Infant mortality (per 1000 births)  GDP ($ per capita)  \\\n",
            "0          23.06                              163.07                 700   \n",
            "1          -4.93                               21.52                4500   \n",
            "2          -0.39                               31.00                6000   \n",
            "3         -20.71                                9.27                8000   \n",
            "4           6.60                                4.05               19000   \n",
            "\n",
            "   Literacy (%)  Phones (per 1000)  Arable (%)  Crops (%)  Other (%)  Climate  \\\n",
            "0          36.0                3.2       12.13       0.22      87.65      1.0   \n",
            "1          86.5               71.2       21.09       4.42      74.49      3.0   \n",
            "2          70.0               78.1        3.22       0.25      96.53      1.0   \n",
            "3          97.0              259.5       10.00      15.00      75.00      2.0   \n",
            "4         100.0              497.2        2.22       0.00      97.78      3.0   \n",
            "\n",
            "   Birthrate  Deathrate  Agriculture  Industry  Service  \n",
            "0      46.60      20.34        0.380     0.240    0.380  \n",
            "1      15.11       5.22        0.232     0.188    0.579  \n",
            "2      17.14       4.61        0.101     0.600    0.298  \n",
            "3      22.46       3.27        0.000     0.000    0.000  \n",
            "4       8.71       6.25        0.000     0.000    0.000  \n"
          ]
        }
      ]
    },
    {
      "cell_type": "markdown",
      "source": [
        "###Printing the last 'n' columns of the df"
      ],
      "metadata": {
        "id": "D2PfKLl78wIC"
      }
    },
    {
      "cell_type": "code",
      "source": [
        "print(df.tail(5))"
      ],
      "metadata": {
        "colab": {
          "base_uri": "https://localhost:8080/"
        },
        "id": "ZDnkhZp08nob",
        "outputId": "6b0cd651-43de-4a84-86a9-8bbd4ec57491"
      },
      "execution_count": null,
      "outputs": [
        {
          "output_type": "stream",
          "name": "stdout",
          "text": [
            "             Country                               Region  Population  \\\n",
            "222       West Bank   NEAR EAST                               2460492   \n",
            "223  Western Sahara   NORTHERN AFRICA                          273008   \n",
            "224           Yemen   NEAR EAST                              21456188   \n",
            "225          Zambia   SUB-SAHARAN AFRICA                     11502010   \n",
            "226        Zimbabwe   SUB-SAHARAN AFRICA                     12236805   \n",
            "\n",
            "     Area (sq. mi.)  Pop. Density (per sq. mi.)  Coastline (coast/area ratio)  \\\n",
            "222            5860                       419.9                          0.00   \n",
            "223          266000                         1.0                          0.42   \n",
            "224          527970                        40.6                          0.36   \n",
            "225          752614                        15.3                          0.00   \n",
            "226          390580                        31.3                          0.00   \n",
            "\n",
            "     Net migration  Infant mortality (per 1000 births)  GDP ($ per capita)  \\\n",
            "222           2.98                               19.62                 800   \n",
            "223           0.00                                0.00                   0   \n",
            "224           0.00                               61.50                 800   \n",
            "225           0.00                               88.29                 800   \n",
            "226           0.00                               67.69                1900   \n",
            "\n",
            "     Literacy (%)  Phones (per 1000)  Arable (%)  Crops (%)  Other (%)  \\\n",
            "222           0.0              145.2       16.90      18.97      64.13   \n",
            "223           0.0                0.0        0.02       0.00      99.98   \n",
            "224          50.2               37.2        2.78       0.24      96.98   \n",
            "225          80.6                8.2        7.08       0.03      92.90   \n",
            "226          90.7               26.8        8.32       0.34      91.34   \n",
            "\n",
            "     Climate  Birthrate  Deathrate  Agriculture  Industry  Service  \n",
            "222      3.0      31.67       3.92        0.090     0.280    0.630  \n",
            "223      1.0       0.00       0.00        0.000     0.000    0.400  \n",
            "224      1.0      42.89       8.30        0.135     0.472    0.393  \n",
            "225      2.0      41.00      19.93        0.220     0.290    0.489  \n",
            "226      2.0      28.01      21.84        0.179     0.243    0.579  \n"
          ]
        }
      ]
    },
    {
      "cell_type": "markdown",
      "source": [
        "###Adding a new column to the df"
      ],
      "metadata": {
        "id": "MClKhdJa9RZd"
      }
    },
    {
      "cell_type": "markdown",
      "source": [
        "1. Let's first sum the whole population"
      ],
      "metadata": {
        "id": "ZsxcgQCe9gH1"
      }
    },
    {
      "cell_type": "code",
      "source": [
        "populationSum = df['Population'].sum()\n",
        "print(populationSum)"
      ],
      "metadata": {
        "colab": {
          "base_uri": "https://localhost:8080/"
        },
        "id": "MHEgOI2S80oL",
        "outputId": "5bb0e4de-80c1-490c-ee9b-0113a1c52796"
      },
      "execution_count": null,
      "outputs": [
        {
          "output_type": "stream",
          "name": "stdout",
          "text": [
            "6524044551\n"
          ]
        }
      ]
    },
    {
      "cell_type": "markdown",
      "source": [
        "2. Let's now calculate the % of each countries population in relation to the world"
      ],
      "metadata": {
        "id": "rYIRtVB5-YUO"
      }
    },
    {
      "cell_type": "code",
      "source": [
        "populationPercent = (df['Population']/populationSum)*100\n",
        "print(populationPercent)"
      ],
      "metadata": {
        "colab": {
          "base_uri": "https://localhost:8080/"
        },
        "id": "yHulueut-X8H",
        "outputId": "09782f93-cc90-4bbe-ef4c-951cfae35813"
      },
      "execution_count": null,
      "outputs": [
        {
          "output_type": "stream",
          "name": "stdout",
          "text": [
            "0      0.476039\n",
            "1      0.054899\n",
            "2      0.504750\n",
            "3      0.000886\n",
            "4      0.001091\n",
            "         ...   \n",
            "222    0.037714\n",
            "223    0.004185\n",
            "224    0.328879\n",
            "225    0.176302\n",
            "226    0.187565\n",
            "Name: Population, Length: 227, dtype: float64\n"
          ]
        }
      ]
    },
    {
      "cell_type": "markdown",
      "source": [
        "3. Now we add the column to the df"
      ],
      "metadata": {
        "id": "ad3DLE9V-5eO"
      }
    },
    {
      "cell_type": "code",
      "source": [
        "df['PopulationPercent'] = populationPercent\n",
        "print(df)"
      ],
      "metadata": {
        "colab": {
          "base_uri": "https://localhost:8080/"
        },
        "id": "c0MNx3ei9vCH",
        "outputId": "11a312c0-37e3-4f97-edd0-7446a4b58ec8"
      },
      "execution_count": null,
      "outputs": [
        {
          "output_type": "stream",
          "name": "stdout",
          "text": [
            "             Country                               Region  Population  \\\n",
            "0       Afghanistan         ASIA (EX. NEAR EAST)             31056997   \n",
            "1           Albania   EASTERN EUROPE                          3581655   \n",
            "2           Algeria   NORTHERN AFRICA                        32930091   \n",
            "3    American Samoa   OCEANIA                                   57794   \n",
            "4           Andorra   WESTERN EUROPE                            71201   \n",
            "..               ...                                  ...         ...   \n",
            "222       West Bank   NEAR EAST                               2460492   \n",
            "223  Western Sahara   NORTHERN AFRICA                          273008   \n",
            "224           Yemen   NEAR EAST                              21456188   \n",
            "225          Zambia   SUB-SAHARAN AFRICA                     11502010   \n",
            "226        Zimbabwe   SUB-SAHARAN AFRICA                     12236805   \n",
            "\n",
            "     Area (sq. mi.)  Pop. Density (per sq. mi.)  Coastline (coast/area ratio)  \\\n",
            "0            647500                        48.0                          0.00   \n",
            "1             28748                       124.6                          1.26   \n",
            "2           2381740                        13.8                          0.04   \n",
            "3               199                       290.4                         58.29   \n",
            "4               468                       152.1                          0.00   \n",
            "..              ...                         ...                           ...   \n",
            "222            5860                       419.9                          0.00   \n",
            "223          266000                         1.0                          0.42   \n",
            "224          527970                        40.6                          0.36   \n",
            "225          752614                        15.3                          0.00   \n",
            "226          390580                        31.3                          0.00   \n",
            "\n",
            "     Net migration  Infant mortality (per 1000 births)  GDP ($ per capita)  \\\n",
            "0            23.06                              163.07                 700   \n",
            "1            -4.93                               21.52                4500   \n",
            "2            -0.39                               31.00                6000   \n",
            "3           -20.71                                9.27                8000   \n",
            "4             6.60                                4.05               19000   \n",
            "..             ...                                 ...                 ...   \n",
            "222           2.98                               19.62                 800   \n",
            "223           0.00                                0.00                   0   \n",
            "224           0.00                               61.50                 800   \n",
            "225           0.00                               88.29                 800   \n",
            "226           0.00                               67.69                1900   \n",
            "\n",
            "     Literacy (%)  ...  Arable (%)  Crops (%)  Other (%)  Climate  Birthrate  \\\n",
            "0            36.0  ...       12.13       0.22      87.65      1.0      46.60   \n",
            "1            86.5  ...       21.09       4.42      74.49      3.0      15.11   \n",
            "2            70.0  ...        3.22       0.25      96.53      1.0      17.14   \n",
            "3            97.0  ...       10.00      15.00      75.00      2.0      22.46   \n",
            "4           100.0  ...        2.22       0.00      97.78      3.0       8.71   \n",
            "..            ...  ...         ...        ...        ...      ...        ...   \n",
            "222           0.0  ...       16.90      18.97      64.13      3.0      31.67   \n",
            "223           0.0  ...        0.02       0.00      99.98      1.0       0.00   \n",
            "224          50.2  ...        2.78       0.24      96.98      1.0      42.89   \n",
            "225          80.6  ...        7.08       0.03      92.90      2.0      41.00   \n",
            "226          90.7  ...        8.32       0.34      91.34      2.0      28.01   \n",
            "\n",
            "     Deathrate  Agriculture  Industry  Service  PopulationPercent  \n",
            "0        20.34        0.380     0.240    0.380           0.476039  \n",
            "1         5.22        0.232     0.188    0.579           0.054899  \n",
            "2         4.61        0.101     0.600    0.298           0.504750  \n",
            "3         3.27        0.000     0.000    0.000           0.000886  \n",
            "4         6.25        0.000     0.000    0.000           0.001091  \n",
            "..         ...          ...       ...      ...                ...  \n",
            "222       3.92        0.090     0.280    0.630           0.037714  \n",
            "223       0.00        0.000     0.000    0.400           0.004185  \n",
            "224       8.30        0.135     0.472    0.393           0.328879  \n",
            "225      19.93        0.220     0.290    0.489           0.176302  \n",
            "226      21.84        0.179     0.243    0.579           0.187565  \n",
            "\n",
            "[227 rows x 21 columns]\n"
          ]
        }
      ]
    },
    {
      "cell_type": "markdown",
      "source": [
        "4. Now we create a new version of the DF"
      ],
      "metadata": {
        "id": "ZUYjUY6w_dj5"
      }
    },
    {
      "cell_type": "code",
      "source": [
        "df.to_csv(\"paises2.csv\", sep=\";\")"
      ],
      "metadata": {
        "id": "chgNtqwA_DjK"
      },
      "execution_count": null,
      "outputs": []
    },
    {
      "cell_type": "markdown",
      "source": [
        "##Making data grouping"
      ],
      "metadata": {
        "id": "l-vJLdsLAlVy"
      }
    },
    {
      "cell_type": "code",
      "source": [
        "group_region = df.groupby('Region')\n",
        "print(group_region.count())"
      ],
      "metadata": {
        "colab": {
          "base_uri": "https://localhost:8080/"
        },
        "id": "mL58r5qs_tRl",
        "outputId": "30bce2f2-d50b-47a7-800d-954bed8e47b2"
      },
      "execution_count": null,
      "outputs": [
        {
          "output_type": "stream",
          "name": "stdout",
          "text": [
            "                                     Country  Population  Area (sq. mi.)  \\\n",
            "Region                                                                     \n",
            "ASIA (EX. NEAR EAST)                      28          28              28   \n",
            "BALTICS                                    3           3               3   \n",
            "C.W. OF IND. STATES                       12          12              12   \n",
            "EASTERN EUROPE                            12          12              12   \n",
            "LATIN AMER. & CARIB                       45          45              45   \n",
            "NEAR EAST                                 16          16              16   \n",
            "NORTHERN AFRICA                            6           6               6   \n",
            "NORTHERN AMERICA                           5           5               5   \n",
            "OCEANIA                                   21          21              21   \n",
            "SUB-SAHARAN AFRICA                        51          51              51   \n",
            "WESTERN EUROPE                            28          28              28   \n",
            "\n",
            "                                     Pop. Density (per sq. mi.)  \\\n",
            "Region                                                            \n",
            "ASIA (EX. NEAR EAST)                                         28   \n",
            "BALTICS                                                       3   \n",
            "C.W. OF IND. STATES                                          12   \n",
            "EASTERN EUROPE                                               12   \n",
            "LATIN AMER. & CARIB                                          45   \n",
            "NEAR EAST                                                    16   \n",
            "NORTHERN AFRICA                                               6   \n",
            "NORTHERN AMERICA                                              5   \n",
            "OCEANIA                                                      21   \n",
            "SUB-SAHARAN AFRICA                                           51   \n",
            "WESTERN EUROPE                                               28   \n",
            "\n",
            "                                     Coastline (coast/area ratio)  \\\n",
            "Region                                                              \n",
            "ASIA (EX. NEAR EAST)                                           28   \n",
            "BALTICS                                                         3   \n",
            "C.W. OF IND. STATES                                            12   \n",
            "EASTERN EUROPE                                                 12   \n",
            "LATIN AMER. & CARIB                                            45   \n",
            "NEAR EAST                                                      16   \n",
            "NORTHERN AFRICA                                                 6   \n",
            "NORTHERN AMERICA                                                5   \n",
            "OCEANIA                                                        21   \n",
            "SUB-SAHARAN AFRICA                                             51   \n",
            "WESTERN EUROPE                                                 28   \n",
            "\n",
            "                                     Net migration  \\\n",
            "Region                                               \n",
            "ASIA (EX. NEAR EAST)                            28   \n",
            "BALTICS                                          3   \n",
            "C.W. OF IND. STATES                             12   \n",
            "EASTERN EUROPE                                  12   \n",
            "LATIN AMER. & CARIB                             45   \n",
            "NEAR EAST                                       16   \n",
            "NORTHERN AFRICA                                  6   \n",
            "NORTHERN AMERICA                                 5   \n",
            "OCEANIA                                         21   \n",
            "SUB-SAHARAN AFRICA                              51   \n",
            "WESTERN EUROPE                                  28   \n",
            "\n",
            "                                     Infant mortality (per 1000 births)  \\\n",
            "Region                                                                    \n",
            "ASIA (EX. NEAR EAST)                                                 28   \n",
            "BALTICS                                                               3   \n",
            "C.W. OF IND. STATES                                                  12   \n",
            "EASTERN EUROPE                                                       12   \n",
            "LATIN AMER. & CARIB                                                  45   \n",
            "NEAR EAST                                                            16   \n",
            "NORTHERN AFRICA                                                       6   \n",
            "NORTHERN AMERICA                                                      5   \n",
            "OCEANIA                                                              21   \n",
            "SUB-SAHARAN AFRICA                                                   51   \n",
            "WESTERN EUROPE                                                       28   \n",
            "\n",
            "                                     GDP ($ per capita)  Literacy (%)  \\\n",
            "Region                                                                  \n",
            "ASIA (EX. NEAR EAST)                                 28            28   \n",
            "BALTICS                                               3             3   \n",
            "C.W. OF IND. STATES                                  12            12   \n",
            "EASTERN EUROPE                                       12            12   \n",
            "LATIN AMER. & CARIB                                  45            45   \n",
            "NEAR EAST                                            16            16   \n",
            "NORTHERN AFRICA                                       6             6   \n",
            "NORTHERN AMERICA                                      5             5   \n",
            "OCEANIA                                              21            21   \n",
            "SUB-SAHARAN AFRICA                                   51            51   \n",
            "WESTERN EUROPE                                       28            28   \n",
            "\n",
            "                                     Phones (per 1000)  Arable (%)  Crops (%)  \\\n",
            "Region                                                                          \n",
            "ASIA (EX. NEAR EAST)                                28          28         28   \n",
            "BALTICS                                              3           3          3   \n",
            "C.W. OF IND. STATES                                 12          12         12   \n",
            "EASTERN EUROPE                                      12          12         12   \n",
            "LATIN AMER. & CARIB                                 45          45         45   \n",
            "NEAR EAST                                           16          16         16   \n",
            "NORTHERN AFRICA                                      6           6          6   \n",
            "NORTHERN AMERICA                                     5           5          5   \n",
            "OCEANIA                                             21          21         21   \n",
            "SUB-SAHARAN AFRICA                                  51          51         51   \n",
            "WESTERN EUROPE                                      28          28         28   \n",
            "\n",
            "                                     Other (%)  Climate  Birthrate  Deathrate  \\\n",
            "Region                                                                          \n",
            "ASIA (EX. NEAR EAST)                        28       28         28         28   \n",
            "BALTICS                                      3        3          3          3   \n",
            "C.W. OF IND. STATES                         12       12         12         12   \n",
            "EASTERN EUROPE                              12       12         12         12   \n",
            "LATIN AMER. & CARIB                         45       45         45         45   \n",
            "NEAR EAST                                   16       16         16         16   \n",
            "NORTHERN AFRICA                              6        6          6          6   \n",
            "NORTHERN AMERICA                             5        5          5          5   \n",
            "OCEANIA                                     21       21         21         21   \n",
            "SUB-SAHARAN AFRICA                          51       51         51         51   \n",
            "WESTERN EUROPE                              28       28         28         28   \n",
            "\n",
            "                                     Agriculture  Industry  Service  \\\n",
            "Region                                                                \n",
            "ASIA (EX. NEAR EAST)                          28        28       28   \n",
            "BALTICS                                        3         3        3   \n",
            "C.W. OF IND. STATES                           12        12       12   \n",
            "EASTERN EUROPE                                12        12       12   \n",
            "LATIN AMER. & CARIB                           45        45       45   \n",
            "NEAR EAST                                     16        16       16   \n",
            "NORTHERN AFRICA                                6         6        6   \n",
            "NORTHERN AMERICA                               5         5        5   \n",
            "OCEANIA                                       21        21       21   \n",
            "SUB-SAHARAN AFRICA                            51        51       51   \n",
            "WESTERN EUROPE                                28        28       28   \n",
            "\n",
            "                                     PopulationPercent  \n",
            "Region                                                  \n",
            "ASIA (EX. NEAR EAST)                                28  \n",
            "BALTICS                                              3  \n",
            "C.W. OF IND. STATES                                 12  \n",
            "EASTERN EUROPE                                      12  \n",
            "LATIN AMER. & CARIB                                 45  \n",
            "NEAR EAST                                           16  \n",
            "NORTHERN AFRICA                                      6  \n",
            "NORTHERN AMERICA                                     5  \n",
            "OCEANIA                                             21  \n",
            "SUB-SAHARAN AFRICA                                  51  \n",
            "WESTERN EUROPE                                      28  \n"
          ]
        }
      ]
    },
    {
      "cell_type": "markdown",
      "source": [
        "This is seriously beautiful"
      ],
      "metadata": {
        "id": "dQfoQXkrA9Af"
      }
    },
    {
      "cell_type": "markdown",
      "source": [
        "###Making an agregation of countries by regions"
      ],
      "metadata": {
        "id": "XECARqwHBygO"
      }
    },
    {
      "cell_type": "code",
      "source": [
        "print(group_region.sum()['Country'].unique())"
      ],
      "metadata": {
        "colab": {
          "base_uri": "https://localhost:8080/"
        },
        "id": "FUF6JV0VA09x",
        "outputId": "3b6dcb9c-d97e-430c-90a3-4170a519ce33"
      },
      "execution_count": null,
      "outputs": [
        {
          "output_type": "stream",
          "name": "stdout",
          "text": [
            "['Afghanistan Bangladesh Bhutan Brunei Burma Cambodia China East Timor Hong Kong India Indonesia Iran Japan Korea, North Korea, South Laos Macau Malaysia Maldives Mongolia Nepal Pakistan Philippines Singapore Sri Lanka Taiwan Thailand Vietnam '\n",
            " 'Estonia Latvia Lithuania '\n",
            " 'Armenia Azerbaijan Belarus Georgia Kazakhstan Kyrgyzstan Moldova Russia Tajikistan Turkmenistan Ukraine Uzbekistan '\n",
            " 'Albania Bosnia & Herzegovina Bulgaria Croatia Czech Republic Hungary Macedonia Poland Romania Serbia Slovakia Slovenia '\n",
            " 'Anguilla Antigua & Barbuda Argentina Aruba Bahamas, The Barbados Belize Bolivia Brazil British Virgin Is. Cayman Islands Chile Colombia Costa Rica Cuba Dominica Dominican Republic Ecuador El Salvador French Guiana Grenada Guadeloupe Guatemala Guyana Haiti Honduras Jamaica Martinique Mexico Montserrat Netherlands Antilles Nicaragua Panama Paraguay Peru Puerto Rico Saint Kitts & Nevis Saint Lucia Saint Vincent and the Grenadines Suriname Trinidad & Tobago Turks & Caicos Is Uruguay Venezuela Virgin Islands '\n",
            " 'Bahrain Cyprus Gaza Strip Iraq Israel Jordan Kuwait Lebanon Oman Qatar Saudi Arabia Syria Turkey United Arab Emirates West Bank Yemen '\n",
            " 'Algeria Egypt Libya Morocco Tunisia Western Sahara '\n",
            " 'Bermuda Canada Greenland St Pierre & Miquelon United States '\n",
            " 'American Samoa Australia Cook Islands Fiji French Polynesia Guam Kiribati Marshall Islands Micronesia, Fed. St. Nauru New Caledonia New Zealand N. Mariana Islands Palau Papua New Guinea Samoa Solomon Islands Tonga Tuvalu Vanuatu Wallis and Futuna '\n",
            " \"Angola Benin Botswana Burkina Faso Burundi Cameroon Cape Verde Central African Rep. Chad Comoros Congo, Dem. Rep. Congo, Repub. of the Cote d'Ivoire Djibouti Equatorial Guinea Eritrea Ethiopia Gabon Gambia, The Ghana Guinea Guinea-Bissau Kenya Lesotho Liberia Madagascar Malawi Mali Mauritania Mauritius Mayotte Mozambique Namibia Niger Nigeria Reunion Rwanda Saint Helena Sao Tome & Principe Senegal Seychelles Sierra Leone Somalia South Africa Sudan Swaziland Tanzania Togo Uganda Zambia Zimbabwe \"\n",
            " 'Andorra Austria Belgium Denmark Faroe Islands Finland France Germany Gibraltar Greece Guernsey Iceland Ireland Isle of Man Italy Jersey Liechtenstein Luxembourg Malta Monaco Netherlands Norway Portugal San Marino Spain Sweden Switzerland United Kingdom ']\n"
          ]
        }
      ]
    },
    {
      "cell_type": "markdown",
      "source": [
        "###Making a sum of each region"
      ],
      "metadata": {
        "id": "OdJ0CmitCK3l"
      }
    },
    {
      "cell_type": "code",
      "source": [
        "print(group_region.sum()['Population'])"
      ],
      "metadata": {
        "colab": {
          "base_uri": "https://localhost:8080/"
        },
        "id": "VcHcWAs-B_G7",
        "outputId": "9abc7f8c-54dc-4e61-df82-377e375bfa0e"
      },
      "execution_count": null,
      "outputs": [
        {
          "output_type": "stream",
          "name": "stdout",
          "text": [
            "Region\n",
            "ASIA (EX. NEAR EAST)                   3687982236\n",
            "BALTICS                                   7184974\n",
            "C.W. OF IND. STATES                     280081548\n",
            "EASTERN EUROPE                          119914717\n",
            "LATIN AMER. & CARIB                     561824599\n",
            "NEAR EAST                               195068377\n",
            "NORTHERN AFRICA                         161407133\n",
            "NORTHERN AMERICA                        331672307\n",
            "OCEANIA                                  33131662\n",
            "SUB-SAHARAN AFRICA                      749437000\n",
            "WESTERN EUROPE                          396339998\n",
            "Name: Population, dtype: int64\n"
          ]
        }
      ]
    },
    {
      "cell_type": "markdown",
      "source": [
        "##Custom functions in Pandas"
      ],
      "metadata": {
        "id": "vBInOXBiCjTz"
      }
    },
    {
      "cell_type": "code",
      "source": [
        "#Function that gives 10% discount\n",
        "def tenpercent(x):\n",
        "  return x*0.9"
      ],
      "metadata": {
        "id": "KWShOiMRCUvG"
      },
      "execution_count": null,
      "outputs": []
    },
    {
      "cell_type": "markdown",
      "source": [
        "###Taking the mortality % of the df"
      ],
      "metadata": {
        "id": "2ivJo4ylDKgj"
      }
    },
    {
      "cell_type": "code",
      "source": [
        "mortality = df['Deathrate']\n",
        "print(mortality)"
      ],
      "metadata": {
        "colab": {
          "base_uri": "https://localhost:8080/"
        },
        "id": "Til-lgOnDJuO",
        "outputId": "04c79b61-d557-4f5a-8d89-b1302a9d68db"
      },
      "execution_count": null,
      "outputs": [
        {
          "output_type": "stream",
          "name": "stdout",
          "text": [
            "0      20.34\n",
            "1       5.22\n",
            "2       4.61\n",
            "3       3.27\n",
            "4       6.25\n",
            "       ...  \n",
            "222     3.92\n",
            "223     0.00\n",
            "224     8.30\n",
            "225    19.93\n",
            "226    21.84\n",
            "Name: Deathrate, Length: 227, dtype: float64\n"
          ]
        }
      ]
    },
    {
      "cell_type": "markdown",
      "source": [
        "###Aplying a 10% discount in the deathrate"
      ],
      "metadata": {
        "id": "KR9sYOJaDanf"
      }
    },
    {
      "cell_type": "code",
      "source": [
        "mortality2 = mortality.apply(tenpercent)\n",
        "print(mortality2)"
      ],
      "metadata": {
        "colab": {
          "base_uri": "https://localhost:8080/"
        },
        "id": "kRRpJdLZDZXN",
        "outputId": "c6d10e3d-95c2-4c47-a0dc-46da5c562a67"
      },
      "execution_count": null,
      "outputs": [
        {
          "output_type": "stream",
          "name": "stdout",
          "text": [
            "0      18.306\n",
            "1       4.698\n",
            "2       4.149\n",
            "3       2.943\n",
            "4       5.625\n",
            "        ...  \n",
            "222     3.528\n",
            "223     0.000\n",
            "224     7.470\n",
            "225    17.937\n",
            "226    19.656\n",
            "Name: Deathrate, Length: 227, dtype: float64\n"
          ]
        }
      ]
    },
    {
      "cell_type": "markdown",
      "source": [
        "##Making a new df with both series"
      ],
      "metadata": {
        "id": "IXXbg0hsDsSp"
      }
    },
    {
      "cell_type": "code",
      "source": [
        "df2 = pd.concat([mortality, mortality2], axis=1)\n",
        "df2"
      ],
      "metadata": {
        "colab": {
          "base_uri": "https://localhost:8080/",
          "height": 423
        },
        "id": "6EdZzLLJDh0e",
        "outputId": "d9f019ee-fcbb-4959-e7a9-a96c8653e44c"
      },
      "execution_count": null,
      "outputs": [
        {
          "output_type": "execute_result",
          "data": {
            "text/plain": [
              "     Deathrate  Deathrate\n",
              "0        20.34     18.306\n",
              "1         5.22      4.698\n",
              "2         4.61      4.149\n",
              "3         3.27      2.943\n",
              "4         6.25      5.625\n",
              "..         ...        ...\n",
              "222       3.92      3.528\n",
              "223       0.00      0.000\n",
              "224       8.30      7.470\n",
              "225      19.93     17.937\n",
              "226      21.84     19.656\n",
              "\n",
              "[227 rows x 2 columns]"
            ],
            "text/html": [
              "\n",
              "  <div id=\"df-1f802ff9-4801-41fa-801f-bffcf6e480ab\" class=\"colab-df-container\">\n",
              "    <div>\n",
              "<style scoped>\n",
              "    .dataframe tbody tr th:only-of-type {\n",
              "        vertical-align: middle;\n",
              "    }\n",
              "\n",
              "    .dataframe tbody tr th {\n",
              "        vertical-align: top;\n",
              "    }\n",
              "\n",
              "    .dataframe thead th {\n",
              "        text-align: right;\n",
              "    }\n",
              "</style>\n",
              "<table border=\"1\" class=\"dataframe\">\n",
              "  <thead>\n",
              "    <tr style=\"text-align: right;\">\n",
              "      <th></th>\n",
              "      <th>Deathrate</th>\n",
              "      <th>Deathrate</th>\n",
              "    </tr>\n",
              "  </thead>\n",
              "  <tbody>\n",
              "    <tr>\n",
              "      <th>0</th>\n",
              "      <td>20.34</td>\n",
              "      <td>18.306</td>\n",
              "    </tr>\n",
              "    <tr>\n",
              "      <th>1</th>\n",
              "      <td>5.22</td>\n",
              "      <td>4.698</td>\n",
              "    </tr>\n",
              "    <tr>\n",
              "      <th>2</th>\n",
              "      <td>4.61</td>\n",
              "      <td>4.149</td>\n",
              "    </tr>\n",
              "    <tr>\n",
              "      <th>3</th>\n",
              "      <td>3.27</td>\n",
              "      <td>2.943</td>\n",
              "    </tr>\n",
              "    <tr>\n",
              "      <th>4</th>\n",
              "      <td>6.25</td>\n",
              "      <td>5.625</td>\n",
              "    </tr>\n",
              "    <tr>\n",
              "      <th>...</th>\n",
              "      <td>...</td>\n",
              "      <td>...</td>\n",
              "    </tr>\n",
              "    <tr>\n",
              "      <th>222</th>\n",
              "      <td>3.92</td>\n",
              "      <td>3.528</td>\n",
              "    </tr>\n",
              "    <tr>\n",
              "      <th>223</th>\n",
              "      <td>0.00</td>\n",
              "      <td>0.000</td>\n",
              "    </tr>\n",
              "    <tr>\n",
              "      <th>224</th>\n",
              "      <td>8.30</td>\n",
              "      <td>7.470</td>\n",
              "    </tr>\n",
              "    <tr>\n",
              "      <th>225</th>\n",
              "      <td>19.93</td>\n",
              "      <td>17.937</td>\n",
              "    </tr>\n",
              "    <tr>\n",
              "      <th>226</th>\n",
              "      <td>21.84</td>\n",
              "      <td>19.656</td>\n",
              "    </tr>\n",
              "  </tbody>\n",
              "</table>\n",
              "<p>227 rows × 2 columns</p>\n",
              "</div>\n",
              "    <div class=\"colab-df-buttons\">\n",
              "\n",
              "  <div class=\"colab-df-container\">\n",
              "    <button class=\"colab-df-convert\" onclick=\"convertToInteractive('df-1f802ff9-4801-41fa-801f-bffcf6e480ab')\"\n",
              "            title=\"Convert this dataframe to an interactive table.\"\n",
              "            style=\"display:none;\">\n",
              "\n",
              "  <svg xmlns=\"http://www.w3.org/2000/svg\" height=\"24px\" viewBox=\"0 -960 960 960\">\n",
              "    <path d=\"M120-120v-720h720v720H120Zm60-500h600v-160H180v160Zm220 220h160v-160H400v160Zm0 220h160v-160H400v160ZM180-400h160v-160H180v160Zm440 0h160v-160H620v160ZM180-180h160v-160H180v160Zm440 0h160v-160H620v160Z\"/>\n",
              "  </svg>\n",
              "    </button>\n",
              "\n",
              "  <style>\n",
              "    .colab-df-container {\n",
              "      display:flex;\n",
              "      gap: 12px;\n",
              "    }\n",
              "\n",
              "    .colab-df-convert {\n",
              "      background-color: #E8F0FE;\n",
              "      border: none;\n",
              "      border-radius: 50%;\n",
              "      cursor: pointer;\n",
              "      display: none;\n",
              "      fill: #1967D2;\n",
              "      height: 32px;\n",
              "      padding: 0 0 0 0;\n",
              "      width: 32px;\n",
              "    }\n",
              "\n",
              "    .colab-df-convert:hover {\n",
              "      background-color: #E2EBFA;\n",
              "      box-shadow: 0px 1px 2px rgba(60, 64, 67, 0.3), 0px 1px 3px 1px rgba(60, 64, 67, 0.15);\n",
              "      fill: #174EA6;\n",
              "    }\n",
              "\n",
              "    .colab-df-buttons div {\n",
              "      margin-bottom: 4px;\n",
              "    }\n",
              "\n",
              "    [theme=dark] .colab-df-convert {\n",
              "      background-color: #3B4455;\n",
              "      fill: #D2E3FC;\n",
              "    }\n",
              "\n",
              "    [theme=dark] .colab-df-convert:hover {\n",
              "      background-color: #434B5C;\n",
              "      box-shadow: 0px 1px 3px 1px rgba(0, 0, 0, 0.15);\n",
              "      filter: drop-shadow(0px 1px 2px rgba(0, 0, 0, 0.3));\n",
              "      fill: #FFFFFF;\n",
              "    }\n",
              "  </style>\n",
              "\n",
              "    <script>\n",
              "      const buttonEl =\n",
              "        document.querySelector('#df-1f802ff9-4801-41fa-801f-bffcf6e480ab button.colab-df-convert');\n",
              "      buttonEl.style.display =\n",
              "        google.colab.kernel.accessAllowed ? 'block' : 'none';\n",
              "\n",
              "      async function convertToInteractive(key) {\n",
              "        const element = document.querySelector('#df-1f802ff9-4801-41fa-801f-bffcf6e480ab');\n",
              "        const dataTable =\n",
              "          await google.colab.kernel.invokeFunction('convertToInteractive',\n",
              "                                                    [key], {});\n",
              "        if (!dataTable) return;\n",
              "\n",
              "        const docLinkHtml = 'Like what you see? Visit the ' +\n",
              "          '<a target=\"_blank\" href=https://colab.research.google.com/notebooks/data_table.ipynb>data table notebook</a>'\n",
              "          + ' to learn more about interactive tables.';\n",
              "        element.innerHTML = '';\n",
              "        dataTable['output_type'] = 'display_data';\n",
              "        await google.colab.output.renderOutput(dataTable, element);\n",
              "        const docLink = document.createElement('div');\n",
              "        docLink.innerHTML = docLinkHtml;\n",
              "        element.appendChild(docLink);\n",
              "      }\n",
              "    </script>\n",
              "  </div>\n",
              "\n",
              "\n",
              "    <div id=\"df-c5f4c704-d6ad-445e-a8f7-57013c6451b2\">\n",
              "      <button class=\"colab-df-quickchart\" onclick=\"quickchart('df-c5f4c704-d6ad-445e-a8f7-57013c6451b2')\"\n",
              "                title=\"Suggest charts\"\n",
              "                style=\"display:none;\">\n",
              "\n",
              "<svg xmlns=\"http://www.w3.org/2000/svg\" height=\"24px\"viewBox=\"0 0 24 24\"\n",
              "     width=\"24px\">\n",
              "    <g>\n",
              "        <path d=\"M19 3H5c-1.1 0-2 .9-2 2v14c0 1.1.9 2 2 2h14c1.1 0 2-.9 2-2V5c0-1.1-.9-2-2-2zM9 17H7v-7h2v7zm4 0h-2V7h2v10zm4 0h-2v-4h2v4z\"/>\n",
              "    </g>\n",
              "</svg>\n",
              "      </button>\n",
              "\n",
              "<style>\n",
              "  .colab-df-quickchart {\n",
              "      --bg-color: #E8F0FE;\n",
              "      --fill-color: #1967D2;\n",
              "      --hover-bg-color: #E2EBFA;\n",
              "      --hover-fill-color: #174EA6;\n",
              "      --disabled-fill-color: #AAA;\n",
              "      --disabled-bg-color: #DDD;\n",
              "  }\n",
              "\n",
              "  [theme=dark] .colab-df-quickchart {\n",
              "      --bg-color: #3B4455;\n",
              "      --fill-color: #D2E3FC;\n",
              "      --hover-bg-color: #434B5C;\n",
              "      --hover-fill-color: #FFFFFF;\n",
              "      --disabled-bg-color: #3B4455;\n",
              "      --disabled-fill-color: #666;\n",
              "  }\n",
              "\n",
              "  .colab-df-quickchart {\n",
              "    background-color: var(--bg-color);\n",
              "    border: none;\n",
              "    border-radius: 50%;\n",
              "    cursor: pointer;\n",
              "    display: none;\n",
              "    fill: var(--fill-color);\n",
              "    height: 32px;\n",
              "    padding: 0;\n",
              "    width: 32px;\n",
              "  }\n",
              "\n",
              "  .colab-df-quickchart:hover {\n",
              "    background-color: var(--hover-bg-color);\n",
              "    box-shadow: 0 1px 2px rgba(60, 64, 67, 0.3), 0 1px 3px 1px rgba(60, 64, 67, 0.15);\n",
              "    fill: var(--button-hover-fill-color);\n",
              "  }\n",
              "\n",
              "  .colab-df-quickchart-complete:disabled,\n",
              "  .colab-df-quickchart-complete:disabled:hover {\n",
              "    background-color: var(--disabled-bg-color);\n",
              "    fill: var(--disabled-fill-color);\n",
              "    box-shadow: none;\n",
              "  }\n",
              "\n",
              "  .colab-df-spinner {\n",
              "    border: 2px solid var(--fill-color);\n",
              "    border-color: transparent;\n",
              "    border-bottom-color: var(--fill-color);\n",
              "    animation:\n",
              "      spin 1s steps(1) infinite;\n",
              "  }\n",
              "\n",
              "  @keyframes spin {\n",
              "    0% {\n",
              "      border-color: transparent;\n",
              "      border-bottom-color: var(--fill-color);\n",
              "      border-left-color: var(--fill-color);\n",
              "    }\n",
              "    20% {\n",
              "      border-color: transparent;\n",
              "      border-left-color: var(--fill-color);\n",
              "      border-top-color: var(--fill-color);\n",
              "    }\n",
              "    30% {\n",
              "      border-color: transparent;\n",
              "      border-left-color: var(--fill-color);\n",
              "      border-top-color: var(--fill-color);\n",
              "      border-right-color: var(--fill-color);\n",
              "    }\n",
              "    40% {\n",
              "      border-color: transparent;\n",
              "      border-right-color: var(--fill-color);\n",
              "      border-top-color: var(--fill-color);\n",
              "    }\n",
              "    60% {\n",
              "      border-color: transparent;\n",
              "      border-right-color: var(--fill-color);\n",
              "    }\n",
              "    80% {\n",
              "      border-color: transparent;\n",
              "      border-right-color: var(--fill-color);\n",
              "      border-bottom-color: var(--fill-color);\n",
              "    }\n",
              "    90% {\n",
              "      border-color: transparent;\n",
              "      border-bottom-color: var(--fill-color);\n",
              "    }\n",
              "  }\n",
              "</style>\n",
              "\n",
              "      <script>\n",
              "        async function quickchart(key) {\n",
              "          const quickchartButtonEl =\n",
              "            document.querySelector('#' + key + ' button');\n",
              "          quickchartButtonEl.disabled = true;  // To prevent multiple clicks.\n",
              "          quickchartButtonEl.classList.add('colab-df-spinner');\n",
              "          try {\n",
              "            const charts = await google.colab.kernel.invokeFunction(\n",
              "                'suggestCharts', [key], {});\n",
              "          } catch (error) {\n",
              "            console.error('Error during call to suggestCharts:', error);\n",
              "          }\n",
              "          quickchartButtonEl.classList.remove('colab-df-spinner');\n",
              "          quickchartButtonEl.classList.add('colab-df-quickchart-complete');\n",
              "        }\n",
              "        (() => {\n",
              "          let quickchartButtonEl =\n",
              "            document.querySelector('#df-c5f4c704-d6ad-445e-a8f7-57013c6451b2 button');\n",
              "          quickchartButtonEl.style.display =\n",
              "            google.colab.kernel.accessAllowed ? 'block' : 'none';\n",
              "        })();\n",
              "      </script>\n",
              "    </div>\n",
              "\n",
              "  <div id=\"id_811589ea-eefe-4a6c-ae15-2120a676d4db\">\n",
              "    <style>\n",
              "      .colab-df-generate {\n",
              "        background-color: #E8F0FE;\n",
              "        border: none;\n",
              "        border-radius: 50%;\n",
              "        cursor: pointer;\n",
              "        display: none;\n",
              "        fill: #1967D2;\n",
              "        height: 32px;\n",
              "        padding: 0 0 0 0;\n",
              "        width: 32px;\n",
              "      }\n",
              "\n",
              "      .colab-df-generate:hover {\n",
              "        background-color: #E2EBFA;\n",
              "        box-shadow: 0px 1px 2px rgba(60, 64, 67, 0.3), 0px 1px 3px 1px rgba(60, 64, 67, 0.15);\n",
              "        fill: #174EA6;\n",
              "      }\n",
              "\n",
              "      [theme=dark] .colab-df-generate {\n",
              "        background-color: #3B4455;\n",
              "        fill: #D2E3FC;\n",
              "      }\n",
              "\n",
              "      [theme=dark] .colab-df-generate:hover {\n",
              "        background-color: #434B5C;\n",
              "        box-shadow: 0px 1px 3px 1px rgba(0, 0, 0, 0.15);\n",
              "        filter: drop-shadow(0px 1px 2px rgba(0, 0, 0, 0.3));\n",
              "        fill: #FFFFFF;\n",
              "      }\n",
              "    </style>\n",
              "    <button class=\"colab-df-generate\" onclick=\"generateWithVariable('df2')\"\n",
              "            title=\"Generate code using this dataframe.\"\n",
              "            style=\"display:none;\">\n",
              "\n",
              "  <svg xmlns=\"http://www.w3.org/2000/svg\" height=\"24px\"viewBox=\"0 0 24 24\"\n",
              "       width=\"24px\">\n",
              "    <path d=\"M7,19H8.4L18.45,9,17,7.55,7,17.6ZM5,21V16.75L18.45,3.32a2,2,0,0,1,2.83,0l1.4,1.43a1.91,1.91,0,0,1,.58,1.4,1.91,1.91,0,0,1-.58,1.4L9.25,21ZM18.45,9,17,7.55Zm-12,3A5.31,5.31,0,0,0,4.9,8.1,5.31,5.31,0,0,0,1,6.5,5.31,5.31,0,0,0,4.9,4.9,5.31,5.31,0,0,0,6.5,1,5.31,5.31,0,0,0,8.1,4.9,5.31,5.31,0,0,0,12,6.5,5.46,5.46,0,0,0,6.5,12Z\"/>\n",
              "  </svg>\n",
              "    </button>\n",
              "    <script>\n",
              "      (() => {\n",
              "      const buttonEl =\n",
              "        document.querySelector('#id_811589ea-eefe-4a6c-ae15-2120a676d4db button.colab-df-generate');\n",
              "      buttonEl.style.display =\n",
              "        google.colab.kernel.accessAllowed ? 'block' : 'none';\n",
              "\n",
              "      buttonEl.onclick = () => {\n",
              "        google.colab.notebook.generateWithVariable('df2');\n",
              "      }\n",
              "      })();\n",
              "    </script>\n",
              "  </div>\n",
              "\n",
              "    </div>\n",
              "  </div>\n"
            ],
            "application/vnd.google.colaboratory.intrinsic+json": {
              "type": "dataframe",
              "variable_name": "df2",
              "summary": "{\n  \"name\": \"df2\",\n  \"rows\": 227,\n  \"fields\": [\n    {\n      \"column\": \"Deathrate\",\n      \"properties\": {\n        \"dtype\": \"number\",\n        \"std\": 5.093580243166806,\n        \"min\": 0.0,\n        \"max\": 29.74,\n        \"num_unique_values\": 202,\n        \"samples\": [\n          11.19,\n          4.14,\n          15.6\n        ],\n        \"semantic_type\": \"\",\n        \"description\": \"\"\n      }\n    },\n    {\n      \"column\": \"Deathrate\",\n      \"properties\": {\n        \"dtype\": \"number\",\n        \"std\": 4.584222218850123,\n        \"min\": 0.0,\n        \"max\": 26.766,\n        \"num_unique_values\": 202,\n        \"samples\": [\n          10.071,\n          3.726,\n          14.04\n        ],\n        \"semantic_type\": \"\",\n        \"description\": \"\"\n      }\n    }\n  ]\n}"
            }
          },
          "metadata": {},
          "execution_count": 44
        }
      ]
    },
    {
      "cell_type": "markdown",
      "source": [
        "###Naming the columns"
      ],
      "metadata": {
        "id": "DHbxtnCUEfKQ"
      }
    },
    {
      "cell_type": "code",
      "source": [
        "df2.columns = ['Deathrate', 'Deathrate With Discount']\n",
        "df2"
      ],
      "metadata": {
        "colab": {
          "base_uri": "https://localhost:8080/",
          "height": 423
        },
        "id": "UaLO2qfzD8Yb",
        "outputId": "d32c3ae7-4ea1-4447-bb3b-07b834f86bb6"
      },
      "execution_count": null,
      "outputs": [
        {
          "output_type": "execute_result",
          "data": {
            "text/plain": [
              "     Deathrate  Deathrate With Discount\n",
              "0        20.34                   18.306\n",
              "1         5.22                    4.698\n",
              "2         4.61                    4.149\n",
              "3         3.27                    2.943\n",
              "4         6.25                    5.625\n",
              "..         ...                      ...\n",
              "222       3.92                    3.528\n",
              "223       0.00                    0.000\n",
              "224       8.30                    7.470\n",
              "225      19.93                   17.937\n",
              "226      21.84                   19.656\n",
              "\n",
              "[227 rows x 2 columns]"
            ],
            "text/html": [
              "\n",
              "  <div id=\"df-d16f1a45-8de7-4523-bd53-0c5266832650\" class=\"colab-df-container\">\n",
              "    <div>\n",
              "<style scoped>\n",
              "    .dataframe tbody tr th:only-of-type {\n",
              "        vertical-align: middle;\n",
              "    }\n",
              "\n",
              "    .dataframe tbody tr th {\n",
              "        vertical-align: top;\n",
              "    }\n",
              "\n",
              "    .dataframe thead th {\n",
              "        text-align: right;\n",
              "    }\n",
              "</style>\n",
              "<table border=\"1\" class=\"dataframe\">\n",
              "  <thead>\n",
              "    <tr style=\"text-align: right;\">\n",
              "      <th></th>\n",
              "      <th>Deathrate</th>\n",
              "      <th>Deathrate With Discount</th>\n",
              "    </tr>\n",
              "  </thead>\n",
              "  <tbody>\n",
              "    <tr>\n",
              "      <th>0</th>\n",
              "      <td>20.34</td>\n",
              "      <td>18.306</td>\n",
              "    </tr>\n",
              "    <tr>\n",
              "      <th>1</th>\n",
              "      <td>5.22</td>\n",
              "      <td>4.698</td>\n",
              "    </tr>\n",
              "    <tr>\n",
              "      <th>2</th>\n",
              "      <td>4.61</td>\n",
              "      <td>4.149</td>\n",
              "    </tr>\n",
              "    <tr>\n",
              "      <th>3</th>\n",
              "      <td>3.27</td>\n",
              "      <td>2.943</td>\n",
              "    </tr>\n",
              "    <tr>\n",
              "      <th>4</th>\n",
              "      <td>6.25</td>\n",
              "      <td>5.625</td>\n",
              "    </tr>\n",
              "    <tr>\n",
              "      <th>...</th>\n",
              "      <td>...</td>\n",
              "      <td>...</td>\n",
              "    </tr>\n",
              "    <tr>\n",
              "      <th>222</th>\n",
              "      <td>3.92</td>\n",
              "      <td>3.528</td>\n",
              "    </tr>\n",
              "    <tr>\n",
              "      <th>223</th>\n",
              "      <td>0.00</td>\n",
              "      <td>0.000</td>\n",
              "    </tr>\n",
              "    <tr>\n",
              "      <th>224</th>\n",
              "      <td>8.30</td>\n",
              "      <td>7.470</td>\n",
              "    </tr>\n",
              "    <tr>\n",
              "      <th>225</th>\n",
              "      <td>19.93</td>\n",
              "      <td>17.937</td>\n",
              "    </tr>\n",
              "    <tr>\n",
              "      <th>226</th>\n",
              "      <td>21.84</td>\n",
              "      <td>19.656</td>\n",
              "    </tr>\n",
              "  </tbody>\n",
              "</table>\n",
              "<p>227 rows × 2 columns</p>\n",
              "</div>\n",
              "    <div class=\"colab-df-buttons\">\n",
              "\n",
              "  <div class=\"colab-df-container\">\n",
              "    <button class=\"colab-df-convert\" onclick=\"convertToInteractive('df-d16f1a45-8de7-4523-bd53-0c5266832650')\"\n",
              "            title=\"Convert this dataframe to an interactive table.\"\n",
              "            style=\"display:none;\">\n",
              "\n",
              "  <svg xmlns=\"http://www.w3.org/2000/svg\" height=\"24px\" viewBox=\"0 -960 960 960\">\n",
              "    <path d=\"M120-120v-720h720v720H120Zm60-500h600v-160H180v160Zm220 220h160v-160H400v160Zm0 220h160v-160H400v160ZM180-400h160v-160H180v160Zm440 0h160v-160H620v160ZM180-180h160v-160H180v160Zm440 0h160v-160H620v160Z\"/>\n",
              "  </svg>\n",
              "    </button>\n",
              "\n",
              "  <style>\n",
              "    .colab-df-container {\n",
              "      display:flex;\n",
              "      gap: 12px;\n",
              "    }\n",
              "\n",
              "    .colab-df-convert {\n",
              "      background-color: #E8F0FE;\n",
              "      border: none;\n",
              "      border-radius: 50%;\n",
              "      cursor: pointer;\n",
              "      display: none;\n",
              "      fill: #1967D2;\n",
              "      height: 32px;\n",
              "      padding: 0 0 0 0;\n",
              "      width: 32px;\n",
              "    }\n",
              "\n",
              "    .colab-df-convert:hover {\n",
              "      background-color: #E2EBFA;\n",
              "      box-shadow: 0px 1px 2px rgba(60, 64, 67, 0.3), 0px 1px 3px 1px rgba(60, 64, 67, 0.15);\n",
              "      fill: #174EA6;\n",
              "    }\n",
              "\n",
              "    .colab-df-buttons div {\n",
              "      margin-bottom: 4px;\n",
              "    }\n",
              "\n",
              "    [theme=dark] .colab-df-convert {\n",
              "      background-color: #3B4455;\n",
              "      fill: #D2E3FC;\n",
              "    }\n",
              "\n",
              "    [theme=dark] .colab-df-convert:hover {\n",
              "      background-color: #434B5C;\n",
              "      box-shadow: 0px 1px 3px 1px rgba(0, 0, 0, 0.15);\n",
              "      filter: drop-shadow(0px 1px 2px rgba(0, 0, 0, 0.3));\n",
              "      fill: #FFFFFF;\n",
              "    }\n",
              "  </style>\n",
              "\n",
              "    <script>\n",
              "      const buttonEl =\n",
              "        document.querySelector('#df-d16f1a45-8de7-4523-bd53-0c5266832650 button.colab-df-convert');\n",
              "      buttonEl.style.display =\n",
              "        google.colab.kernel.accessAllowed ? 'block' : 'none';\n",
              "\n",
              "      async function convertToInteractive(key) {\n",
              "        const element = document.querySelector('#df-d16f1a45-8de7-4523-bd53-0c5266832650');\n",
              "        const dataTable =\n",
              "          await google.colab.kernel.invokeFunction('convertToInteractive',\n",
              "                                                    [key], {});\n",
              "        if (!dataTable) return;\n",
              "\n",
              "        const docLinkHtml = 'Like what you see? Visit the ' +\n",
              "          '<a target=\"_blank\" href=https://colab.research.google.com/notebooks/data_table.ipynb>data table notebook</a>'\n",
              "          + ' to learn more about interactive tables.';\n",
              "        element.innerHTML = '';\n",
              "        dataTable['output_type'] = 'display_data';\n",
              "        await google.colab.output.renderOutput(dataTable, element);\n",
              "        const docLink = document.createElement('div');\n",
              "        docLink.innerHTML = docLinkHtml;\n",
              "        element.appendChild(docLink);\n",
              "      }\n",
              "    </script>\n",
              "  </div>\n",
              "\n",
              "\n",
              "    <div id=\"df-8bfec9ff-6a36-4a8d-b76d-bfe2fd48865d\">\n",
              "      <button class=\"colab-df-quickchart\" onclick=\"quickchart('df-8bfec9ff-6a36-4a8d-b76d-bfe2fd48865d')\"\n",
              "                title=\"Suggest charts\"\n",
              "                style=\"display:none;\">\n",
              "\n",
              "<svg xmlns=\"http://www.w3.org/2000/svg\" height=\"24px\"viewBox=\"0 0 24 24\"\n",
              "     width=\"24px\">\n",
              "    <g>\n",
              "        <path d=\"M19 3H5c-1.1 0-2 .9-2 2v14c0 1.1.9 2 2 2h14c1.1 0 2-.9 2-2V5c0-1.1-.9-2-2-2zM9 17H7v-7h2v7zm4 0h-2V7h2v10zm4 0h-2v-4h2v4z\"/>\n",
              "    </g>\n",
              "</svg>\n",
              "      </button>\n",
              "\n",
              "<style>\n",
              "  .colab-df-quickchart {\n",
              "      --bg-color: #E8F0FE;\n",
              "      --fill-color: #1967D2;\n",
              "      --hover-bg-color: #E2EBFA;\n",
              "      --hover-fill-color: #174EA6;\n",
              "      --disabled-fill-color: #AAA;\n",
              "      --disabled-bg-color: #DDD;\n",
              "  }\n",
              "\n",
              "  [theme=dark] .colab-df-quickchart {\n",
              "      --bg-color: #3B4455;\n",
              "      --fill-color: #D2E3FC;\n",
              "      --hover-bg-color: #434B5C;\n",
              "      --hover-fill-color: #FFFFFF;\n",
              "      --disabled-bg-color: #3B4455;\n",
              "      --disabled-fill-color: #666;\n",
              "  }\n",
              "\n",
              "  .colab-df-quickchart {\n",
              "    background-color: var(--bg-color);\n",
              "    border: none;\n",
              "    border-radius: 50%;\n",
              "    cursor: pointer;\n",
              "    display: none;\n",
              "    fill: var(--fill-color);\n",
              "    height: 32px;\n",
              "    padding: 0;\n",
              "    width: 32px;\n",
              "  }\n",
              "\n",
              "  .colab-df-quickchart:hover {\n",
              "    background-color: var(--hover-bg-color);\n",
              "    box-shadow: 0 1px 2px rgba(60, 64, 67, 0.3), 0 1px 3px 1px rgba(60, 64, 67, 0.15);\n",
              "    fill: var(--button-hover-fill-color);\n",
              "  }\n",
              "\n",
              "  .colab-df-quickchart-complete:disabled,\n",
              "  .colab-df-quickchart-complete:disabled:hover {\n",
              "    background-color: var(--disabled-bg-color);\n",
              "    fill: var(--disabled-fill-color);\n",
              "    box-shadow: none;\n",
              "  }\n",
              "\n",
              "  .colab-df-spinner {\n",
              "    border: 2px solid var(--fill-color);\n",
              "    border-color: transparent;\n",
              "    border-bottom-color: var(--fill-color);\n",
              "    animation:\n",
              "      spin 1s steps(1) infinite;\n",
              "  }\n",
              "\n",
              "  @keyframes spin {\n",
              "    0% {\n",
              "      border-color: transparent;\n",
              "      border-bottom-color: var(--fill-color);\n",
              "      border-left-color: var(--fill-color);\n",
              "    }\n",
              "    20% {\n",
              "      border-color: transparent;\n",
              "      border-left-color: var(--fill-color);\n",
              "      border-top-color: var(--fill-color);\n",
              "    }\n",
              "    30% {\n",
              "      border-color: transparent;\n",
              "      border-left-color: var(--fill-color);\n",
              "      border-top-color: var(--fill-color);\n",
              "      border-right-color: var(--fill-color);\n",
              "    }\n",
              "    40% {\n",
              "      border-color: transparent;\n",
              "      border-right-color: var(--fill-color);\n",
              "      border-top-color: var(--fill-color);\n",
              "    }\n",
              "    60% {\n",
              "      border-color: transparent;\n",
              "      border-right-color: var(--fill-color);\n",
              "    }\n",
              "    80% {\n",
              "      border-color: transparent;\n",
              "      border-right-color: var(--fill-color);\n",
              "      border-bottom-color: var(--fill-color);\n",
              "    }\n",
              "    90% {\n",
              "      border-color: transparent;\n",
              "      border-bottom-color: var(--fill-color);\n",
              "    }\n",
              "  }\n",
              "</style>\n",
              "\n",
              "      <script>\n",
              "        async function quickchart(key) {\n",
              "          const quickchartButtonEl =\n",
              "            document.querySelector('#' + key + ' button');\n",
              "          quickchartButtonEl.disabled = true;  // To prevent multiple clicks.\n",
              "          quickchartButtonEl.classList.add('colab-df-spinner');\n",
              "          try {\n",
              "            const charts = await google.colab.kernel.invokeFunction(\n",
              "                'suggestCharts', [key], {});\n",
              "          } catch (error) {\n",
              "            console.error('Error during call to suggestCharts:', error);\n",
              "          }\n",
              "          quickchartButtonEl.classList.remove('colab-df-spinner');\n",
              "          quickchartButtonEl.classList.add('colab-df-quickchart-complete');\n",
              "        }\n",
              "        (() => {\n",
              "          let quickchartButtonEl =\n",
              "            document.querySelector('#df-8bfec9ff-6a36-4a8d-b76d-bfe2fd48865d button');\n",
              "          quickchartButtonEl.style.display =\n",
              "            google.colab.kernel.accessAllowed ? 'block' : 'none';\n",
              "        })();\n",
              "      </script>\n",
              "    </div>\n",
              "\n",
              "  <div id=\"id_dab322fb-3b26-425e-b88d-1a80c15d0afb\">\n",
              "    <style>\n",
              "      .colab-df-generate {\n",
              "        background-color: #E8F0FE;\n",
              "        border: none;\n",
              "        border-radius: 50%;\n",
              "        cursor: pointer;\n",
              "        display: none;\n",
              "        fill: #1967D2;\n",
              "        height: 32px;\n",
              "        padding: 0 0 0 0;\n",
              "        width: 32px;\n",
              "      }\n",
              "\n",
              "      .colab-df-generate:hover {\n",
              "        background-color: #E2EBFA;\n",
              "        box-shadow: 0px 1px 2px rgba(60, 64, 67, 0.3), 0px 1px 3px 1px rgba(60, 64, 67, 0.15);\n",
              "        fill: #174EA6;\n",
              "      }\n",
              "\n",
              "      [theme=dark] .colab-df-generate {\n",
              "        background-color: #3B4455;\n",
              "        fill: #D2E3FC;\n",
              "      }\n",
              "\n",
              "      [theme=dark] .colab-df-generate:hover {\n",
              "        background-color: #434B5C;\n",
              "        box-shadow: 0px 1px 3px 1px rgba(0, 0, 0, 0.15);\n",
              "        filter: drop-shadow(0px 1px 2px rgba(0, 0, 0, 0.3));\n",
              "        fill: #FFFFFF;\n",
              "      }\n",
              "    </style>\n",
              "    <button class=\"colab-df-generate\" onclick=\"generateWithVariable('df2')\"\n",
              "            title=\"Generate code using this dataframe.\"\n",
              "            style=\"display:none;\">\n",
              "\n",
              "  <svg xmlns=\"http://www.w3.org/2000/svg\" height=\"24px\"viewBox=\"0 0 24 24\"\n",
              "       width=\"24px\">\n",
              "    <path d=\"M7,19H8.4L18.45,9,17,7.55,7,17.6ZM5,21V16.75L18.45,3.32a2,2,0,0,1,2.83,0l1.4,1.43a1.91,1.91,0,0,1,.58,1.4,1.91,1.91,0,0,1-.58,1.4L9.25,21ZM18.45,9,17,7.55Zm-12,3A5.31,5.31,0,0,0,4.9,8.1,5.31,5.31,0,0,0,1,6.5,5.31,5.31,0,0,0,4.9,4.9,5.31,5.31,0,0,0,6.5,1,5.31,5.31,0,0,0,8.1,4.9,5.31,5.31,0,0,0,12,6.5,5.46,5.46,0,0,0,6.5,12Z\"/>\n",
              "  </svg>\n",
              "    </button>\n",
              "    <script>\n",
              "      (() => {\n",
              "      const buttonEl =\n",
              "        document.querySelector('#id_dab322fb-3b26-425e-b88d-1a80c15d0afb button.colab-df-generate');\n",
              "      buttonEl.style.display =\n",
              "        google.colab.kernel.accessAllowed ? 'block' : 'none';\n",
              "\n",
              "      buttonEl.onclick = () => {\n",
              "        google.colab.notebook.generateWithVariable('df2');\n",
              "      }\n",
              "      })();\n",
              "    </script>\n",
              "  </div>\n",
              "\n",
              "    </div>\n",
              "  </div>\n"
            ],
            "application/vnd.google.colaboratory.intrinsic+json": {
              "type": "dataframe",
              "variable_name": "df2",
              "summary": "{\n  \"name\": \"df2\",\n  \"rows\": 227,\n  \"fields\": [\n    {\n      \"column\": \"Deathrate\",\n      \"properties\": {\n        \"dtype\": \"number\",\n        \"std\": 5.093580243166806,\n        \"min\": 0.0,\n        \"max\": 29.74,\n        \"num_unique_values\": 202,\n        \"samples\": [\n          11.19,\n          4.14,\n          15.6\n        ],\n        \"semantic_type\": \"\",\n        \"description\": \"\"\n      }\n    },\n    {\n      \"column\": \"Deathrate With Discount\",\n      \"properties\": {\n        \"dtype\": \"number\",\n        \"std\": 4.584222218850123,\n        \"min\": 0.0,\n        \"max\": 26.766,\n        \"num_unique_values\": 202,\n        \"samples\": [\n          10.071,\n          3.726,\n          14.04\n        ],\n        \"semantic_type\": \"\",\n        \"description\": \"\"\n      }\n    }\n  ]\n}"
            }
          },
          "metadata": {},
          "execution_count": 45
        }
      ]
    },
    {
      "cell_type": "markdown",
      "source": [
        "##Missing Data\n",
        "- Pandas has in-built functions that deals with missing data\n",
        "- The \".dropna()\" function drops the whole line when a single data is missing\n",
        "- Another option is \".fillna(0)\" that fills missing data with 0 so we don't discard the whole line"
      ],
      "metadata": {
        "id": "C-CGlUhYF6Fl"
      }
    }
  ]
}