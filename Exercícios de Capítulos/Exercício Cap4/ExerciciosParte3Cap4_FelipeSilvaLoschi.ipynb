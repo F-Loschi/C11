{
  "nbformat": 4,
  "nbformat_minor": 0,
  "metadata": {
    "colab": {
      "provenance": []
    },
    "kernelspec": {
      "name": "python3",
      "display_name": "Python 3"
    },
    "language_info": {
      "name": "python"
    }
  },
  "cells": [
    {
      "cell_type": "markdown",
      "source": [
        "# Capítulo 4 Parte 3, Exercícios\n",
        "## Nome: Felipe Silva Loschi\n",
        "## Matrícula: GES-601"
      ],
      "metadata": {
        "id": "n_Tgav1wvO3J"
      }
    },
    {
      "cell_type": "markdown",
      "source": [
        "##Importando o dataframe e salvando"
      ],
      "metadata": {
        "id": "GtW8VsfwvcW_"
      }
    },
    {
      "cell_type": "code",
      "execution_count": 11,
      "metadata": {
        "colab": {
          "base_uri": "https://localhost:8080/"
        },
        "id": "QOfQEuM1uGjy",
        "outputId": "34440afd-9e30-4040-ce5a-23c511937044"
      },
      "outputs": [
        {
          "output_type": "stream",
          "name": "stdout",
          "text": [
            "[['\\ufeffNum' 'Company Name' 'Location' ... 'Status Rocket' ' Cost'\n",
            "  'Status Mission']\n",
            " ['0' 'SpaceX' 'LC-39A Kennedy Space Center Florida USA' ...\n",
            "  'StatusActive' '50.0 ' 'Success']\n",
            " ['1' 'CASC' 'Site 9401 (SLS-2) Jiuquan Satellite Launch Center China'\n",
            "  ... 'StatusActive' '29.75 ' 'Success']\n",
            " ...\n",
            " ['4321' 'US Navy' 'LC-18A Cape Canaveral AFS Florida USA' ...\n",
            "  'StatusRetired' '0' 'Failure']\n",
            " ['4322' 'RVSN USSR' 'Site 1/5 Baikonur Cosmodrome Kazakhstan' ...\n",
            "  'StatusRetired' '0' 'Success']\n",
            " ['4323' 'RVSN USSR' 'Site 1/5 Baikonur Cosmodrome Kazakhstan' ...\n",
            "  'StatusRetired' '0' 'Success']]\n"
          ]
        }
      ],
      "source": [
        "import numpy as np\n",
        "\n",
        "df = np.loadtxt('space.csv', delimiter = ';', dtype = str, encoding='utf-8')\n",
        "semtitulo = df[1:,:]\n",
        "print(df)"
      ]
    },
    {
      "cell_type": "markdown",
      "source": [
        "## 1. Apresentando a porcentagem de missões que deram certo"
      ],
      "metadata": {
        "id": "lKPIYoyQvNri"
      }
    },
    {
      "cell_type": "code",
      "source": [
        "missoes = df[1:,-1]\n",
        "print(((missoes[missoes[:] == 'Success'].size)/(missoes.size)*100),\"% de missões foram sucesso\")"
      ],
      "metadata": {
        "colab": {
          "base_uri": "https://localhost:8080/"
        },
        "id": "L6e6Wqo3u_th",
        "outputId": "261d9404-d877-4d28-d678-4f85a0857804"
      },
      "execution_count": 12,
      "outputs": [
        {
          "output_type": "stream",
          "name": "stdout",
          "text": [
            "89.70860314523588 % de missões foram sucesso\n"
          ]
        }
      ]
    },
    {
      "cell_type": "markdown",
      "source": [
        "##2. Qual a média de gastos de uma missão especial se baseando em missões que possuam valores disponíveis (> 0)?"
      ],
      "metadata": {
        "id": "uda6idFXTA8r"
      }
    },
    {
      "cell_type": "code",
      "source": [
        "custo = df[1:,-2].astype(float)\n",
        "print(custo[custo[:] > 0].mean())"
      ],
      "metadata": {
        "colab": {
          "base_uri": "https://localhost:8080/"
        },
        "id": "humyxDmCv71X",
        "outputId": "1a37602e-f884-4010-ec17-f615b174ac39"
      },
      "execution_count": 13,
      "outputs": [
        {
          "output_type": "stream",
          "name": "stdout",
          "text": [
            "153.7921991701245\n"
          ]
        }
      ]
    },
    {
      "cell_type": "markdown",
      "source": [
        "## 3.Encontre quantas missões espaciais neste Dataset foram realizadas pelos Estados Unidos (EUA)"
      ],
      "metadata": {
        "id": "_nP2-kINf1js"
      }
    },
    {
      "cell_type": "code",
      "source": [
        "quem = df[1:,1]\n",
        "display(quem)\n",
        "print(quem[np.char.find(quem,\"US\")==0].size+quem[np.char.find(quem,\"NASA\")==0].size)"
      ],
      "metadata": {
        "colab": {
          "base_uri": "https://localhost:8080/",
          "height": 72
        },
        "id": "xjRtHTcUfNx6",
        "outputId": "7f4c1967-67ec-4310-8648-d1512576f115"
      },
      "execution_count": 14,
      "outputs": [
        {
          "output_type": "display_data",
          "data": {
            "text/plain": [
              "array(['SpaceX', 'CASC', 'SpaceX', ..., 'US Navy', 'RVSN USSR',\n",
              "       'RVSN USSR'], dtype='<U84')"
            ]
          },
          "metadata": {}
        },
        {
          "output_type": "stream",
          "name": "stdout",
          "text": [
            "381\n"
          ]
        }
      ]
    },
    {
      "cell_type": "markdown",
      "source": [
        "##4. Encontre qual foi a missão mais cara realizada pela empresas “SpaceX”"
      ],
      "metadata": {
        "id": "NfOID0xfkaAm"
      }
    },
    {
      "cell_type": "code",
      "source": [
        "#Slicing dos nomes das companhias, dos custos e dos nomes das missões\n",
        "space = df[1:,1]\n",
        "custo = df[1:,-2]\n",
        "nomes = df[1:,-4]\n",
        "#Por via de dúvida, mostrando os custos das missões\n",
        "display(custo[np.char.find(space, \"SpaceX\") == 0].astype(float))\n",
        "#Pegando o maior custo, não seu índex, pois pode haver mais de uma missão que tem o mesmo custo do maior\n",
        "custo_max = custo[np.char.find(space, \"SpaceX\") == 0].astype(float).max()\n",
        "#Guardando o índex de todas as missões com o maior custo\n",
        "idxs_max = np.where(custo[np.char.find(space, \"SpaceX\") == 0].astype(float) == custo_max)[0]\n",
        "#Mostrando tudo\n",
        "print(\"Maior custo:\", custo_max)\n",
        "print(\"Nomes correspondentes:\", nomes[idxs_max])\n"
      ],
      "metadata": {
        "colab": {
          "base_uri": "https://localhost:8080/",
          "height": 256
        },
        "id": "4hRoVcBbgEXp",
        "outputId": "d5a9d1bb-52aa-4f8d-980b-3306b993bbcd"
      },
      "execution_count": 15,
      "outputs": [
        {
          "output_type": "display_data",
          "data": {
            "text/plain": [
              "array([50. ,  0. , 50. , 50. , 50. , 50. , 50. , 50. , 50. , 50. , 50. ,\n",
              "       50. , 50. , 50. , 50. , 50. , 50. , 50. , 50. , 90. , 50. , 50. ,\n",
              "       50. , 90. , 50. , 50. , 50. , 50. , 50. , 50. , 50. , 50. , 50. ,\n",
              "       50. , 50. , 50. , 62. , 62. , 62. , 50. , 62. , 62. , 62. , 62. ,\n",
              "       62. , 90. , 62. , 62. , 62. , 62. , 62. , 62. , 62. , 62. , 62. ,\n",
              "       62. , 62. , 62. , 62. , 62. , 62. , 62. , 62. , 62. , 62. , 62. ,\n",
              "       62. , 62. , 62. , 62. , 62. , 62. , 62. , 62. , 56.5, 62. , 56.5,\n",
              "       56.5, 56.5, 56.5, 56.5, 56.5, 56.5, 56.5, 56.5, 56.5, 56.5, 56.5,\n",
              "       56.5, 56.5, 59.5, 59.5, 59.5, 59.5, 59.5,  7. ,  7. ,  7. ,  7. ,\n",
              "        7. ])"
            ]
          },
          "metadata": {}
        },
        {
          "output_type": "stream",
          "name": "stdout",
          "text": [
            "Maior custo: 90.0\n",
            "Nomes correspondentes: ['Long March 2D | Gaofen-9 03, Pixing III A & HEAD-5'\n",
            " 'Falcon 9 Block 5 | Starlink V1 L7' 'Falcon 9 Block 5 | CRS-20']\n"
          ]
        }
      ]
    },
    {
      "cell_type": "markdown",
      "source": [
        "## 5. Mostre o nome das empresas que já realizaram missões espaciais, juntamente com suas respectivas quantidades de missões (use o for no final para mostrar as informações)"
      ],
      "metadata": {
        "id": "IW7Jkhsurd2I"
      }
    },
    {
      "cell_type": "code",
      "source": [
        "#Slicing dos nomes das companhias\n",
        "companies = df[1:,1]\n",
        "companiesU = np.unique(companies)\n",
        "for company in companiesU:\n",
        "  print(f\"A companhia {company} já realizou\", companies[companies[:] == company].size, \"missões.\")"
      ],
      "metadata": {
        "id": "9Xbm88T7lJzC",
        "colab": {
          "base_uri": "https://localhost:8080/"
        },
        "outputId": "bffbfb65-83df-4415-8b46-54f1b7fd1547"
      },
      "execution_count": 23,
      "outputs": [
        {
          "output_type": "stream",
          "name": "stdout",
          "text": [
            "A companhia AEB já realizou 3 missões.\n",
            "A companhia AMBA já realizou 8 missões.\n",
            "A companhia ASI já realizou 9 missões.\n",
            "A companhia Arianespace já realizou 279 missões.\n",
            "A companhia Arm??e de l'Air já realizou 4 missões.\n",
            "A companhia Blue Origin já realizou 12 missões.\n",
            "A companhia Boeing já realizou 136 missões.\n",
            "A companhia CASC já realizou 251 missões.\n",
            "A companhia CASIC já realizou 5 missões.\n",
            "A companhia CECLES já realizou 4 missões.\n",
            "A companhia CNES já realizou 8 missões.\n",
            "A companhia Douglas já realizou 1 missões.\n",
            "A companhia EER já realizou 1 missões.\n",
            "A companhia ESA já realizou 13 missões.\n",
            "A companhia Eurockot já realizou 13 missões.\n",
            "A companhia ExPace já realizou 10 missões.\n",
            "A companhia Exos já realizou 4 missões.\n",
            "A companhia General Dynamics já realizou 251 missões.\n",
            "A companhia IAI já realizou 11 missões.\n",
            "A companhia ILS já realizou 46 missões.\n",
            "A companhia IRGC já realizou 1 missões.\n",
            "A companhia ISA já realizou 13 missões.\n",
            "A companhia ISAS já realizou 30 missões.\n",
            "A companhia ISRO já realizou 76 missões.\n",
            "A companhia JAXA já realizou 7 missões.\n",
            "A companhia KARI já realizou 3 missões.\n",
            "A companhia KCST já realizou 5 missões.\n",
            "A companhia Khrunichev já realizou 1 missões.\n",
            "A companhia Kosmotras já realizou 22 missões.\n",
            "A companhia Land Launch já realizou 7 missões.\n",
            "A companhia Landspace já realizou 1 missões.\n",
            "A companhia Lockheed já realizou 79 missões.\n",
            "A companhia MHI já realizou 84 missões.\n",
            "A companhia MITT já realizou 7 missões.\n",
            "A companhia Martin Marietta já realizou 114 missões.\n",
            "A companhia NASA já realizou 203 missões.\n",
            "A companhia Northrop já realizou 83 missões.\n",
            "A companhia OKB-586 já realizou 2 missões.\n",
            "A companhia OneSpace já realizou 1 missões.\n",
            "A companhia RAE já realizou 2 missões.\n",
            "A companhia RVSN USSR já realizou 1777 missões.\n",
            "A companhia Rocket Lab já realizou 13 missões.\n",
            "A companhia Roscosmos já realizou 55 missões.\n",
            "A companhia SRC já realizou 3 missões.\n",
            "A companhia Sandia já realizou 1 missões.\n",
            "A companhia Sea Launch já realizou 36 missões.\n",
            "A companhia SpaceX já realizou 100 missões.\n",
            "A companhia Starsem já realizou 1 missões.\n",
            "A companhia ULA já realizou 140 missões.\n",
            "A companhia US Air Force já realizou 161 missões.\n",
            "A companhia US Navy já realizou 17 missões.\n",
            "A companhia UT já realizou 5 missões.\n",
            "A companhia VKS RF já realizou 201 missões.\n",
            "A companhia Virgin Orbit já realizou 1 missões.\n",
            "A companhia Yuzhmash já realizou 2 missões.\n",
            "A companhia i-Space já realizou 1 missões.\n"
          ]
        }
      ]
    }
  ]
}