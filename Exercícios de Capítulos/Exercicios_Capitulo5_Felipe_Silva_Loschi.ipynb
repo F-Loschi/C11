{
  "nbformat": 4,
  "nbformat_minor": 0,
  "metadata": {
    "colab": {
      "provenance": []
    },
    "kernelspec": {
      "name": "python3",
      "display_name": "Python 3"
    },
    "language_info": {
      "name": "python"
    }
  },
  "cells": [
    {
      "cell_type": "markdown",
      "source": [
        "# Exercícios Capítulo 5"
      ],
      "metadata": {
        "id": "5AwGuOe0mZ2i"
      }
    },
    {
      "cell_type": "markdown",
      "source": [
        "## Nome: Felipe Silva Loschi\n",
        "## Matrícula: 601"
      ],
      "metadata": {
        "id": "pH32qiVTmI51"
      }
    },
    {
      "cell_type": "markdown",
      "source": [
        "##Exercícios(Parte 1)"
      ],
      "metadata": {
        "id": "_d03GzHrmRl8"
      }
    },
    {
      "cell_type": "code",
      "source": [
        "import pandas as pd\n",
        "import numpy as np"
      ],
      "metadata": {
        "id": "Y47TOSOGnJVp"
      },
      "execution_count": 28,
      "outputs": []
    },
    {
      "cell_type": "markdown",
      "source": [
        "### 1."
      ],
      "metadata": {
        "id": "b3MyhGmPmoJ3"
      }
    },
    {
      "cell_type": "code",
      "execution_count": 29,
      "metadata": {
        "colab": {
          "base_uri": "https://localhost:8080/"
        },
        "id": "ubTmVR5zl8PJ",
        "outputId": "8f1a4260-6cae-4a74-847f-d36f0b83431c"
      },
      "outputs": [
        {
          "output_type": "stream",
          "name": "stdout",
          "text": [
            "Java      16.25\n",
            "C         16.04\n",
            "Python     9.85\n",
            "dtype: float64\n",
            "C         16.04\n",
            "Python    12.12\n",
            "Java      11.68\n",
            "dtype: float64\n"
          ]
        }
      ],
      "source": [
        "dic1 = {'Java': 16.25, 'C':16.04, 'Python':9.85}\n",
        "dic2 = {'C':16.04, 'Python':12.12, 'Java': 11.68}\n",
        "\n",
        "seriesAno1 = pd.Series(dic1)\n",
        "seriessAno2 = pd.Series(dic2)\n",
        "\n",
        "print(seriesAno1)\n",
        "print(seriessAno2)\n"
      ]
    },
    {
      "cell_type": "markdown",
      "source": [
        "###2."
      ],
      "metadata": {
        "id": "fSGcPjsMnae5"
      }
    },
    {
      "cell_type": "code",
      "source": [
        "print(f\"{seriesAno1.sum()}%\")\n",
        "print(f\"{seriessAno2.sum():.2f}%\")"
      ],
      "metadata": {
        "colab": {
          "base_uri": "https://localhost:8080/"
        },
        "id": "Yjj_17lDnVuX",
        "outputId": "f2ded5e4-fc9c-45e7-aa2d-865debf3cbce"
      },
      "execution_count": 30,
      "outputs": [
        {
          "output_type": "stream",
          "name": "stdout",
          "text": [
            "42.14%\n",
            "39.84%\n"
          ]
        }
      ]
    },
    {
      "cell_type": "markdown",
      "source": [
        "###3."
      ],
      "metadata": {
        "id": "JAz1_vhMs53v"
      }
    },
    {
      "cell_type": "code",
      "source": [
        "print(f\"Para cada linguagem: \\n{seriesAno1.sub(seriessAno2)}\")"
      ],
      "metadata": {
        "colab": {
          "base_uri": "https://localhost:8080/"
        },
        "id": "Lz-5v0DRoOwL",
        "outputId": "ad74789a-fb5b-46c9-9deb-08214740ed97"
      },
      "execution_count": 31,
      "outputs": [
        {
          "output_type": "stream",
          "name": "stdout",
          "text": [
            "Para cada linguagem: \n",
            "C         0.00\n",
            "Java      4.57\n",
            "Python   -2.27\n",
            "dtype: float64\n"
          ]
        }
      ]
    },
    {
      "cell_type": "markdown",
      "source": [
        "###4."
      ],
      "metadata": {
        "id": "4M694XHXtZYJ"
      }
    },
    {
      "cell_type": "code",
      "source": [
        "print(f\"Linguagens que apenas cresceram: \\n{seriesAno1.sub(seriessAno2)[seriesAno1.sub(seriessAno2)>0]}\")"
      ],
      "metadata": {
        "colab": {
          "base_uri": "https://localhost:8080/"
        },
        "id": "89JwIm4gtL-n",
        "outputId": "0f7d6c0d-4cd2-4885-cab3-199939663d6f"
      },
      "execution_count": 32,
      "outputs": [
        {
          "output_type": "stream",
          "name": "stdout",
          "text": [
            "Linguagens que apenas cresceram: \n",
            "Java    4.57\n",
            "dtype: float64\n"
          ]
        }
      ]
    },
    {
      "cell_type": "markdown",
      "source": [
        "###5."
      ],
      "metadata": {
        "id": "uIG5D9xT_E-b"
      }
    },
    {
      "cell_type": "code",
      "source": [
        "print(f\"Baseado no crescimento da %, a mais famosa em 2 anos será: \\n{seriesAno1.add(2*seriesAno1.sub(seriessAno2)).nlargest(1)}\")"
      ],
      "metadata": {
        "id": "C-GQ4ms6tkEI",
        "colab": {
          "base_uri": "https://localhost:8080/"
        },
        "outputId": "c47bfbcf-243e-4650-f8dd-6e0ac55d204d"
      },
      "execution_count": 33,
      "outputs": [
        {
          "output_type": "stream",
          "name": "stdout",
          "text": [
            "Baseado no crescimento da %, a mais famosa em 2 anos será: \n",
            "Java    25.39\n",
            "dtype: float64\n"
          ]
        }
      ]
    },
    {
      "cell_type": "markdown",
      "source": [
        "##Exercícios(Parte 2)"
      ],
      "metadata": {
        "id": "48pmvq2oArtG"
      }
    },
    {
      "cell_type": "markdown",
      "source": [
        "###6."
      ],
      "metadata": {
        "id": "gLmLcQAfAzW9"
      }
    },
    {
      "cell_type": "code",
      "source": [
        "np.random.seed(10)\n",
        "df = pd.DataFrame(index = ['A', 'B', 'C', 'D', 'E'],\n",
        "                  columns=['W', 'X', 'Y', 'Z'],\n",
        "                  data = np.random.randint(1, 100, (5, 4)))"
      ],
      "metadata": {
        "id": "j3PzWcpGAd-9"
      },
      "execution_count": 34,
      "outputs": []
    },
    {
      "cell_type": "code",
      "source": [
        "print(f\"{df[df<30]['X'].mean():.4f}\")"
      ],
      "metadata": {
        "colab": {
          "base_uri": "https://localhost:8080/"
        },
        "id": "yIVbo9dCBiAT",
        "outputId": "30cddb67-5b23-4c0e-d8cc-e0ad9fa9429a"
      },
      "execution_count": 35,
      "outputs": [
        {
          "output_type": "stream",
          "name": "stdout",
          "text": [
            "9.6667\n"
          ]
        }
      ]
    },
    {
      "cell_type": "markdown",
      "source": [
        "###7."
      ],
      "metadata": {
        "id": "37Jh-YewCXfs"
      }
    },
    {
      "cell_type": "code",
      "source": [
        "print(f\"Média dos elementos da linha D: {df.loc['D'].mean()}\")"
      ],
      "metadata": {
        "colab": {
          "base_uri": "https://localhost:8080/"
        },
        "id": "3q-VrtptBxZ0",
        "outputId": "a9323e0d-b952-442a-b8b1-45020d818186"
      },
      "execution_count": 36,
      "outputs": [
        {
          "output_type": "stream",
          "name": "stdout",
          "text": [
            "Média dos elementos da linha D: 43.25\n"
          ]
        }
      ]
    },
    {
      "cell_type": "code",
      "source": [
        "print(f\"Soma dos elementos da linha E:{df.iloc[-1,:].sum()}\")"
      ],
      "metadata": {
        "colab": {
          "base_uri": "https://localhost:8080/"
        },
        "id": "9Ni-H_lhCxzl",
        "outputId": "4d715598-8077-42c5-a3af-7f50595e6d0d"
      },
      "execution_count": 37,
      "outputs": [
        {
          "output_type": "stream",
          "name": "stdout",
          "text": [
            "Soma dos elementos da linha E:249\n"
          ]
        }
      ]
    },
    {
      "cell_type": "markdown",
      "source": [
        "###8."
      ],
      "metadata": {
        "id": "PTIAQJl6DPK4"
      }
    },
    {
      "cell_type": "code",
      "source": [
        "df_slicing = df.loc[['A', 'C', 'E'], ['X', 'Y']]\n",
        "print(f\"DataFrame resultante: \\n{df_slicing}\")"
      ],
      "metadata": {
        "colab": {
          "base_uri": "https://localhost:8080/"
        },
        "id": "0-ZqbIL5DHh0",
        "outputId": "8a355cc6-2c3d-45a3-ebc4-40c64d4822e2"
      },
      "execution_count": 38,
      "outputs": [
        {
          "output_type": "stream",
          "name": "stdout",
          "text": [
            "DataFrame resultante: \n",
            "    X   Y\n",
            "A  16  65\n",
            "C   1  41\n",
            "E  34  73\n"
          ]
        }
      ]
    },
    {
      "cell_type": "code",
      "source": [
        "print(f\"Soma das linhas do DataFrame: \\n{df_slicing.sum(axis=1)}\")"
      ],
      "metadata": {
        "colab": {
          "base_uri": "https://localhost:8080/"
        },
        "id": "kQ-Nl2HQEJtt",
        "outputId": "072bf12f-e43a-4306-cf94-1263da1032c5"
      },
      "execution_count": 42,
      "outputs": [
        {
          "output_type": "stream",
          "name": "stdout",
          "text": [
            "Soma das linhas do DataFrame: \n",
            "A     81\n",
            "C     42\n",
            "E    107\n",
            "dtype: int64\n"
          ]
        }
      ]
    },
    {
      "cell_type": "code",
      "source": [
        "print(f\"Soma das colunas do DataFrame: \\n{df_slicing.sum(axis=0)}\")"
      ],
      "metadata": {
        "colab": {
          "base_uri": "https://localhost:8080/"
        },
        "id": "Hx36U4o_DxbQ",
        "outputId": "23abea86-f856-4543-8fc3-84a90c2c22f1"
      },
      "execution_count": 43,
      "outputs": [
        {
          "output_type": "stream",
          "name": "stdout",
          "text": [
            "Soma das colunas do DataFrame: \n",
            "X     51\n",
            "Y    179\n",
            "dtype: int64\n"
          ]
        }
      ]
    }
  ]
}