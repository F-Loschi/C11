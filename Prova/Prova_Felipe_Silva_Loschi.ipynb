{
  "nbformat": 4,
  "nbformat_minor": 0,
  "metadata": {
    "colab": {
      "provenance": []
    },
    "kernelspec": {
      "name": "python3",
      "display_name": "Python 3"
    },
    "language_info": {
      "name": "python"
    }
  },
  "cells": [
    {
      "cell_type": "markdown",
      "source": [
        "# Primeira prova de C11\n",
        "##Nome: Felipe Silva Loschi\n",
        "##Matrícula: 601"
      ],
      "metadata": {
        "id": "YDfikr__Iqs_"
      }
    },
    {
      "cell_type": "markdown",
      "source": [
        "##Importando numpy e criando DataSet"
      ],
      "metadata": {
        "id": "xTyIILdVI_t2"
      }
    },
    {
      "cell_type": "code",
      "execution_count": 2,
      "metadata": {
        "colab": {
          "base_uri": "https://localhost:8080/"
        },
        "id": "OpADFPVEIhRQ",
        "outputId": "442a3d09-f80a-47b1-a25f-e68ac823d9d3"
      },
      "outputs": [
        {
          "output_type": "stream",
          "name": "stdout",
          "text": [
            "[['Customer ID' 'Age' 'Gender' ... 'Previous Purchases' 'Payment Method'\n",
            "  'Frequency of Purchases']\n",
            " ['1' '55' 'Male' ... '14' 'Venmo' 'Fortnightly']\n",
            " ['2' '19' 'Male' ... '2' 'Cash' 'Fortnightly']\n",
            " ...\n",
            " ['3898' '46' 'Female' ... '24' 'Venmo' 'Quarterly']\n",
            " ['3899' '44' 'Female' ... '24' 'Venmo' 'Weekly']\n",
            " ['3900' '52' 'Female' ... '33' 'Venmo' 'Quarterly']]\n"
          ]
        }
      ],
      "source": [
        "import numpy as np\n",
        "ds = np.loadtxt('/content/shopping_trends.csv',delimiter = ',', dtype = str, encoding='utf-8')\n",
        "print(ds)"
      ]
    },
    {
      "cell_type": "markdown",
      "source": [
        "##Questão 1: Mostre qual a média de idade dos homens presentes neste dataset"
      ],
      "metadata": {
        "id": "E428CL-tJdOF"
      }
    },
    {
      "cell_type": "code",
      "source": [
        "homens = np.char.find(ds[1:,2],\"Male\")==0\n",
        "idade = ds[1:,1].astype(int)\n",
        "print(f'Média da idade dos homens no DS: {idade[homens].mean():.2f}')"
      ],
      "metadata": {
        "colab": {
          "base_uri": "https://localhost:8080/"
        },
        "id": "IK7bKLuaJTt-",
        "outputId": "a33d7a9b-2908-4605-fc00-239976248ae7"
      },
      "execution_count": 14,
      "outputs": [
        {
          "output_type": "stream",
          "name": "stdout",
          "text": [
            "Média da idade dos homens no DS: 44.10\n"
          ]
        }
      ]
    },
    {
      "cell_type": "markdown",
      "source": [
        "##Questão 2: Mostre quantos clientes gastaram mais que a média de gastos das compras deste dataset"
      ],
      "metadata": {
        "id": "7OVMOeMDLAnF"
      }
    },
    {
      "cell_type": "code",
      "source": [
        "gastos = ds[1:, 5].astype(float)\n",
        "media = gastos.mean()\n",
        "gastaramMais = gastos[gastos > media]\n",
        "print(f'Quantidade de clientes que gastaram mais que a média: {gastaramMais.size}')"
      ],
      "metadata": {
        "colab": {
          "base_uri": "https://localhost:8080/"
        },
        "id": "jzzQQlONLKHq",
        "outputId": "f2a7a87b-f8ca-40fe-ccd2-413d91f99bb6"
      },
      "execution_count": 22,
      "outputs": [
        {
          "output_type": "stream",
          "name": "stdout",
          "text": [
            "Quantidade de clientes que gastaram mais que a média: 1963\n"
          ]
        }
      ]
    },
    {
      "cell_type": "markdown",
      "source": [
        "##Questão 3: Mostre qual é a porcentagem de vendas do item menos vendido da loja"
      ],
      "metadata": {
        "id": "0Jw2pwl4MXL_"
      }
    },
    {
      "cell_type": "code",
      "source": [
        "itens, quantidade = np.unique(ds[1:,3], return_counts=True)\n",
        "index = np.where(quantidade == quantidade.min())[0]\n",
        "#print(index.size) -> Print: 1\n",
        "#Como deu apenas 1, significa que apenas um item é o menos vendido da loja,\n",
        "#então eu posso pegar a quantidade de vendas dele\n",
        "porcentagem = (quantidade.min()/quantidade.sum())*100\n",
        "print(f\"Porcentagem de vendas do item menos vendido da loja: {porcentagem:.6f}%\")"
      ],
      "metadata": {
        "colab": {
          "base_uri": "https://localhost:8080/"
        },
        "id": "s-VfO7SALbKl",
        "outputId": "ac28440b-dd19-461d-f1c0-afca8ed393df"
      },
      "execution_count": 81,
      "outputs": [
        {
          "output_type": "stream",
          "name": "stdout",
          "text": [
            "Porcentagem de vendas do item menos vendido da loja: 3.179487%\n"
          ]
        }
      ]
    },
    {
      "cell_type": "markdown",
      "source": [
        "##Questão 4: Mostre qual é a porcentagem de vendas que tiveram algum tipo de disconto"
      ],
      "metadata": {
        "id": "_hnwN1jyO6Ij"
      }
    },
    {
      "cell_type": "code",
      "source": [
        "desconto = ds[1:,-5]\n",
        "tiveramDesconto = np.char.find(ds[1:,-5],\"Yes\")==0\n",
        "print(f'Porcentagem de vendas que tiveram algum tipo de disconto: {(desconto[tiveramDesconto].size/desconto.size)*100:.6f}%')"
      ],
      "metadata": {
        "colab": {
          "base_uri": "https://localhost:8080/"
        },
        "id": "TsZ0et8eMv9S",
        "outputId": "316c8a22-b13a-4afd-f8b6-122a0ef18d7c"
      },
      "execution_count": 78,
      "outputs": [
        {
          "output_type": "stream",
          "name": "stdout",
          "text": [
            "Porcentagem de vendas que tiveram algum tipo de disconto: 43.000000%\n"
          ]
        }
      ]
    },
    {
      "cell_type": "markdown",
      "source": [
        "##Questão 5: Mostre qual a cor de roupa mais popular no verão segundo este dataset"
      ],
      "metadata": {
        "id": "MQpLfqfQQ3zv"
      }
    },
    {
      "cell_type": "code",
      "source": [
        "cor = ds[1:,8]\n",
        "season = ds[1:,9]\n",
        "verao = np.char.find(season,\"Summer\")==0\n",
        "corVerao, quantidade = np.unique(cor[verao], return_counts=True)\n",
        "corQuantidade = np.column_stack((corVerao,quantidade))\n",
        "print(corQuantidade)\n",
        "print(f\"A cor de roupa mais popular no verão é: {corVerao[np.where(quantidade == quantidade.max())]}\")"
      ],
      "metadata": {
        "colab": {
          "base_uri": "https://localhost:8080/"
        },
        "id": "JgYeEnuNRDqm",
        "outputId": "8e8a5bc4-b555-46e7-a856-061a22901399"
      },
      "execution_count": 76,
      "outputs": [
        {
          "output_type": "stream",
          "name": "stdout",
          "text": [
            "[['Beige' '37']\n",
            " ['Black' '42']\n",
            " ['Blue' '46']\n",
            " ['Brown' '33']\n",
            " ['Charcoal' '36']\n",
            " ['Cyan' '42']\n",
            " ['Gold' '30']\n",
            " ['Gray' '40']\n",
            " ['Green' '44']\n",
            " ['Indigo' '32']\n",
            " ['Lavender' '39']\n",
            " ['Magenta' '35']\n",
            " ['Maroon' '35']\n",
            " ['Olive' '35']\n",
            " ['Orange' '37']\n",
            " ['Peach' '24']\n",
            " ['Pink' '29']\n",
            " ['Purple' '38']\n",
            " ['Red' '36']\n",
            " ['Silver' '59']\n",
            " ['Teal' '49']\n",
            " ['Turquoise' '36']\n",
            " ['Violet' '40']\n",
            " ['White' '43']\n",
            " ['Yellow' '38']]\n",
            "A cor de roupa mais popular no verão é: ['Silver']\n"
          ]
        }
      ]
    }
  ]
}